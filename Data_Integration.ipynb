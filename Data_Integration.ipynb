{
  "nbformat": 4,
  "nbformat_minor": 0,
  "metadata": {
    "colab": {
      "provenance": [],
      "authorship_tag": "ABX9TyOncKbBCLIrLyaTIOgYS3CC",
      "include_colab_link": true
    },
    "kernelspec": {
      "name": "python3",
      "display_name": "Python 3"
    },
    "language_info": {
      "name": "python"
    }
  },
  "cells": [
    {
      "cell_type": "markdown",
      "metadata": {
        "id": "view-in-github",
        "colab_type": "text"
      },
      "source": [
        "<a href=\"https://colab.research.google.com/github/avk1943/MS-Project/blob/main/Data_Integration.ipynb\" target=\"_parent\"><img src=\"https://colab.research.google.com/assets/colab-badge.svg\" alt=\"Open In Colab\"/></a>"
      ]
    },
    {
      "cell_type": "code",
      "execution_count": null,
      "metadata": {
        "colab": {
          "base_uri": "https://localhost:8080/"
        },
        "id": "qJApbGL9Jb-3",
        "outputId": "9694c5eb-f397-4335-b5a5-e6659ec14d1f"
      },
      "outputs": [
        {
          "output_type": "stream",
          "name": "stdout",
          "text": [
            "Drive already mounted at /content/drive; to attempt to forcibly remount, call drive.mount(\"/content/drive\", force_remount=True).\n"
          ]
        }
      ],
      "source": [
        "from google.colab import drive\n",
        "drive.mount('/content/drive')"
      ]
    },
    {
      "cell_type": "code",
      "source": [
        "import os\n",
        "import numpy as np\n",
        "import h5py"
      ],
      "metadata": {
        "id": "Ht_JEPa-JgLl"
      },
      "execution_count": null,
      "outputs": []
    },
    {
      "cell_type": "code",
      "source": [
        "dir_name = r'/content/drive/MyDrive/Extract_Driving_Events'\n",
        "\n",
        "files_in_dir = [os.path.join(path, file) for path, dirs,\n",
        "                files in os.walk(dir_name) for file in files]\n",
        "print(files_in_dir)"
      ],
      "metadata": {
        "colab": {
          "base_uri": "https://localhost:8080/"
        },
        "id": "QHE6QeL4KPFP",
        "outputId": "b94e8379-d201-4821-f2ed-982f91339993"
      },
      "execution_count": null,
      "outputs": [
        {
          "output_type": "stream",
          "name": "stdout",
          "text": [
            "['/content/drive/MyDrive/Extract_Driving_Events/s01_060227n_event_data.mat', '/content/drive/MyDrive/Extract_Driving_Events/s01_060926_1n_event_data.mat', '/content/drive/MyDrive/Extract_Driving_Events/s01_060926_2n_event_data.mat', '/content/drive/MyDrive/Extract_Driving_Events/s02_050921m_event_data.mat', '/content/drive/MyDrive/Extract_Driving_Events/s02_051115m_event_data.mat', '/content/drive/MyDrive/Extract_Driving_Events/s04_051130m_event_data.mat', '/content/drive/MyDrive/Extract_Driving_Events/s05_051120m_event_data.mat', '/content/drive/MyDrive/Extract_Driving_Events/s05_060308n_event_data.mat', '/content/drive/MyDrive/Extract_Driving_Events/s05_061019m_event_data.mat', '/content/drive/MyDrive/Extract_Driving_Events/s05_061101n_event_data.mat', '/content/drive/MyDrive/Extract_Driving_Events/s06_051119m_event_data.mat', '/content/drive/MyDrive/Extract_Driving_Events/s09_060313n_event_data.mat']\n"
          ]
        }
      ]
    },
    {
      "cell_type": "code",
      "source": [
        "m_X = np.empty((0, 30, 1000), float)\n",
        "m_y = np.empty((0,), int)\n",
        "\n",
        "\n",
        "for file_name in files_in_dir:\n",
        "  f = h5py.File(file_name,'r')\n",
        "  print(file_name)\n",
        "  data = f.get('driver_baseline/eegData')\n",
        "  data = np.array(data) # For converting to a NumPy array\n",
        "\n",
        "  data = f.get('driver_baseline/eegData')\n",
        "  data = np.array(data)\n",
        "  baseline = np.zeros((0,f.get(data[0][0]).shape[1]))\n",
        "  for i in range(data.shape[0]):\n",
        "    dataset =  f.get(data[i][0])\n",
        "    temp = np.zeros(dataset.shape)\n",
        "    f.get(data[i][0]).read_direct(temp)\n",
        "    baseline = np.concatenate((baseline,temp))\n",
        "  #print(baseline.shape)\n",
        "\n",
        "  data = f.get('driver_baseline/eegTime')\n",
        "  data = np.array(data)\n",
        "  baselineT = np.zeros((0,f.get(data[0][0]).shape[1]))\n",
        "  for i in range(data.shape[0]):\n",
        "    dataset =  f.get(data[i][0])\n",
        "    temp = np.zeros(dataset.shape)\n",
        "    f.get(data[i][0]).read_direct(temp)\n",
        "    baselineT = np.concatenate((baselineT,temp))\n",
        "  #print(baselineT.shape)\n",
        "\n",
        "  data = f.get('driver_correction/eegData')\n",
        "  data = np.array(data)\n",
        "  correction = np.zeros((0,f.get(data[0][0]).shape[1]))\n",
        "  for i in range(data.shape[0]):\n",
        "    dataset =  f.get(data[i][0])\n",
        "    temp = np.zeros(dataset.shape)\n",
        "    f.get(data[i][0]).read_direct(temp)\n",
        "    correction = np.concatenate((correction,temp))\n",
        "  #print(correction.shape)\n",
        "\n",
        "  data = f.get('driver_correction/eegTime')\n",
        "  data = np.array(data)\n",
        "  correctionT = np.zeros((0,f.get(data[0][0]).shape[1]))\n",
        "  for i in range(data.shape[0]):\n",
        "    dataset =  f.get(data[i][0])\n",
        "    temp = np.zeros(dataset.shape)\n",
        "    f.get(data[i][0]).read_direct(temp)\n",
        "    correctionT = np.concatenate((correctionT,temp))\n",
        "  #print(correctionT.shape)\n",
        "\n",
        "  data = f.get('driver_disturbance/eegData')\n",
        "  data = np.array(data)\n",
        "  disturbance = np.zeros((0,f.get(data[0][0]).shape[1]))\n",
        "  for i in range(data.shape[0]):\n",
        "    dataset =  f.get(data[i][0])\n",
        "    temp = np.zeros(dataset.shape)\n",
        "    f.get(data[i][0]).read_direct(temp)\n",
        "    disturbance = np.concatenate((disturbance,temp))\n",
        "  #print(disturbance.shape)\n",
        "\n",
        "  data = f.get('driver_disturbance/eegTime')\n",
        "  data = np.array(data)\n",
        "  disturbanceT = np.zeros((0,f.get(data[0][0]).shape[1]))\n",
        "  for i in range(data.shape[0]):\n",
        "    dataset =  f.get(data[i][0])\n",
        "    temp = np.zeros(dataset.shape)\n",
        "    f.get(data[i][0]).read_direct(temp)\n",
        "    disturbanceT = np.concatenate((disturbanceT,temp))\n",
        "  #print(disturbanceT.shape)\n",
        "\n",
        "\n",
        "  X = np.concatenate((baseline,correction,disturbance))\n",
        "  #print(\"X success\")\n",
        "  #print(X.shape)\n",
        "  Xt = np.concatenate((baselineT,correctionT,disturbanceT))\n",
        "  #print(\"Xt success\")\n",
        "  #print(Xt.shape)\n",
        "  y = [0 for i in range(len(baseline))] + [1 for i in range(len(correction))] + [2 for i in range(len(disturbance))]\n",
        "  y = np.array(y)\n",
        "  #print(\"y success\")\n",
        "  #print(y.shape)\n",
        "\n",
        "  Xnew = np.ndarray((len(X)//1000+1,30,1000))\n",
        "  ynew = []\n",
        "  counter = 0\n",
        "  size = 0\n",
        "  i = 0\n",
        "  while i < len(Xt)-1000:\n",
        "    size = Xt[i+1]-Xt[i]\n",
        "\n",
        "    if np.isclose(Xt[i+1000]-Xt[i],size*1000) :\n",
        "      Xnew[counter] = np.transpose(X[i:i+1000])\n",
        "      ynew.append(y[i])\n",
        "      i = i+1000\n",
        "      counter = counter+1\n",
        "    else:\n",
        "      i=i+1\n",
        "\n",
        "  X = Xnew[:counter]\n",
        "  y = ynew\n",
        "  print(len(y))\n",
        "  y = np.asarray(y)\n",
        "  print(\"New data:\")\n",
        "  print(\"X shape:\")\n",
        "  print(X.shape)\n",
        "  print(\"y shape:\")\n",
        "  print(y.shape)\n",
        "\n",
        "  m_X = np.append(m_X, X, axis=0)\n",
        "  print(\"M_x shape:\")\n",
        "  print(m_X.shape)\n",
        "  m_y = np.append(m_y, y, axis=0)\n",
        "  print(\"M_y shape:\")\n",
        "  print(m_y.shape)\n"
      ],
      "metadata": {
        "colab": {
          "base_uri": "https://localhost:8080/"
        },
        "id": "ws91_XziKT66",
        "outputId": "ca55de78-3fea-4cfd-f6cd-55a847c252cc"
      },
      "execution_count": null,
      "outputs": [
        {
          "output_type": "stream",
          "name": "stdout",
          "text": [
            "/content/drive/MyDrive/Extract_Driving_Events/s01_060227n_event_data.mat\n",
            "1403\n",
            "New data:\n",
            "X shape:\n",
            "(1403, 30, 1000)\n",
            "y shape:\n",
            "(1403,)\n",
            "M_x shape:\n",
            "(1403, 30, 1000)\n",
            "M_y shape:\n",
            "(1403,)\n",
            "/content/drive/MyDrive/Extract_Driving_Events/s01_060926_1n_event_data.mat\n",
            "1717\n",
            "New data:\n",
            "X shape:\n",
            "(1717, 30, 1000)\n",
            "y shape:\n",
            "(1717,)\n",
            "M_x shape:\n",
            "(3120, 30, 1000)\n",
            "M_y shape:\n",
            "(3120,)\n",
            "/content/drive/MyDrive/Extract_Driving_Events/s01_060926_2n_event_data.mat\n",
            "1456\n",
            "New data:\n",
            "X shape:\n",
            "(1456, 30, 1000)\n",
            "y shape:\n",
            "(1456,)\n",
            "M_x shape:\n",
            "(4576, 30, 1000)\n",
            "M_y shape:\n",
            "(4576,)\n",
            "/content/drive/MyDrive/Extract_Driving_Events/s02_050921m_event_data.mat\n",
            "1399\n",
            "New data:\n",
            "X shape:\n",
            "(1399, 30, 1000)\n",
            "y shape:\n",
            "(1399,)\n",
            "M_x shape:\n",
            "(5975, 30, 1000)\n",
            "M_y shape:\n",
            "(5975,)\n",
            "/content/drive/MyDrive/Extract_Driving_Events/s02_051115m_event_data.mat\n",
            "1427\n",
            "New data:\n",
            "X shape:\n",
            "(1427, 30, 1000)\n",
            "y shape:\n",
            "(1427,)\n",
            "M_x shape:\n",
            "(7402, 30, 1000)\n",
            "M_y shape:\n",
            "(7402,)\n",
            "/content/drive/MyDrive/Extract_Driving_Events/s04_051130m_event_data.mat\n",
            "1355\n",
            "New data:\n",
            "X shape:\n",
            "(1355, 30, 1000)\n",
            "y shape:\n",
            "(1355,)\n",
            "M_x shape:\n",
            "(8757, 30, 1000)\n",
            "M_y shape:\n",
            "(8757,)\n",
            "/content/drive/MyDrive/Extract_Driving_Events/s05_051120m_event_data.mat\n",
            "1355\n",
            "New data:\n",
            "X shape:\n",
            "(1355, 30, 1000)\n",
            "y shape:\n",
            "(1355,)\n",
            "M_x shape:\n",
            "(10112, 30, 1000)\n",
            "M_y shape:\n",
            "(10112,)\n",
            "/content/drive/MyDrive/Extract_Driving_Events/s05_060308n_event_data.mat\n",
            "1267\n",
            "New data:\n",
            "X shape:\n",
            "(1267, 30, 1000)\n",
            "y shape:\n",
            "(1267,)\n",
            "M_x shape:\n",
            "(11379, 30, 1000)\n",
            "M_y shape:\n",
            "(11379,)\n",
            "/content/drive/MyDrive/Extract_Driving_Events/s05_061019m_event_data.mat\n",
            "2146\n",
            "New data:\n",
            "X shape:\n",
            "(2146, 30, 1000)\n",
            "y shape:\n",
            "(2146,)\n",
            "M_x shape:\n",
            "(13525, 30, 1000)\n",
            "M_y shape:\n",
            "(13525,)\n",
            "/content/drive/MyDrive/Extract_Driving_Events/s05_061101n_event_data.mat\n",
            "2197\n",
            "New data:\n",
            "X shape:\n",
            "(2197, 30, 1000)\n",
            "y shape:\n",
            "(2197,)\n",
            "M_x shape:\n",
            "(15722, 30, 1000)\n",
            "M_y shape:\n",
            "(15722,)\n",
            "/content/drive/MyDrive/Extract_Driving_Events/s06_051119m_event_data.mat\n",
            "1297\n",
            "New data:\n",
            "X shape:\n",
            "(1297, 30, 1000)\n",
            "y shape:\n",
            "(1297,)\n",
            "M_x shape:\n",
            "(17019, 30, 1000)\n",
            "M_y shape:\n",
            "(17019,)\n",
            "/content/drive/MyDrive/Extract_Driving_Events/s09_060313n_event_data.mat\n",
            "1569\n",
            "New data:\n",
            "X shape:\n",
            "(1569, 30, 1000)\n",
            "y shape:\n",
            "(1569,)\n",
            "M_x shape:\n",
            "(18588, 30, 1000)\n",
            "M_y shape:\n",
            "(18588,)\n"
          ]
        }
      ]
    },
    {
      "cell_type": "code",
      "source": [
        "print(\"Final Data:\")\n",
        "print(\"Master X: \" + str(m_X.shape))\n",
        "print(\"Master y: \" + str(m_y.shape))"
      ],
      "metadata": {
        "colab": {
          "base_uri": "https://localhost:8080/"
        },
        "id": "j7-xUnvjzDYJ",
        "outputId": "4e5e28f5-71be-46d7-b31d-e4535a61a3f6"
      },
      "execution_count": null,
      "outputs": [
        {
          "output_type": "stream",
          "name": "stdout",
          "text": [
            "Final Data:\n",
            "Master X: (18588, 30, 1000)\n",
            "Master y: (18588,)\n"
          ]
        }
      ]
    },
    {
      "cell_type": "code",
      "source": [
        "np.save(\"master_data_X\", m_X)"
      ],
      "metadata": {
        "id": "Mj_MRK0AzVw1"
      },
      "execution_count": null,
      "outputs": []
    },
    {
      "cell_type": "code",
      "source": [
        "np.save(\"master_data_Y\", m_y)"
      ],
      "metadata": {
        "id": "CX_E82Pa0OXv"
      },
      "execution_count": null,
      "outputs": []
    },
    {
      "cell_type": "code",
      "source": [
        "%cd /content/drive/MyDrive/Colab Notebooks/\n",
        "\n",
        "with open('master_data_X.npy', 'wb') as f:\n",
        "  np.save(f, m_X)\n"
      ],
      "metadata": {
        "colab": {
          "base_uri": "https://localhost:8080/"
        },
        "id": "OzwZbjF21-Y5",
        "outputId": "4fbce920-5665-4cf2-f8ac-124ee9abe580"
      },
      "execution_count": null,
      "outputs": [
        {
          "output_type": "stream",
          "name": "stdout",
          "text": [
            "/content/drive/My Drive/Colab Notebooks\n"
          ]
        }
      ]
    },
    {
      "cell_type": "code",
      "source": [
        "%cd /MyDrive/Colab Notebooks/\n",
        "\n",
        "with open('master_data_Y.npy', 'wb') as f:\n",
        "  np.save(f, m_y)"
      ],
      "metadata": {
        "colab": {
          "base_uri": "https://localhost:8080/"
        },
        "id": "gN4J15vI3o2W",
        "outputId": "c7a8c52b-8f83-47d7-d8ca-ef15b896d144"
      },
      "execution_count": null,
      "outputs": [
        {
          "output_type": "stream",
          "name": "stdout",
          "text": [
            "[Errno 2] No such file or directory: '/MyDrive/Colab Notebooks/'\n",
            "/content/drive/My Drive/Colab Notebooks\n"
          ]
        }
      ]
    },
    {
      "cell_type": "code",
      "source": [],
      "metadata": {
        "id": "_G-Y4aH915Tr"
      },
      "execution_count": null,
      "outputs": []
    },
    {
      "cell_type": "code",
      "source": [],
      "metadata": {
        "id": "7livVGiX15QR"
      },
      "execution_count": null,
      "outputs": []
    },
    {
      "cell_type": "code",
      "source": [],
      "metadata": {
        "id": "ARSi5skV15ON"
      },
      "execution_count": null,
      "outputs": []
    },
    {
      "cell_type": "code",
      "source": [],
      "metadata": {
        "id": "XbWA7-BW15MC"
      },
      "execution_count": null,
      "outputs": []
    },
    {
      "cell_type": "code",
      "source": [],
      "metadata": {
        "id": "QHpQbOMM15Ka"
      },
      "execution_count": null,
      "outputs": []
    },
    {
      "cell_type": "code",
      "execution_count": null,
      "metadata": {
        "colab": {
          "base_uri": "https://localhost:8080/"
        },
        "outputId": "8032132d-7c47-4fcf-e17e-aff1075d0558",
        "id": "35mLQRiy165O"
      },
      "outputs": [
        {
          "output_type": "stream",
          "name": "stdout",
          "text": [
            "Mounted at /content/drive\n"
          ]
        }
      ],
      "source": [
        "from google.colab import drive\n",
        "drive.mount('/content/drive')"
      ]
    },
    {
      "cell_type": "code",
      "source": [
        "import os\n",
        "import numpy as np\n",
        "import h5py"
      ],
      "metadata": {
        "id": "YL8vNDyJ165Q"
      },
      "execution_count": null,
      "outputs": []
    },
    {
      "cell_type": "code",
      "source": [
        "dir_name = r'/content/drive/MyDrive/Extract_Driving_Events'\n",
        "\n",
        "files_in_dir = [os.path.join(path, file) for path, dirs,\n",
        "                files in os.walk(dir_name) for file in files]\n",
        "print(files_in_dir)"
      ],
      "metadata": {
        "colab": {
          "base_uri": "https://localhost:8080/"
        },
        "outputId": "10705fa1-8ebc-429f-e6b0-04314b746dca",
        "id": "okraMcPB165R"
      },
      "execution_count": null,
      "outputs": [
        {
          "output_type": "stream",
          "name": "stdout",
          "text": [
            "['/content/drive/MyDrive/Extract_Driving_Events/s01_060227n_event_data.mat', '/content/drive/MyDrive/Extract_Driving_Events/s01_060926_1n_event_data.mat', '/content/drive/MyDrive/Extract_Driving_Events/s01_060926_2n_event_data.mat', '/content/drive/MyDrive/Extract_Driving_Events/s02_050921m_event_data.mat', '/content/drive/MyDrive/Extract_Driving_Events/s02_051115m_event_data.mat', '/content/drive/MyDrive/Extract_Driving_Events/s04_051130m_event_data.mat', '/content/drive/MyDrive/Extract_Driving_Events/s05_051120m_event_data.mat', '/content/drive/MyDrive/Extract_Driving_Events/s05_060308n_event_data.mat', '/content/drive/MyDrive/Extract_Driving_Events/s05_061019m_event_data.mat', '/content/drive/MyDrive/Extract_Driving_Events/s05_061101n_event_data.mat', '/content/drive/MyDrive/Extract_Driving_Events/s06_051119m_event_data.mat', '/content/drive/MyDrive/Extract_Driving_Events/s09_060313n_event_data.mat']\n"
          ]
        }
      ]
    },
    {
      "cell_type": "code",
      "source": [
        "files_in_dir = files_in_dir[0:3]\n",
        "print(len(files_in_dir))\n",
        "print(files_in_dir)"
      ],
      "metadata": {
        "colab": {
          "base_uri": "https://localhost:8080/"
        },
        "id": "Hlo1RXTC2V4m",
        "outputId": "cb7bbb15-d70d-4a30-a278-aaa1dab3271b"
      },
      "execution_count": null,
      "outputs": [
        {
          "output_type": "stream",
          "name": "stdout",
          "text": [
            "3\n",
            "['/content/drive/MyDrive/Extract_Driving_Events/s01_060227n_event_data.mat', '/content/drive/MyDrive/Extract_Driving_Events/s01_060926_1n_event_data.mat', '/content/drive/MyDrive/Extract_Driving_Events/s01_060926_2n_event_data.mat']\n"
          ]
        }
      ]
    },
    {
      "cell_type": "code",
      "source": [
        "m_X = np.empty((0, 30, 1000), float)\n",
        "m_y = np.empty((0,), int)\n",
        "\n",
        "\n",
        "for file_name in files_in_dir:\n",
        "  f = h5py.File(file_name,'r')\n",
        "  print(file_name)\n",
        "  data = f.get('driver_baseline/eegData')\n",
        "  data = np.array(data) # For converting to a NumPy array\n",
        "\n",
        "  data = f.get('driver_baseline/eegData')\n",
        "  data = np.array(data)\n",
        "  baseline = np.zeros((0,f.get(data[0][0]).shape[1]))\n",
        "  for i in range(data.shape[0]):\n",
        "    dataset =  f.get(data[i][0])\n",
        "    temp = np.zeros(dataset.shape)\n",
        "    f.get(data[i][0]).read_direct(temp)\n",
        "    baseline = np.concatenate((baseline,temp))\n",
        "  #print(baseline.shape)\n",
        "\n",
        "  data = f.get('driver_baseline/eegTime')\n",
        "  data = np.array(data)\n",
        "  baselineT = np.zeros((0,f.get(data[0][0]).shape[1]))\n",
        "  for i in range(data.shape[0]):\n",
        "    dataset =  f.get(data[i][0])\n",
        "    temp = np.zeros(dataset.shape)\n",
        "    f.get(data[i][0]).read_direct(temp)\n",
        "    baselineT = np.concatenate((baselineT,temp))\n",
        "  #print(baselineT.shape)\n",
        "\n",
        "  data = f.get('driver_correction/eegData')\n",
        "  data = np.array(data)\n",
        "  correction = np.zeros((0,f.get(data[0][0]).shape[1]))\n",
        "  for i in range(data.shape[0]):\n",
        "    dataset =  f.get(data[i][0])\n",
        "    temp = np.zeros(dataset.shape)\n",
        "    f.get(data[i][0]).read_direct(temp)\n",
        "    correction = np.concatenate((correction,temp))\n",
        "  #print(correction.shape)\n",
        "\n",
        "  data = f.get('driver_correction/eegTime')\n",
        "  data = np.array(data)\n",
        "  correctionT = np.zeros((0,f.get(data[0][0]).shape[1]))\n",
        "  for i in range(data.shape[0]):\n",
        "    dataset =  f.get(data[i][0])\n",
        "    temp = np.zeros(dataset.shape)\n",
        "    f.get(data[i][0]).read_direct(temp)\n",
        "    correctionT = np.concatenate((correctionT,temp))\n",
        "  #print(correctionT.shape)\n",
        "\n",
        "  data = f.get('driver_disturbance/eegData')\n",
        "  data = np.array(data)\n",
        "  disturbance = np.zeros((0,f.get(data[0][0]).shape[1]))\n",
        "  for i in range(data.shape[0]):\n",
        "    dataset =  f.get(data[i][0])\n",
        "    temp = np.zeros(dataset.shape)\n",
        "    f.get(data[i][0]).read_direct(temp)\n",
        "    disturbance = np.concatenate((disturbance,temp))\n",
        "  #print(disturbance.shape)\n",
        "\n",
        "  data = f.get('driver_disturbance/eegTime')\n",
        "  data = np.array(data)\n",
        "  disturbanceT = np.zeros((0,f.get(data[0][0]).shape[1]))\n",
        "  for i in range(data.shape[0]):\n",
        "    dataset =  f.get(data[i][0])\n",
        "    temp = np.zeros(dataset.shape)\n",
        "    f.get(data[i][0]).read_direct(temp)\n",
        "    disturbanceT = np.concatenate((disturbanceT,temp))\n",
        "  #print(disturbanceT.shape)\n",
        "\n",
        "\n",
        "  X = np.concatenate((baseline,correction,disturbance))\n",
        "  #print(\"X success\")\n",
        "  #print(X.shape)\n",
        "  Xt = np.concatenate((baselineT,correctionT,disturbanceT))\n",
        "  #print(\"Xt success\")\n",
        "  #print(Xt.shape)\n",
        "  y = [0 for i in range(len(baseline))] + [1 for i in range(len(correction))] + [2 for i in range(len(disturbance))]\n",
        "  y = np.array(y)\n",
        "  #print(\"y success\")\n",
        "  #print(y.shape)\n",
        "\n",
        "  Xnew = np.ndarray((len(X)//1000+1,30,1000))\n",
        "  ynew = []\n",
        "  counter = 0\n",
        "  size = 0\n",
        "  i = 0\n",
        "  while i < len(Xt)-1000:\n",
        "    size = Xt[i+1]-Xt[i]\n",
        "\n",
        "    if np.isclose(Xt[i+1000]-Xt[i],size*1000) :\n",
        "      Xnew[counter] = np.transpose(X[i:i+1000])\n",
        "      ynew.append(y[i])\n",
        "      i = i+1000\n",
        "      counter = counter+1\n",
        "    else:\n",
        "      i=i+1\n",
        "\n",
        "  X = Xnew[:counter]\n",
        "  y = ynew\n",
        "  print(len(y))\n",
        "  y = np.asarray(y)\n",
        "  print(\"New data:\")\n",
        "  print(\"X shape:\")\n",
        "  print(X.shape)\n",
        "  print(\"y shape:\")\n",
        "  print(y.shape)\n",
        "\n",
        "  m_X = np.append(m_X, X, axis=0)\n",
        "  print(\"M_x shape:\")\n",
        "  print(m_X.shape)\n",
        "  m_y = np.append(m_y, y, axis=0)\n",
        "  print(\"M_y shape:\")\n",
        "  print(m_y.shape)\n"
      ],
      "metadata": {
        "colab": {
          "base_uri": "https://localhost:8080/"
        },
        "outputId": "1a011167-0b9d-407c-b7f4-b7930896df41",
        "id": "H6LeDJge165R"
      },
      "execution_count": null,
      "outputs": [
        {
          "output_type": "stream",
          "name": "stdout",
          "text": [
            "/content/drive/MyDrive/Extract_Driving_Events/s01_060227n_event_data.mat\n",
            "1403\n",
            "New data:\n",
            "X shape:\n",
            "(1403, 30, 1000)\n",
            "y shape:\n",
            "(1403,)\n",
            "M_x shape:\n",
            "(1403, 30, 1000)\n",
            "M_y shape:\n",
            "(1403,)\n",
            "/content/drive/MyDrive/Extract_Driving_Events/s01_060926_1n_event_data.mat\n",
            "1717\n",
            "New data:\n",
            "X shape:\n",
            "(1717, 30, 1000)\n",
            "y shape:\n",
            "(1717,)\n",
            "M_x shape:\n",
            "(3120, 30, 1000)\n",
            "M_y shape:\n",
            "(3120,)\n",
            "/content/drive/MyDrive/Extract_Driving_Events/s01_060926_2n_event_data.mat\n",
            "1456\n",
            "New data:\n",
            "X shape:\n",
            "(1456, 30, 1000)\n",
            "y shape:\n",
            "(1456,)\n",
            "M_x shape:\n",
            "(4576, 30, 1000)\n",
            "M_y shape:\n",
            "(4576,)\n"
          ]
        }
      ]
    },
    {
      "cell_type": "code",
      "source": [
        "print(\"Final Data:\")\n",
        "print(\"Master X: \" + str(m_X.shape))\n",
        "print(\"Master y: \" + str(m_y.shape))"
      ],
      "metadata": {
        "colab": {
          "base_uri": "https://localhost:8080/"
        },
        "outputId": "83857716-e0cd-4a14-dd9a-e7daeed7f2d5",
        "id": "JcAedtM0165S"
      },
      "execution_count": null,
      "outputs": [
        {
          "output_type": "stream",
          "name": "stdout",
          "text": [
            "Final Data:\n",
            "Master X: (4576, 30, 1000)\n",
            "Master y: (4576,)\n"
          ]
        }
      ]
    },
    {
      "cell_type": "code",
      "source": [
        "np.save(\"s01_data_X\", m_X)"
      ],
      "metadata": {
        "id": "IJRENk55165T"
      },
      "execution_count": null,
      "outputs": []
    },
    {
      "cell_type": "code",
      "source": [
        "np.save(\"s01_data_Y\", m_y)"
      ],
      "metadata": {
        "id": "1bGPeLiX165T"
      },
      "execution_count": null,
      "outputs": []
    },
    {
      "cell_type": "code",
      "source": [
        "%cd /content/drive/MyDrive/Colab Notebooks/\n",
        "\n",
        "with open('s01_data_X.npy', 'wb') as f:\n",
        "  np.save(f, m_X)\n"
      ],
      "metadata": {
        "colab": {
          "base_uri": "https://localhost:8080/"
        },
        "outputId": "2c9b1ddb-d0c6-4c00-ec51-84af24f0f19f",
        "id": "mlz56hLM165U"
      },
      "execution_count": null,
      "outputs": [
        {
          "output_type": "stream",
          "name": "stdout",
          "text": [
            "/content/drive/MyDrive/Colab Notebooks\n"
          ]
        }
      ]
    },
    {
      "cell_type": "code",
      "source": [
        "%cd /MyDrive/Colab Notebooks/\n",
        "\n",
        "with open('s01_data_Y.npy', 'wb') as f:\n",
        "  np.save(f, m_y)"
      ],
      "metadata": {
        "colab": {
          "base_uri": "https://localhost:8080/"
        },
        "outputId": "0516a336-a5c0-4b62-9ddc-150f0734cb1c",
        "id": "Eiv_SxYa165U"
      },
      "execution_count": null,
      "outputs": [
        {
          "output_type": "stream",
          "name": "stdout",
          "text": [
            "[Errno 2] No such file or directory: '/MyDrive/Colab Notebooks/'\n",
            "/content/drive/MyDrive/Colab Notebooks\n"
          ]
        }
      ]
    },
    {
      "cell_type": "code",
      "source": [],
      "metadata": {
        "id": "K82lrUXq15IL"
      },
      "execution_count": null,
      "outputs": []
    },
    {
      "cell_type": "code",
      "source": [],
      "metadata": {
        "id": "kjAUTC_M15F4"
      },
      "execution_count": null,
      "outputs": []
    },
    {
      "cell_type": "code",
      "source": [],
      "metadata": {
        "id": "XX9Qkc9B15DV"
      },
      "execution_count": null,
      "outputs": []
    },
    {
      "cell_type": "code",
      "source": [],
      "metadata": {
        "id": "beCdrbmD15BN"
      },
      "execution_count": null,
      "outputs": []
    },
    {
      "cell_type": "code",
      "execution_count": null,
      "metadata": {
        "colab": {
          "base_uri": "https://localhost:8080/"
        },
        "outputId": "9694c5eb-f397-4335-b5a5-e6659ec14d1f",
        "id": "Nh1i7pyp30Lb"
      },
      "outputs": [
        {
          "output_type": "stream",
          "name": "stdout",
          "text": [
            "Drive already mounted at /content/drive; to attempt to forcibly remount, call drive.mount(\"/content/drive\", force_remount=True).\n"
          ]
        }
      ],
      "source": [
        "from google.colab import drive\n",
        "drive.mount('/content/drive')"
      ]
    },
    {
      "cell_type": "code",
      "source": [
        "import os\n",
        "import numpy as np\n",
        "import h5py"
      ],
      "metadata": {
        "id": "kASZSrLz30Lc"
      },
      "execution_count": null,
      "outputs": []
    },
    {
      "cell_type": "code",
      "source": [
        "dir_name = r'/content/drive/MyDrive/Extract_Driving_Events'\n",
        "\n",
        "files_in_dir = [os.path.join(path, file) for path, dirs,\n",
        "                files in os.walk(dir_name) for file in files]\n",
        "print(files_in_dir)"
      ],
      "metadata": {
        "colab": {
          "base_uri": "https://localhost:8080/"
        },
        "outputId": "693f0b94-a462-4c12-e49b-c274003e38f9",
        "id": "SlB41CmR30Ld"
      },
      "execution_count": null,
      "outputs": [
        {
          "output_type": "stream",
          "name": "stdout",
          "text": [
            "['/content/drive/MyDrive/Extract_Driving_Events/s01_060227n_event_data.mat', '/content/drive/MyDrive/Extract_Driving_Events/s01_060926_1n_event_data.mat', '/content/drive/MyDrive/Extract_Driving_Events/s01_060926_2n_event_data.mat', '/content/drive/MyDrive/Extract_Driving_Events/s02_050921m_event_data.mat', '/content/drive/MyDrive/Extract_Driving_Events/s02_051115m_event_data.mat', '/content/drive/MyDrive/Extract_Driving_Events/s04_051130m_event_data.mat', '/content/drive/MyDrive/Extract_Driving_Events/s05_051120m_event_data.mat', '/content/drive/MyDrive/Extract_Driving_Events/s05_060308n_event_data.mat', '/content/drive/MyDrive/Extract_Driving_Events/s05_061019m_event_data.mat', '/content/drive/MyDrive/Extract_Driving_Events/s05_061101n_event_data.mat', '/content/drive/MyDrive/Extract_Driving_Events/s06_051119m_event_data.mat', '/content/drive/MyDrive/Extract_Driving_Events/s09_060313n_event_data.mat']\n"
          ]
        }
      ]
    },
    {
      "cell_type": "code",
      "source": [
        "files_in_dir = files_in_dir[3:5]\n",
        "print(len(files_in_dir))\n",
        "print(files_in_dir)"
      ],
      "metadata": {
        "colab": {
          "base_uri": "https://localhost:8080/"
        },
        "id": "wcc9mo_L4B0n",
        "outputId": "e499439b-43ba-4b1d-c4d1-4f7d4fdb6d6f"
      },
      "execution_count": null,
      "outputs": [
        {
          "output_type": "stream",
          "name": "stdout",
          "text": [
            "2\n",
            "['/content/drive/MyDrive/Extract_Driving_Events/s02_050921m_event_data.mat', '/content/drive/MyDrive/Extract_Driving_Events/s02_051115m_event_data.mat']\n"
          ]
        }
      ]
    },
    {
      "cell_type": "code",
      "source": [
        "m_X = np.empty((0, 30, 1000), float)\n",
        "m_y = np.empty((0,), int)\n",
        "\n",
        "\n",
        "for file_name in files_in_dir:\n",
        "  f = h5py.File(file_name,'r')\n",
        "  print(file_name)\n",
        "  data = f.get('driver_baseline/eegData')\n",
        "  data = np.array(data) # For converting to a NumPy array\n",
        "\n",
        "  data = f.get('driver_baseline/eegData')\n",
        "  data = np.array(data)\n",
        "  baseline = np.zeros((0,f.get(data[0][0]).shape[1]))\n",
        "  for i in range(data.shape[0]):\n",
        "    dataset =  f.get(data[i][0])\n",
        "    temp = np.zeros(dataset.shape)\n",
        "    f.get(data[i][0]).read_direct(temp)\n",
        "    baseline = np.concatenate((baseline,temp))\n",
        "  #print(baseline.shape)\n",
        "\n",
        "  data = f.get('driver_baseline/eegTime')\n",
        "  data = np.array(data)\n",
        "  baselineT = np.zeros((0,f.get(data[0][0]).shape[1]))\n",
        "  for i in range(data.shape[0]):\n",
        "    dataset =  f.get(data[i][0])\n",
        "    temp = np.zeros(dataset.shape)\n",
        "    f.get(data[i][0]).read_direct(temp)\n",
        "    baselineT = np.concatenate((baselineT,temp))\n",
        "  #print(baselineT.shape)\n",
        "\n",
        "  data = f.get('driver_correction/eegData')\n",
        "  data = np.array(data)\n",
        "  correction = np.zeros((0,f.get(data[0][0]).shape[1]))\n",
        "  for i in range(data.shape[0]):\n",
        "    dataset =  f.get(data[i][0])\n",
        "    temp = np.zeros(dataset.shape)\n",
        "    f.get(data[i][0]).read_direct(temp)\n",
        "    correction = np.concatenate((correction,temp))\n",
        "  #print(correction.shape)\n",
        "\n",
        "  data = f.get('driver_correction/eegTime')\n",
        "  data = np.array(data)\n",
        "  correctionT = np.zeros((0,f.get(data[0][0]).shape[1]))\n",
        "  for i in range(data.shape[0]):\n",
        "    dataset =  f.get(data[i][0])\n",
        "    temp = np.zeros(dataset.shape)\n",
        "    f.get(data[i][0]).read_direct(temp)\n",
        "    correctionT = np.concatenate((correctionT,temp))\n",
        "  #print(correctionT.shape)\n",
        "\n",
        "  data = f.get('driver_disturbance/eegData')\n",
        "  data = np.array(data)\n",
        "  disturbance = np.zeros((0,f.get(data[0][0]).shape[1]))\n",
        "  for i in range(data.shape[0]):\n",
        "    dataset =  f.get(data[i][0])\n",
        "    temp = np.zeros(dataset.shape)\n",
        "    f.get(data[i][0]).read_direct(temp)\n",
        "    disturbance = np.concatenate((disturbance,temp))\n",
        "  #print(disturbance.shape)\n",
        "\n",
        "  data = f.get('driver_disturbance/eegTime')\n",
        "  data = np.array(data)\n",
        "  disturbanceT = np.zeros((0,f.get(data[0][0]).shape[1]))\n",
        "  for i in range(data.shape[0]):\n",
        "    dataset =  f.get(data[i][0])\n",
        "    temp = np.zeros(dataset.shape)\n",
        "    f.get(data[i][0]).read_direct(temp)\n",
        "    disturbanceT = np.concatenate((disturbanceT,temp))\n",
        "  #print(disturbanceT.shape)\n",
        "\n",
        "\n",
        "  X = np.concatenate((baseline,correction,disturbance))\n",
        "  #print(\"X success\")\n",
        "  #print(X.shape)\n",
        "  Xt = np.concatenate((baselineT,correctionT,disturbanceT))\n",
        "  #print(\"Xt success\")\n",
        "  #print(Xt.shape)\n",
        "  y = [0 for i in range(len(baseline))] + [1 for i in range(len(correction))] + [2 for i in range(len(disturbance))]\n",
        "  y = np.array(y)\n",
        "  #print(\"y success\")\n",
        "  #print(y.shape)\n",
        "\n",
        "  Xnew = np.ndarray((len(X)//1000+1,30,1000))\n",
        "  ynew = []\n",
        "  counter = 0\n",
        "  size = 0\n",
        "  i = 0\n",
        "  while i < len(Xt)-1000:\n",
        "    size = Xt[i+1]-Xt[i]\n",
        "\n",
        "    if np.isclose(Xt[i+1000]-Xt[i],size*1000) :\n",
        "      Xnew[counter] = np.transpose(X[i:i+1000])\n",
        "      ynew.append(y[i])\n",
        "      i = i+1000\n",
        "      counter = counter+1\n",
        "    else:\n",
        "      i=i+1\n",
        "\n",
        "  X = Xnew[:counter]\n",
        "  y = ynew\n",
        "  print(len(y))\n",
        "  y = np.asarray(y)\n",
        "  print(\"New data:\")\n",
        "  print(\"X shape:\")\n",
        "  print(X.shape)\n",
        "  print(\"y shape:\")\n",
        "  print(y.shape)\n",
        "\n",
        "  m_X = np.append(m_X, X, axis=0)\n",
        "  print(\"M_x shape:\")\n",
        "  print(m_X.shape)\n",
        "  m_y = np.append(m_y, y, axis=0)\n",
        "  print(\"M_y shape:\")\n",
        "  print(m_y.shape)\n"
      ],
      "metadata": {
        "colab": {
          "base_uri": "https://localhost:8080/"
        },
        "outputId": "0d6bed78-2c8b-445a-ea35-ccb2b1a9e6d6",
        "id": "4omQ06Ua30Le"
      },
      "execution_count": null,
      "outputs": [
        {
          "output_type": "stream",
          "name": "stdout",
          "text": [
            "/content/drive/MyDrive/Extract_Driving_Events/s02_050921m_event_data.mat\n",
            "1399\n",
            "New data:\n",
            "X shape:\n",
            "(1399, 30, 1000)\n",
            "y shape:\n",
            "(1399,)\n",
            "M_x shape:\n",
            "(1399, 30, 1000)\n",
            "M_y shape:\n",
            "(1399,)\n",
            "/content/drive/MyDrive/Extract_Driving_Events/s02_051115m_event_data.mat\n",
            "1427\n",
            "New data:\n",
            "X shape:\n",
            "(1427, 30, 1000)\n",
            "y shape:\n",
            "(1427,)\n",
            "M_x shape:\n",
            "(2826, 30, 1000)\n",
            "M_y shape:\n",
            "(2826,)\n"
          ]
        }
      ]
    },
    {
      "cell_type": "code",
      "source": [
        "print(\"Final Data:\")\n",
        "print(\"Master X: \" + str(m_X.shape))\n",
        "print(\"Master y: \" + str(m_y.shape))"
      ],
      "metadata": {
        "colab": {
          "base_uri": "https://localhost:8080/"
        },
        "outputId": "3c4699e6-cb18-4b28-8a9b-f075abc00a52",
        "id": "EqXWK-yX30Lf"
      },
      "execution_count": null,
      "outputs": [
        {
          "output_type": "stream",
          "name": "stdout",
          "text": [
            "Final Data:\n",
            "Master X: (2826, 30, 1000)\n",
            "Master y: (2826,)\n"
          ]
        }
      ]
    },
    {
      "cell_type": "code",
      "source": [
        "np.save(\"master_data_X\", m_X)"
      ],
      "metadata": {
        "id": "_ctaxvcu30Lg"
      },
      "execution_count": null,
      "outputs": []
    },
    {
      "cell_type": "code",
      "source": [
        "np.save(\"master_data_Y\", m_y)"
      ],
      "metadata": {
        "id": "acilcA8h30Lh"
      },
      "execution_count": null,
      "outputs": []
    },
    {
      "cell_type": "code",
      "source": [
        "%cd /content/drive/MyDrive/Colab Notebooks/\n",
        "\n",
        "with open('s02_data_X.npy', 'wb') as f:\n",
        "  np.save(f, m_X)\n"
      ],
      "metadata": {
        "colab": {
          "base_uri": "https://localhost:8080/"
        },
        "outputId": "ff2b758c-86d1-4748-915e-82c320632760",
        "id": "bY2cm2vh30Lh"
      },
      "execution_count": null,
      "outputs": [
        {
          "output_type": "stream",
          "name": "stdout",
          "text": [
            "/content/drive/MyDrive/Colab Notebooks\n"
          ]
        }
      ]
    },
    {
      "cell_type": "code",
      "source": [
        "%cd /content/drive/MyDrive/Colab Notebooks/\n",
        "\n",
        "with open('s02_data_Y.npy', 'wb') as f:\n",
        "  np.save(f, m_y)"
      ],
      "metadata": {
        "colab": {
          "base_uri": "https://localhost:8080/"
        },
        "outputId": "e3b31862-186e-4172-8899-14cf88af6412",
        "id": "eKYS_SMU30Lh"
      },
      "execution_count": null,
      "outputs": [
        {
          "output_type": "stream",
          "name": "stdout",
          "text": [
            "/content/drive/MyDrive/Colab Notebooks\n"
          ]
        }
      ]
    }
  ]
}