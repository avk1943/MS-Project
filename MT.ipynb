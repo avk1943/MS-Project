{
  "nbformat": 4,
  "nbformat_minor": 0,
  "metadata": {
    "colab": {
      "provenance": [],
      "gpuType": "T4",
      "machine_shape": "hm",
      "include_colab_link": true
    },
    "kernelspec": {
      "name": "python3",
      "display_name": "Python 3"
    },
    "language_info": {
      "name": "python"
    },
    "accelerator": "GPU"
  },
  "cells": [
    {
      "cell_type": "markdown",
      "metadata": {
        "id": "view-in-github",
        "colab_type": "text"
      },
      "source": [
        "<a href=\"https://colab.research.google.com/github/avk1943/MS-Project/blob/main/MT.ipynb\" target=\"_parent\"><img src=\"https://colab.research.google.com/assets/colab-badge.svg\" alt=\"Open In Colab\"/></a>"
      ]
    },
    {
      "cell_type": "code",
      "execution_count": 1,
      "metadata": {
        "id": "chJrBTqB_Yhw",
        "colab": {
          "base_uri": "https://localhost:8080/"
        },
        "outputId": "fa561997-1675-4c84-b6ee-2d612ca4b201"
      },
      "outputs": [
        {
          "output_type": "stream",
          "name": "stdout",
          "text": [
            "Mounted at /content/drive\n"
          ]
        }
      ],
      "source": [
        "from google.colab import drive\n",
        "drive.mount('/content/drive')"
      ]
    },
    {
      "cell_type": "code",
      "source": [
        "import os\n",
        "import numpy as np\n",
        "import h5py\n",
        "import matplotlib.pyplot as plt"
      ],
      "metadata": {
        "id": "uyPoOPsKoXtm"
      },
      "execution_count": 2,
      "outputs": []
    },
    {
      "cell_type": "code",
      "source": [
        "\n",
        "%cd /content/drive/Shared drives/Master Project/\n",
        "\n",
        "with open('master_data_X.npy', 'rb') as f:\n",
        "  X = np.load(f)\n",
        "\n",
        "X.shape"
      ],
      "metadata": {
        "colab": {
          "base_uri": "https://localhost:8080/"
        },
        "id": "YIOhuQ4c4R-1",
        "outputId": "78a8fedb-4677-48a9-8059-27f0c38ecd48"
      },
      "execution_count": 3,
      "outputs": [
        {
          "output_type": "stream",
          "name": "stdout",
          "text": [
            "/content/drive/Shared drives/Master Project\n"
          ]
        },
        {
          "output_type": "execute_result",
          "data": {
            "text/plain": [
              "(18588, 30, 1000)"
            ]
          },
          "metadata": {},
          "execution_count": 3
        }
      ]
    },
    {
      "cell_type": "code",
      "source": [
        "with open('master_data_Y.npy', 'rb') as f:\n",
        "  y = np.load(f)\n",
        "\n",
        "y.shape"
      ],
      "metadata": {
        "colab": {
          "base_uri": "https://localhost:8080/"
        },
        "id": "-wWv89MT52Bk",
        "outputId": "619d93a8-68a2-4322-af8c-d11863aa3c39"
      },
      "execution_count": 4,
      "outputs": [
        {
          "output_type": "execute_result",
          "data": {
            "text/plain": [
              "(18588,)"
            ]
          },
          "metadata": {},
          "execution_count": 4
        }
      ]
    },
    {
      "cell_type": "code",
      "source": [
        "def onehot(v1):\n",
        "  if v1 == 0:\n",
        "    return np.array([0,0,1])\n",
        "  elif v1 == 1 :\n",
        "    return np.array([0,1,0])\n",
        "  else:\n",
        "    return np.array([1,0,0])"
      ],
      "metadata": {
        "id": "MAUo7Cf2hrBi"
      },
      "execution_count": 5,
      "outputs": []
    },
    {
      "cell_type": "code",
      "source": [
        "trainLength = 13012\n",
        "testLength = len(X)-trainLength\n",
        "train_idx = np.random.choice(range(len(X)),trainLength,replace = False)\n",
        "test_idx = list(set(range(len(X)))-set(train_idx))\n",
        "y = np.array(y)\n",
        "#validate_idx = np.random.choice(range(len(X)),len(X)//2,replace = False)\n",
        "X_train = X[train_idx].reshape((trainLength,30,1000,1))\n",
        "Y_train = y[train_idx]\n",
        "Y_train = np.array([onehot(i) for i in Y_train])\n",
        "X_test = X[test_idx].reshape((testLength,30,1000,1))\n",
        "Y_test = y[test_idx]\n",
        "Y_test = np.array([onehot(i) for i in Y_test])"
      ],
      "metadata": {
        "id": "Qpdz5Q0Khuac"
      },
      "execution_count": 6,
      "outputs": []
    },
    {
      "cell_type": "code",
      "source": [
        "print(trainLength)"
      ],
      "metadata": {
        "id": "YYN8e4NArHFJ",
        "colab": {
          "base_uri": "https://localhost:8080/"
        },
        "outputId": "0ca772bb-55bb-4224-ccc6-fe35f7871453"
      },
      "execution_count": 7,
      "outputs": [
        {
          "output_type": "stream",
          "name": "stdout",
          "text": [
            "13012\n"
          ]
        }
      ]
    },
    {
      "cell_type": "code",
      "source": [
        "print(testLength)"
      ],
      "metadata": {
        "id": "d3ZiP5dBrKIt",
        "colab": {
          "base_uri": "https://localhost:8080/"
        },
        "outputId": "7bf27c1c-10d7-49d3-8c09-7481f7373369"
      },
      "execution_count": 8,
      "outputs": [
        {
          "output_type": "stream",
          "name": "stdout",
          "text": [
            "5576\n"
          ]
        }
      ]
    },
    {
      "cell_type": "code",
      "execution_count": 9,
      "metadata": {
        "id": "TYr4alKoOVog"
      },
      "outputs": [],
      "source": [
        "import tensorflow as tf\n",
        "from tensorflow.keras.models import Model\n",
        "from tensorflow.keras.layers import Dense, Activation, Permute, Dropout\n",
        "from tensorflow.keras.layers import Conv2D, MaxPooling2D, AveragePooling2D\n",
        "from tensorflow.keras.layers import SeparableConv2D, DepthwiseConv2D\n",
        "from tensorflow.keras.layers import BatchNormalization\n",
        "from tensorflow.keras.layers import SpatialDropout2D\n",
        "from tensorflow.keras.regularizers import l1_l2\n",
        "from tensorflow.keras.layers import Input, Flatten\n",
        "from tensorflow.keras.constraints import max_norm\n",
        "from tensorflow.keras import backend as K"
      ]
    },
    {
      "cell_type": "code",
      "execution_count": 10,
      "metadata": {
        "id": "lxKXKEgcTbRm"
      },
      "outputs": [],
      "source": [
        "from tensorflow import keras\n",
        "from tensorflow.keras import utils as np_utils\n",
        "from tensorflow.keras.callbacks import ModelCheckpoint\n",
        "from tensorflow.keras import backend as K\n",
        "\n",
        "\n",
        "from sklearn.pipeline import make_pipeline\n",
        "from sklearn.linear_model import LogisticRegression\n",
        "\n",
        "# tools for plotting confusion matrices\n",
        "from matplotlib import pyplot as plt"
      ]
    },
    {
      "cell_type": "code",
      "execution_count": 11,
      "metadata": {
        "id": "TIOnKRJYguHp"
      },
      "outputs": [],
      "source": [
        "def EEGNet(nb_classes, Chans = 64, Samples = 128,\n",
        "             dropoutRate = 0.5, kernLength = 64, F1 = 8,\n",
        "             D = 2, F2 = 16, norm_rate = 0.25, dropoutType = 'Dropout'):\n",
        "    if dropoutType == 'SpatialDropout2D':\n",
        "        dropoutType = SpatialDropout2D\n",
        "    elif dropoutType == 'Dropout':\n",
        "        dropoutType = Dropout\n",
        "    else:\n",
        "        raise ValueError('dropoutType must be one of SpatialDropout2D '\n",
        "                         'or Dropout, passed as a string.')\n",
        "\n",
        "    input1   = Input(shape = (Chans, Samples, 1))\n",
        "\n",
        "    ##################################################################\n",
        "    block1       = Conv2D(F1, (1, kernLength), padding = 'same',\n",
        "                                   input_shape = (Chans, Samples, 1),\n",
        "                                   use_bias = False)(input1)\n",
        "    block1       = BatchNormalization()(block1)\n",
        "    block1       = DepthwiseConv2D((Chans, 1), use_bias = False,\n",
        "                                   depth_multiplier = D,\n",
        "                                   depthwise_constraint = max_norm(1.))(block1)\n",
        "    block1       = BatchNormalization()(block1)\n",
        "    block1       = Activation('elu')(block1)\n",
        "    block1       = AveragePooling2D((1, 4))(block1)\n",
        "    block1       = dropoutType(dropoutRate)(block1)\n",
        "\n",
        "    block2       = SeparableConv2D(F2, (1, 16),\n",
        "                                   use_bias = False, padding = 'same')(block1)\n",
        "    block2       = BatchNormalization()(block2)\n",
        "    block2       = Activation('elu')(block2)\n",
        "    block2       = AveragePooling2D((1, 8))(block2)\n",
        "    block2       = dropoutType(dropoutRate)(block2)\n",
        "\n",
        "    flatten      = Flatten(name = 'flatten')(block2)\n",
        "\n",
        "    dense        = Dense(nb_classes, name = 'dense',\n",
        "                         kernel_constraint = max_norm(norm_rate))(flatten)\n",
        "    softmax      = Activation('softmax', name = 'softmax')(dense)\n",
        "\n",
        "    return Model(inputs=input1, outputs=softmax)"
      ]
    },
    {
      "cell_type": "code",
      "execution_count": 12,
      "metadata": {
        "colab": {
          "base_uri": "https://localhost:8080/"
        },
        "id": "RBqYQZ3JN3K8",
        "outputId": "4f6d7d01-ab35-474e-b3f1-028b038f16d4"
      },
      "outputs": [
        {
          "output_type": "stream",
          "name": "stderr",
          "text": [
            "WARNING:absl:`lr` is deprecated in Keras optimizer, please use `learning_rate` or use the legacy optimizer, e.g.,tf.keras.optimizers.legacy.Adam.\n"
          ]
        },
        {
          "output_type": "stream",
          "name": "stdout",
          "text": [
            "Epoch 1/100\n",
            "\n",
            "Epoch 1: val_loss improved from inf to 1.01903, saving model to /tmp/checkpoint.h5\n",
            "102/102 - 19s - loss: 0.9733 - accuracy: 0.5378 - val_loss: 1.0190 - val_accuracy: 0.5095 - 19s/epoch - 185ms/step\n",
            "Epoch 2/100\n"
          ]
        },
        {
          "output_type": "stream",
          "name": "stderr",
          "text": [
            "/usr/local/lib/python3.10/dist-packages/keras/src/engine/training.py:3079: UserWarning: You are saving your model as an HDF5 file via `model.save()`. This file format is considered legacy. We recommend using instead the native Keras format, e.g. `model.save('my_model.keras')`.\n",
            "  saving_api.save_model(\n"
          ]
        },
        {
          "output_type": "stream",
          "name": "stdout",
          "text": [
            "\n",
            "Epoch 2: val_loss improved from 1.01903 to 0.89923, saving model to /tmp/checkpoint.h5\n",
            "102/102 - 5s - loss: 0.8936 - accuracy: 0.5540 - val_loss: 0.8992 - val_accuracy: 0.5604 - 5s/epoch - 50ms/step\n",
            "Epoch 3/100\n",
            "\n",
            "Epoch 3: val_loss improved from 0.89923 to 0.83519, saving model to /tmp/checkpoint.h5\n",
            "102/102 - 5s - loss: 0.8443 - accuracy: 0.5791 - val_loss: 0.8352 - val_accuracy: 0.5669 - 5s/epoch - 50ms/step\n",
            "Epoch 4/100\n",
            "\n",
            "Epoch 4: val_loss improved from 0.83519 to 0.79700, saving model to /tmp/checkpoint.h5\n",
            "102/102 - 5s - loss: 0.8167 - accuracy: 0.5971 - val_loss: 0.7970 - val_accuracy: 0.5949 - 5s/epoch - 50ms/step\n",
            "Epoch 5/100\n",
            "\n",
            "Epoch 5: val_loss improved from 0.79700 to 0.78176, saving model to /tmp/checkpoint.h5\n",
            "102/102 - 5s - loss: 0.7975 - accuracy: 0.6118 - val_loss: 0.7818 - val_accuracy: 0.6056 - 5s/epoch - 50ms/step\n",
            "Epoch 6/100\n",
            "\n",
            "Epoch 6: val_loss improved from 0.78176 to 0.76705, saving model to /tmp/checkpoint.h5\n",
            "102/102 - 5s - loss: 0.7789 - accuracy: 0.6267 - val_loss: 0.7670 - val_accuracy: 0.6194 - 5s/epoch - 51ms/step\n",
            "Epoch 7/100\n",
            "\n",
            "Epoch 7: val_loss improved from 0.76705 to 0.76148, saving model to /tmp/checkpoint.h5\n",
            "102/102 - 5s - loss: 0.7628 - accuracy: 0.6381 - val_loss: 0.7615 - val_accuracy: 0.6166 - 5s/epoch - 50ms/step\n",
            "Epoch 8/100\n",
            "\n",
            "Epoch 8: val_loss improved from 0.76148 to 0.72856, saving model to /tmp/checkpoint.h5\n",
            "102/102 - 5s - loss: 0.7537 - accuracy: 0.6421 - val_loss: 0.7286 - val_accuracy: 0.6435 - 5s/epoch - 51ms/step\n",
            "Epoch 9/100\n",
            "\n",
            "Epoch 9: val_loss improved from 0.72856 to 0.72667, saving model to /tmp/checkpoint.h5\n",
            "102/102 - 5s - loss: 0.7435 - accuracy: 0.6522 - val_loss: 0.7267 - val_accuracy: 0.6503 - 5s/epoch - 51ms/step\n",
            "Epoch 10/100\n",
            "\n",
            "Epoch 10: val_loss improved from 0.72667 to 0.72117, saving model to /tmp/checkpoint.h5\n",
            "102/102 - 5s - loss: 0.7402 - accuracy: 0.6512 - val_loss: 0.7212 - val_accuracy: 0.6469 - 5s/epoch - 51ms/step\n",
            "Epoch 11/100\n",
            "\n",
            "Epoch 11: val_loss improved from 0.72117 to 0.71843, saving model to /tmp/checkpoint.h5\n",
            "102/102 - 5s - loss: 0.7292 - accuracy: 0.6584 - val_loss: 0.7184 - val_accuracy: 0.6429 - 5s/epoch - 51ms/step\n",
            "Epoch 12/100\n",
            "\n",
            "Epoch 12: val_loss improved from 0.71843 to 0.71193, saving model to /tmp/checkpoint.h5\n",
            "102/102 - 5s - loss: 0.7250 - accuracy: 0.6590 - val_loss: 0.7119 - val_accuracy: 0.6671 - 5s/epoch - 51ms/step\n",
            "Epoch 13/100\n",
            "\n",
            "Epoch 13: val_loss improved from 0.71193 to 0.70349, saving model to /tmp/checkpoint.h5\n",
            "102/102 - 5s - loss: 0.7212 - accuracy: 0.6627 - val_loss: 0.7035 - val_accuracy: 0.6697 - 5s/epoch - 52ms/step\n",
            "Epoch 14/100\n",
            "\n",
            "Epoch 14: val_loss improved from 0.70349 to 0.70174, saving model to /tmp/checkpoint.h5\n",
            "102/102 - 5s - loss: 0.7152 - accuracy: 0.6652 - val_loss: 0.7017 - val_accuracy: 0.6765 - 5s/epoch - 52ms/step\n",
            "Epoch 15/100\n",
            "\n",
            "Epoch 15: val_loss improved from 0.70174 to 0.70160, saving model to /tmp/checkpoint.h5\n",
            "102/102 - 5s - loss: 0.7100 - accuracy: 0.6678 - val_loss: 0.7016 - val_accuracy: 0.6851 - 5s/epoch - 52ms/step\n",
            "Epoch 16/100\n",
            "\n",
            "Epoch 16: val_loss improved from 0.70160 to 0.69452, saving model to /tmp/checkpoint.h5\n",
            "102/102 - 5s - loss: 0.7086 - accuracy: 0.6695 - val_loss: 0.6945 - val_accuracy: 0.6822 - 5s/epoch - 52ms/step\n",
            "Epoch 17/100\n",
            "\n",
            "Epoch 17: val_loss improved from 0.69452 to 0.69428, saving model to /tmp/checkpoint.h5\n",
            "102/102 - 5s - loss: 0.7107 - accuracy: 0.6719 - val_loss: 0.6943 - val_accuracy: 0.6630 - 5s/epoch - 52ms/step\n",
            "Epoch 18/100\n",
            "\n",
            "Epoch 18: val_loss did not improve from 0.69428\n",
            "102/102 - 5s - loss: 0.7033 - accuracy: 0.6702 - val_loss: 0.7294 - val_accuracy: 0.6376 - 5s/epoch - 52ms/step\n",
            "Epoch 19/100\n",
            "\n",
            "Epoch 19: val_loss improved from 0.69428 to 0.68395, saving model to /tmp/checkpoint.h5\n",
            "102/102 - 5s - loss: 0.6957 - accuracy: 0.6778 - val_loss: 0.6840 - val_accuracy: 0.6887 - 5s/epoch - 53ms/step\n",
            "Epoch 20/100\n",
            "\n",
            "Epoch 20: val_loss did not improve from 0.68395\n",
            "102/102 - 5s - loss: 0.6968 - accuracy: 0.6723 - val_loss: 0.6888 - val_accuracy: 0.6731 - 5s/epoch - 52ms/step\n",
            "Epoch 21/100\n",
            "\n",
            "Epoch 21: val_loss did not improve from 0.68395\n",
            "102/102 - 5s - loss: 0.6939 - accuracy: 0.6761 - val_loss: 0.6968 - val_accuracy: 0.6652 - 5s/epoch - 53ms/step\n",
            "Epoch 22/100\n",
            "\n",
            "Epoch 22: val_loss improved from 0.68395 to 0.67982, saving model to /tmp/checkpoint.h5\n",
            "102/102 - 5s - loss: 0.6922 - accuracy: 0.6798 - val_loss: 0.6798 - val_accuracy: 0.6801 - 5s/epoch - 53ms/step\n",
            "Epoch 23/100\n",
            "\n",
            "Epoch 23: val_loss did not improve from 0.67982\n",
            "102/102 - 5s - loss: 0.6900 - accuracy: 0.6741 - val_loss: 0.7071 - val_accuracy: 0.6609 - 5s/epoch - 53ms/step\n",
            "Epoch 24/100\n",
            "\n",
            "Epoch 24: val_loss did not improve from 0.67982\n",
            "102/102 - 5s - loss: 0.6920 - accuracy: 0.6781 - val_loss: 0.6925 - val_accuracy: 0.6756 - 5s/epoch - 53ms/step\n",
            "Epoch 25/100\n",
            "\n",
            "Epoch 25: val_loss improved from 0.67982 to 0.67607, saving model to /tmp/checkpoint.h5\n",
            "102/102 - 5s - loss: 0.6888 - accuracy: 0.6803 - val_loss: 0.6761 - val_accuracy: 0.6971 - 5s/epoch - 53ms/step\n",
            "Epoch 26/100\n",
            "\n",
            "Epoch 26: val_loss did not improve from 0.67607\n",
            "102/102 - 5s - loss: 0.6865 - accuracy: 0.6797 - val_loss: 0.7152 - val_accuracy: 0.6426 - 5s/epoch - 52ms/step\n",
            "Epoch 27/100\n",
            "\n",
            "Epoch 27: val_loss did not improve from 0.67607\n",
            "102/102 - 5s - loss: 0.6837 - accuracy: 0.6804 - val_loss: 0.6878 - val_accuracy: 0.6786 - 5s/epoch - 53ms/step\n",
            "Epoch 28/100\n",
            "\n",
            "Epoch 28: val_loss improved from 0.67607 to 0.67360, saving model to /tmp/checkpoint.h5\n",
            "102/102 - 5s - loss: 0.6859 - accuracy: 0.6785 - val_loss: 0.6736 - val_accuracy: 0.7000 - 5s/epoch - 53ms/step\n",
            "Epoch 29/100\n",
            "\n",
            "Epoch 29: val_loss improved from 0.67360 to 0.66811, saving model to /tmp/checkpoint.h5\n",
            "102/102 - 5s - loss: 0.6798 - accuracy: 0.6824 - val_loss: 0.6681 - val_accuracy: 0.6975 - 5s/epoch - 53ms/step\n",
            "Epoch 30/100\n",
            "\n",
            "Epoch 30: val_loss did not improve from 0.66811\n",
            "102/102 - 5s - loss: 0.6762 - accuracy: 0.6887 - val_loss: 0.6853 - val_accuracy: 0.6698 - 5s/epoch - 52ms/step\n",
            "Epoch 31/100\n",
            "\n",
            "Epoch 31: val_loss did not improve from 0.66811\n",
            "102/102 - 5s - loss: 0.6770 - accuracy: 0.6818 - val_loss: 0.6751 - val_accuracy: 0.7001 - 5s/epoch - 52ms/step\n",
            "Epoch 32/100\n",
            "\n",
            "Epoch 32: val_loss did not improve from 0.66811\n",
            "102/102 - 5s - loss: 0.6752 - accuracy: 0.6897 - val_loss: 0.7084 - val_accuracy: 0.6526 - 5s/epoch - 52ms/step\n",
            "Epoch 33/100\n",
            "\n",
            "Epoch 33: val_loss did not improve from 0.66811\n",
            "102/102 - 5s - loss: 0.6740 - accuracy: 0.6846 - val_loss: 0.6862 - val_accuracy: 0.6745 - 5s/epoch - 52ms/step\n",
            "Epoch 34/100\n",
            "\n",
            "Epoch 34: val_loss did not improve from 0.66811\n",
            "102/102 - 5s - loss: 0.6728 - accuracy: 0.6900 - val_loss: 0.6971 - val_accuracy: 0.6503 - 5s/epoch - 53ms/step\n",
            "Epoch 35/100\n",
            "\n",
            "Epoch 35: val_loss improved from 0.66811 to 0.66609, saving model to /tmp/checkpoint.h5\n",
            "102/102 - 5s - loss: 0.6781 - accuracy: 0.6902 - val_loss: 0.6661 - val_accuracy: 0.6989 - 5s/epoch - 53ms/step\n",
            "Epoch 36/100\n",
            "\n",
            "Epoch 36: val_loss improved from 0.66609 to 0.66587, saving model to /tmp/checkpoint.h5\n",
            "102/102 - 5s - loss: 0.6760 - accuracy: 0.6841 - val_loss: 0.6659 - val_accuracy: 0.7007 - 5s/epoch - 53ms/step\n",
            "Epoch 37/100\n",
            "\n",
            "Epoch 37: val_loss did not improve from 0.66587\n",
            "102/102 - 5s - loss: 0.6759 - accuracy: 0.6866 - val_loss: 0.6754 - val_accuracy: 0.6747 - 5s/epoch - 52ms/step\n",
            "Epoch 38/100\n",
            "\n",
            "Epoch 38: val_loss did not improve from 0.66587\n",
            "102/102 - 5s - loss: 0.6677 - accuracy: 0.6897 - val_loss: 0.6822 - val_accuracy: 0.6655 - 5s/epoch - 53ms/step\n",
            "Epoch 39/100\n",
            "\n",
            "Epoch 39: val_loss did not improve from 0.66587\n",
            "102/102 - 5s - loss: 0.6670 - accuracy: 0.6897 - val_loss: 0.6813 - val_accuracy: 0.6849 - 5s/epoch - 53ms/step\n",
            "Epoch 40/100\n",
            "\n",
            "Epoch 40: val_loss did not improve from 0.66587\n",
            "102/102 - 5s - loss: 0.6690 - accuracy: 0.6854 - val_loss: 0.6853 - val_accuracy: 0.6713 - 5s/epoch - 53ms/step\n",
            "Epoch 41/100\n",
            "\n",
            "Epoch 41: val_loss did not improve from 0.66587\n",
            "102/102 - 5s - loss: 0.6624 - accuracy: 0.6925 - val_loss: 0.6879 - val_accuracy: 0.6641 - 5s/epoch - 53ms/step\n",
            "Epoch 42/100\n",
            "\n",
            "Epoch 42: val_loss did not improve from 0.66587\n",
            "102/102 - 5s - loss: 0.6680 - accuracy: 0.6926 - val_loss: 0.6701 - val_accuracy: 0.6795 - 5s/epoch - 53ms/step\n",
            "Epoch 43/100\n",
            "\n",
            "Epoch 43: val_loss did not improve from 0.66587\n",
            "102/102 - 5s - loss: 0.6615 - accuracy: 0.6966 - val_loss: 0.6660 - val_accuracy: 0.6917 - 5s/epoch - 53ms/step\n",
            "Epoch 44/100\n",
            "\n",
            "Epoch 44: val_loss improved from 0.66587 to 0.65667, saving model to /tmp/checkpoint.h5\n",
            "102/102 - 5s - loss: 0.6629 - accuracy: 0.6963 - val_loss: 0.6567 - val_accuracy: 0.7088 - 5s/epoch - 53ms/step\n",
            "Epoch 45/100\n",
            "\n",
            "Epoch 45: val_loss improved from 0.65667 to 0.65584, saving model to /tmp/checkpoint.h5\n",
            "102/102 - 5s - loss: 0.6654 - accuracy: 0.6902 - val_loss: 0.6558 - val_accuracy: 0.7089 - 5s/epoch - 53ms/step\n",
            "Epoch 46/100\n",
            "\n",
            "Epoch 46: val_loss improved from 0.65584 to 0.65580, saving model to /tmp/checkpoint.h5\n",
            "102/102 - 5s - loss: 0.6634 - accuracy: 0.6963 - val_loss: 0.6558 - val_accuracy: 0.7080 - 5s/epoch - 53ms/step\n",
            "Epoch 47/100\n",
            "\n",
            "Epoch 47: val_loss did not improve from 0.65580\n",
            "102/102 - 5s - loss: 0.6585 - accuracy: 0.6958 - val_loss: 0.6779 - val_accuracy: 0.6765 - 5s/epoch - 52ms/step\n",
            "Epoch 48/100\n",
            "\n",
            "Epoch 48: val_loss did not improve from 0.65580\n",
            "102/102 - 5s - loss: 0.6698 - accuracy: 0.6940 - val_loss: 0.6677 - val_accuracy: 0.6822 - 5s/epoch - 53ms/step\n",
            "Epoch 49/100\n",
            "\n",
            "Epoch 49: val_loss improved from 0.65580 to 0.65232, saving model to /tmp/checkpoint.h5\n",
            "102/102 - 5s - loss: 0.6590 - accuracy: 0.6894 - val_loss: 0.6523 - val_accuracy: 0.7044 - 5s/epoch - 53ms/step\n",
            "Epoch 50/100\n",
            "\n",
            "Epoch 50: val_loss did not improve from 0.65232\n",
            "102/102 - 5s - loss: 0.6603 - accuracy: 0.6941 - val_loss: 0.6537 - val_accuracy: 0.6991 - 5s/epoch - 52ms/step\n",
            "Epoch 51/100\n",
            "\n",
            "Epoch 51: val_loss did not improve from 0.65232\n",
            "102/102 - 5s - loss: 0.6618 - accuracy: 0.6936 - val_loss: 0.6746 - val_accuracy: 0.6636 - 5s/epoch - 52ms/step\n",
            "Epoch 52/100\n",
            "\n",
            "Epoch 52: val_loss did not improve from 0.65232\n",
            "102/102 - 5s - loss: 0.6578 - accuracy: 0.6947 - val_loss: 0.6629 - val_accuracy: 0.6869 - 5s/epoch - 53ms/step\n",
            "Epoch 53/100\n",
            "\n",
            "Epoch 53: val_loss did not improve from 0.65232\n",
            "102/102 - 5s - loss: 0.6564 - accuracy: 0.6994 - val_loss: 0.6795 - val_accuracy: 0.6697 - 5s/epoch - 53ms/step\n",
            "Epoch 54/100\n",
            "\n",
            "Epoch 54: val_loss did not improve from 0.65232\n",
            "102/102 - 5s - loss: 0.6637 - accuracy: 0.6947 - val_loss: 0.6616 - val_accuracy: 0.6887 - 5s/epoch - 53ms/step\n",
            "Epoch 55/100\n",
            "\n",
            "Epoch 55: val_loss did not improve from 0.65232\n",
            "102/102 - 5s - loss: 0.6585 - accuracy: 0.6931 - val_loss: 0.6665 - val_accuracy: 0.6969 - 5s/epoch - 52ms/step\n",
            "Epoch 56/100\n",
            "\n",
            "Epoch 56: val_loss improved from 0.65232 to 0.65216, saving model to /tmp/checkpoint.h5\n",
            "102/102 - 5s - loss: 0.6562 - accuracy: 0.6955 - val_loss: 0.6522 - val_accuracy: 0.6953 - 5s/epoch - 53ms/step\n",
            "Epoch 57/100\n",
            "\n",
            "Epoch 57: val_loss did not improve from 0.65216\n",
            "102/102 - 5s - loss: 0.6569 - accuracy: 0.6999 - val_loss: 0.6648 - val_accuracy: 0.6865 - 5s/epoch - 52ms/step\n",
            "Epoch 58/100\n",
            "\n",
            "Epoch 58: val_loss improved from 0.65216 to 0.64723, saving model to /tmp/checkpoint.h5\n",
            "102/102 - 5s - loss: 0.6517 - accuracy: 0.6964 - val_loss: 0.6472 - val_accuracy: 0.7077 - 5s/epoch - 53ms/step\n",
            "Epoch 59/100\n",
            "\n",
            "Epoch 59: val_loss did not improve from 0.64723\n",
            "102/102 - 5s - loss: 0.6554 - accuracy: 0.6944 - val_loss: 0.6517 - val_accuracy: 0.6962 - 5s/epoch - 52ms/step\n",
            "Epoch 60/100\n",
            "\n",
            "Epoch 60: val_loss improved from 0.64723 to 0.64701, saving model to /tmp/checkpoint.h5\n",
            "102/102 - 5s - loss: 0.6567 - accuracy: 0.7010 - val_loss: 0.6470 - val_accuracy: 0.7089 - 5s/epoch - 53ms/step\n",
            "Epoch 61/100\n",
            "\n",
            "Epoch 61: val_loss did not improve from 0.64701\n",
            "102/102 - 5s - loss: 0.6550 - accuracy: 0.6931 - val_loss: 0.6551 - val_accuracy: 0.7012 - 5s/epoch - 52ms/step\n",
            "Epoch 62/100\n",
            "\n",
            "Epoch 62: val_loss did not improve from 0.64701\n",
            "102/102 - 5s - loss: 0.6583 - accuracy: 0.6954 - val_loss: 0.6542 - val_accuracy: 0.7077 - 5s/epoch - 53ms/step\n",
            "Epoch 63/100\n",
            "\n",
            "Epoch 63: val_loss did not improve from 0.64701\n",
            "102/102 - 5s - loss: 0.6568 - accuracy: 0.6967 - val_loss: 0.6486 - val_accuracy: 0.7019 - 5s/epoch - 53ms/step\n",
            "Epoch 64/100\n",
            "\n",
            "Epoch 64: val_loss did not improve from 0.64701\n",
            "102/102 - 5s - loss: 0.6518 - accuracy: 0.6954 - val_loss: 0.6560 - val_accuracy: 0.6903 - 5s/epoch - 53ms/step\n",
            "Epoch 65/100\n",
            "\n",
            "Epoch 65: val_loss improved from 0.64701 to 0.64533, saving model to /tmp/checkpoint.h5\n",
            "102/102 - 5s - loss: 0.6471 - accuracy: 0.7057 - val_loss: 0.6453 - val_accuracy: 0.7086 - 5s/epoch - 53ms/step\n",
            "Epoch 66/100\n",
            "\n",
            "Epoch 66: val_loss did not improve from 0.64533\n",
            "102/102 - 5s - loss: 0.6528 - accuracy: 0.6978 - val_loss: 0.6635 - val_accuracy: 0.6815 - 5s/epoch - 52ms/step\n",
            "Epoch 67/100\n",
            "\n",
            "Epoch 67: val_loss did not improve from 0.64533\n",
            "102/102 - 5s - loss: 0.6505 - accuracy: 0.7025 - val_loss: 0.6488 - val_accuracy: 0.6991 - 5s/epoch - 52ms/step\n",
            "Epoch 68/100\n",
            "\n",
            "Epoch 68: val_loss did not improve from 0.64533\n",
            "102/102 - 5s - loss: 0.6544 - accuracy: 0.7016 - val_loss: 0.6691 - val_accuracy: 0.6729 - 5s/epoch - 52ms/step\n",
            "Epoch 69/100\n",
            "\n",
            "Epoch 69: val_loss did not improve from 0.64533\n",
            "102/102 - 5s - loss: 0.6468 - accuracy: 0.7009 - val_loss: 0.6598 - val_accuracy: 0.6817 - 5s/epoch - 53ms/step\n",
            "Epoch 70/100\n",
            "\n",
            "Epoch 70: val_loss did not improve from 0.64533\n",
            "102/102 - 5s - loss: 0.6510 - accuracy: 0.7022 - val_loss: 0.6571 - val_accuracy: 0.6888 - 5s/epoch - 53ms/step\n",
            "Epoch 71/100\n",
            "\n",
            "Epoch 71: val_loss did not improve from 0.64533\n",
            "102/102 - 5s - loss: 0.6449 - accuracy: 0.7029 - val_loss: 0.6670 - val_accuracy: 0.6890 - 5s/epoch - 53ms/step\n",
            "Epoch 72/100\n",
            "\n",
            "Epoch 72: val_loss did not improve from 0.64533\n",
            "102/102 - 5s - loss: 0.6427 - accuracy: 0.7067 - val_loss: 0.6867 - val_accuracy: 0.6560 - 5s/epoch - 53ms/step\n",
            "Epoch 73/100\n",
            "\n",
            "Epoch 73: val_loss did not improve from 0.64533\n",
            "102/102 - 5s - loss: 0.6477 - accuracy: 0.6976 - val_loss: 0.6653 - val_accuracy: 0.6829 - 5s/epoch - 53ms/step\n",
            "Epoch 74/100\n",
            "\n",
            "Epoch 74: val_loss did not improve from 0.64533\n",
            "102/102 - 5s - loss: 0.6456 - accuracy: 0.6983 - val_loss: 0.6479 - val_accuracy: 0.7007 - 5s/epoch - 52ms/step\n",
            "Epoch 75/100\n",
            "\n",
            "Epoch 75: val_loss did not improve from 0.64533\n",
            "102/102 - 5s - loss: 0.6416 - accuracy: 0.7004 - val_loss: 0.6562 - val_accuracy: 0.6962 - 5s/epoch - 53ms/step\n",
            "Epoch 76/100\n",
            "\n",
            "Epoch 76: val_loss improved from 0.64533 to 0.63611, saving model to /tmp/checkpoint.h5\n",
            "102/102 - 5s - loss: 0.6467 - accuracy: 0.7041 - val_loss: 0.6361 - val_accuracy: 0.7181 - 5s/epoch - 53ms/step\n",
            "Epoch 77/100\n",
            "\n",
            "Epoch 77: val_loss did not improve from 0.63611\n",
            "102/102 - 5s - loss: 0.6434 - accuracy: 0.7040 - val_loss: 0.6731 - val_accuracy: 0.6707 - 5s/epoch - 53ms/step\n",
            "Epoch 78/100\n",
            "\n",
            "Epoch 78: val_loss did not improve from 0.63611\n",
            "102/102 - 5s - loss: 0.6454 - accuracy: 0.7031 - val_loss: 0.6539 - val_accuracy: 0.7039 - 5s/epoch - 52ms/step\n",
            "Epoch 79/100\n",
            "\n",
            "Epoch 79: val_loss did not improve from 0.63611\n",
            "102/102 - 5s - loss: 0.6503 - accuracy: 0.6991 - val_loss: 0.6444 - val_accuracy: 0.7159 - 5s/epoch - 52ms/step\n",
            "Epoch 80/100\n",
            "\n",
            "Epoch 80: val_loss did not improve from 0.63611\n",
            "102/102 - 5s - loss: 0.6488 - accuracy: 0.6982 - val_loss: 0.7138 - val_accuracy: 0.6444 - 5s/epoch - 52ms/step\n",
            "Epoch 81/100\n",
            "\n",
            "Epoch 81: val_loss did not improve from 0.63611\n",
            "102/102 - 5s - loss: 0.6474 - accuracy: 0.7016 - val_loss: 0.6505 - val_accuracy: 0.6910 - 5s/epoch - 53ms/step\n",
            "Epoch 82/100\n",
            "\n",
            "Epoch 82: val_loss did not improve from 0.63611\n",
            "102/102 - 5s - loss: 0.6429 - accuracy: 0.7007 - val_loss: 0.6480 - val_accuracy: 0.6969 - 5s/epoch - 52ms/step\n",
            "Epoch 83/100\n",
            "\n",
            "Epoch 83: val_loss did not improve from 0.63611\n",
            "102/102 - 5s - loss: 0.6446 - accuracy: 0.7039 - val_loss: 0.6639 - val_accuracy: 0.6722 - 5s/epoch - 53ms/step\n",
            "Epoch 84/100\n",
            "\n",
            "Epoch 84: val_loss did not improve from 0.63611\n",
            "102/102 - 5s - loss: 0.6453 - accuracy: 0.7007 - val_loss: 0.6707 - val_accuracy: 0.6677 - 5s/epoch - 52ms/step\n",
            "Epoch 85/100\n",
            "\n",
            "Epoch 85: val_loss did not improve from 0.63611\n",
            "102/102 - 5s - loss: 0.6454 - accuracy: 0.7005 - val_loss: 0.6380 - val_accuracy: 0.7141 - 5s/epoch - 52ms/step\n",
            "Epoch 86/100\n",
            "\n",
            "Epoch 86: val_loss did not improve from 0.63611\n",
            "102/102 - 5s - loss: 0.6453 - accuracy: 0.7024 - val_loss: 0.6489 - val_accuracy: 0.6962 - 5s/epoch - 52ms/step\n",
            "Epoch 87/100\n",
            "\n",
            "Epoch 87: val_loss did not improve from 0.63611\n",
            "102/102 - 5s - loss: 0.6405 - accuracy: 0.7075 - val_loss: 0.6395 - val_accuracy: 0.7096 - 5s/epoch - 53ms/step\n",
            "Epoch 88/100\n",
            "\n",
            "Epoch 88: val_loss did not improve from 0.63611\n",
            "102/102 - 5s - loss: 0.6418 - accuracy: 0.7013 - val_loss: 0.6622 - val_accuracy: 0.6865 - 5s/epoch - 52ms/step\n",
            "Epoch 89/100\n",
            "\n",
            "Epoch 89: val_loss did not improve from 0.63611\n",
            "102/102 - 5s - loss: 0.6423 - accuracy: 0.7043 - val_loss: 0.6375 - val_accuracy: 0.7122 - 5s/epoch - 52ms/step\n",
            "Epoch 90/100\n",
            "\n",
            "Epoch 90: val_loss did not improve from 0.63611\n",
            "102/102 - 5s - loss: 0.6442 - accuracy: 0.6988 - val_loss: 0.6410 - val_accuracy: 0.7111 - 5s/epoch - 53ms/step\n",
            "Epoch 91/100\n",
            "\n",
            "Epoch 91: val_loss did not improve from 0.63611\n",
            "102/102 - 5s - loss: 0.6390 - accuracy: 0.7043 - val_loss: 0.6385 - val_accuracy: 0.7109 - 5s/epoch - 52ms/step\n",
            "Epoch 92/100\n",
            "\n",
            "Epoch 92: val_loss did not improve from 0.63611\n",
            "102/102 - 5s - loss: 0.6407 - accuracy: 0.7053 - val_loss: 0.6478 - val_accuracy: 0.7007 - 5s/epoch - 53ms/step\n",
            "Epoch 93/100\n",
            "\n",
            "Epoch 93: val_loss did not improve from 0.63611\n",
            "102/102 - 5s - loss: 0.6384 - accuracy: 0.7051 - val_loss: 0.6469 - val_accuracy: 0.7048 - 5s/epoch - 52ms/step\n",
            "Epoch 94/100\n",
            "\n",
            "Epoch 94: val_loss did not improve from 0.63611\n",
            "102/102 - 5s - loss: 0.6377 - accuracy: 0.7080 - val_loss: 0.6615 - val_accuracy: 0.6842 - 5s/epoch - 52ms/step\n",
            "Epoch 95/100\n",
            "\n",
            "Epoch 95: val_loss did not improve from 0.63611\n",
            "102/102 - 5s - loss: 0.6388 - accuracy: 0.7063 - val_loss: 0.6396 - val_accuracy: 0.7061 - 5s/epoch - 52ms/step\n",
            "Epoch 96/100\n",
            "\n",
            "Epoch 96: val_loss did not improve from 0.63611\n",
            "102/102 - 5s - loss: 0.6384 - accuracy: 0.7073 - val_loss: 0.6482 - val_accuracy: 0.6967 - 5s/epoch - 52ms/step\n",
            "175/175 [==============================] - 1s 4ms/step\n",
            "Classification accuracy: 0.718077 \n"
          ]
        }
      ],
      "source": [
        "model = EEGNet(nb_classes = 3, Chans = 30, Samples = 1000,\n",
        "               dropoutRate = 0.5)\n",
        "\n",
        "# compile the model and set the optimizers\n",
        "optimizer_ = keras.optimizers.Adam(lr=0.0005)\n",
        "model.compile(loss='categorical_crossentropy', optimizer=optimizer_,\n",
        "              metrics = ['accuracy'])\n",
        "\n",
        "# count number of parameters in the model\n",
        "numParams    = model.count_params()\n",
        "\n",
        "# set a valid path for your system to record model checkpoints\n",
        "checkpointer = ModelCheckpoint(filepath='/tmp/checkpoint.h5', verbose=1,\n",
        "                               save_best_only=True)\n",
        "\n",
        "###############################################################################\n",
        "# if the classification task was imbalanced (significantly more trials in one\n",
        "# class versus the others) you can assign a weight to each class during\n",
        "# optimization to balance it out. This data is approximately balanced so we\n",
        "# don't need to do this, but is shown here for illustration/completeness.\n",
        "###############################################################################\n",
        "\n",
        "# the syntax is {class_1:weight_1, class_2:weight_2,...}. Here just setting\n",
        "# the weights all to be 1\n",
        "class_weights = {0:1, 1:1, 2:1, 3:1}\n",
        "\n",
        "################################################################################\n",
        "# fit the model. Due to very small sample sizes this can get\n",
        "# pretty noisy run-to-run, but most runs should be comparable to xDAWN +\n",
        "# Riemannian geometry classification (below)\n",
        "################################################################################\n",
        "with tf.device('/device:GPU:0'):\n",
        "#with tf.device('cpu'):\n",
        "  fittedModel = model.fit(X_train, Y_train, batch_size = 128, epochs = 100,\n",
        "                          verbose = 2, validation_data=(X_test, Y_test),\n",
        "                          callbacks=[checkpointer, keras.callbacks.EarlyStopping(monitor='val_loss',patience=20)], class_weight = class_weights)\n",
        "\n",
        "# load optimal weights\n",
        "model.load_weights('/tmp/checkpoint.h5')\n",
        "\n",
        "###############################################################################\n",
        "# can alternatively used the weights provided in the repo. If so it should get\n",
        "# you 93% accuracy. Change the WEIGHTS_PATH variable to wherever it is on your\n",
        "# system.\n",
        "###############################################################################\n",
        "\n",
        "# WEIGHTS_PATH = /path/to/EEGNet-8-2-weights.h5\n",
        "# model.load_weights(WEIGHTS_PATH)\n",
        "\n",
        "###############################################################################\n",
        "# make prediction on test set.\n",
        "###############################################################################\n",
        "\n",
        "probs       = model.predict(X_test)\n",
        "preds       = probs.argmax(axis = -1)\n",
        "acc         = np.mean(preds == Y_test.argmax(axis=-1))\n",
        "print(\"Classification accuracy: %f \" % (acc))"
      ]
    },
    {
      "cell_type": "code",
      "source": [
        "plt.plot(fittedModel.history['val_loss'])\n",
        "plt.title(\"Training Loss\")\n",
        "plt.xlabel(\"Epochs\")\n",
        "plt.ylabel(\"Accuracy\")"
      ],
      "metadata": {
        "colab": {
          "base_uri": "https://localhost:8080/",
          "height": 489
        },
        "id": "uB8ZXa86_kus",
        "outputId": "66d48a54-46f6-4faf-955d-7f8ce581ba90"
      },
      "execution_count": 14,
      "outputs": [
        {
          "output_type": "execute_result",
          "data": {
            "text/plain": [
              "Text(0, 0.5, 'Accuracy')"
            ]
          },
          "metadata": {},
          "execution_count": 14
        },
        {
          "output_type": "display_data",
          "data": {
            "text/plain": [
              "<Figure size 640x480 with 1 Axes>"
            ],
            "image/png": "[encoded data removed]"
          },
          "metadata": {}
        }
      ]
    }
  ]
}