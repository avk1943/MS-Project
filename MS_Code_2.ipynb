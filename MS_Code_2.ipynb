{
  "cells": [
    {
      "cell_type": "markdown",
      "metadata": {
        "id": "view-in-github",
        "colab_type": "text"
      },
      "source": [
        "<a href=\"https://colab.research.google.com/github/avk1943/MS-Project/blob/main/MS_Code_2.ipynb\" target=\"_parent\"><img src=\"https://colab.research.google.com/assets/colab-badge.svg\" alt=\"Open In Colab\"/></a>"
      ]
    },
    {
      "cell_type": "markdown",
      "metadata": {
        "id": "HNxWksq0Bi13"
      },
      "source": [
        "# Preparing Data Loaders\n"
      ]
    },
    {
      "cell_type": "code",
      "execution_count": 1,
      "metadata": {
        "colab": {
          "base_uri": "https://localhost:8080/"
        },
        "id": "chJrBTqB_Yhw",
        "outputId": "504c4ce7-9cdc-45e6-f8ea-c15cd3130106"
      },
      "outputs": [
        {
          "output_type": "stream",
          "name": "stdout",
          "text": [
            "Mounted at /content/drive\n"
          ]
        }
      ],
      "source": [
        "from google.colab import drive\n",
        "drive.mount('/content/drive')"
      ]
    },
    {
      "cell_type": "code",
      "execution_count": 2,
      "metadata": {
        "id": "uyPoOPsKoXtm"
      },
      "outputs": [],
      "source": [
        "import os\n",
        "import numpy as np\n",
        "import h5py\n",
        "import matplotlib.pyplot as plt"
      ]
    },
    {
      "cell_type": "code",
      "execution_count": null,
      "metadata": {
        "colab": {
          "base_uri": "https://localhost:8080/"
        },
        "id": "YIOhuQ4c4R-1",
        "outputId": "311728a5-ccb2-409c-d6c5-a777fba5d893"
      },
      "outputs": [
        {
          "output_type": "stream",
          "name": "stdout",
          "text": [
            "/content/drive/Shared drives/Master Project\n"
          ]
        }
      ],
      "source": [
        "\n",
        "%cd /content/drive/Shared drives/Master Project/\n",
        "\n",
        "with open('master_data_X.npy', 'rb') as f:\n",
        "  X = np.load(f)\n",
        "\n",
        "X.shape"
      ]
    },
    {
      "cell_type": "code",
      "execution_count": null,
      "metadata": {
        "id": "-wWv89MT52Bk"
      },
      "outputs": [],
      "source": [
        "with open('master_data_Y.npy', 'rb') as f:\n",
        "  y = np.load(f)\n",
        "\n",
        "y.shape"
      ]
    },
    {
      "cell_type": "code",
      "execution_count": null,
      "metadata": {
        "id": "EBdRQjw981-Q"
      },
      "outputs": [],
      "source": [
        "X.dtype"
      ]
    },
    {
      "cell_type": "code",
      "execution_count": null,
      "metadata": {
        "id": "33bAbbEn868a"
      },
      "outputs": [],
      "source": [
        "y.dtype"
      ]
    },
    {
      "cell_type": "code",
      "execution_count": null,
      "metadata": {
        "id": "ijVlEc0E9eza"
      },
      "outputs": [],
      "source": [
        "X = np.float32(X)\n",
        "X.dtype"
      ]
    },
    {
      "cell_type": "code",
      "execution_count": null,
      "metadata": {
        "id": "YDSeLAm79YAH"
      },
      "outputs": [],
      "source": [
        "y = np.float32(y)\n",
        "y.dtype"
      ]
    },
    {
      "cell_type": "code",
      "execution_count": null,
      "metadata": {
        "id": "RNk2JuEd4eVx"
      },
      "outputs": [],
      "source": [
        "import torch"
      ]
    },
    {
      "cell_type": "code",
      "execution_count": null,
      "metadata": {
        "id": "r1HRy1Hi30eb"
      },
      "outputs": [],
      "source": [
        "x_set = torch.from_numpy(X)"
      ]
    },
    {
      "cell_type": "code",
      "execution_count": null,
      "metadata": {
        "id": "Gjl_60Qq4njI"
      },
      "outputs": [],
      "source": [
        "x_set.size()"
      ]
    },
    {
      "cell_type": "code",
      "execution_count": null,
      "metadata": {
        "id": "lxOfkO2Sl1za"
      },
      "outputs": [],
      "source": [
        "#x_set = x_set.type(torch.LongTensor)"
      ]
    },
    {
      "cell_type": "code",
      "execution_count": null,
      "metadata": {
        "id": "bEeIrhZPEJ3c"
      },
      "outputs": [],
      "source": [
        "#x_set = x_set.unsqueeze(1)\n",
        "#x_set.size()"
      ]
    },
    {
      "cell_type": "code",
      "execution_count": null,
      "metadata": {
        "id": "zbYqQTqEAFpR"
      },
      "outputs": [],
      "source": [
        "#x_set = x_set.permute(0, 2, 1)"
      ]
    },
    {
      "cell_type": "code",
      "execution_count": null,
      "metadata": {
        "id": "MEzWmQvd4pud"
      },
      "outputs": [],
      "source": [
        "y_set = torch.from_numpy(y)\n",
        "y_set.size()"
      ]
    },
    {
      "cell_type": "code",
      "execution_count": null,
      "metadata": {
        "id": "CgfyYVrTl-Fx"
      },
      "outputs": [],
      "source": [
        "#y_set = y_set.type(torch.LongTensor)"
      ]
    },
    {
      "cell_type": "code",
      "execution_count": null,
      "metadata": {
        "id": "L4JSdfV6niN7"
      },
      "outputs": [],
      "source": [
        "from torch.utils.data import TensorDataset"
      ]
    },
    {
      "cell_type": "code",
      "execution_count": null,
      "metadata": {
        "id": "ftCogVKw1rN-"
      },
      "outputs": [],
      "source": [
        "data_set = TensorDataset(x_set, y_set)"
      ]
    },
    {
      "cell_type": "code",
      "execution_count": null,
      "metadata": {
        "id": "aUEVb6Nr6bsl"
      },
      "outputs": [],
      "source": [
        "from torch.utils.data.sampler import SubsetRandomSampler"
      ]
    },
    {
      "cell_type": "code",
      "execution_count": null,
      "metadata": {
        "id": "s8IYm4Ws1rLL"
      },
      "outputs": [],
      "source": [
        "test_split = .3\n",
        "shuffle_dataset = True\n",
        "random_seed= 42\n",
        "\n",
        "# Creating data indices for training and validation splits:\n",
        "dataset_size = len(x_set)\n",
        "print(\"Dataset size:\"+str(dataset_size))\n",
        "indices = list(range(dataset_size))\n",
        "split = int(np.floor(test_split * dataset_size))\n",
        "if shuffle_dataset :\n",
        "    np.random.seed(random_seed)\n",
        "    np.random.shuffle(indices)\n",
        "train_indices, test_indices = indices[split:], indices[:split]\n",
        "\n",
        "# Creating PT data samplers and loaders:\n",
        "train_sampler = SubsetRandomSampler(train_indices)\n",
        "test_sampler = SubsetRandomSampler(test_indices)\n"
      ]
    },
    {
      "cell_type": "code",
      "execution_count": null,
      "metadata": {
        "id": "bRm_BDjBaTXF"
      },
      "outputs": [],
      "source": [
        "print(len(train_indices))"
      ]
    },
    {
      "cell_type": "code",
      "execution_count": null,
      "metadata": {
        "id": "gtKCNtJTaXwg"
      },
      "outputs": [],
      "source": [
        "print(len(test_indices))"
      ]
    },
    {
      "cell_type": "code",
      "execution_count": null,
      "metadata": {
        "id": "HcD6Fy1862EI"
      },
      "outputs": [],
      "source": [
        "from torch.utils.data import DataLoader"
      ]
    },
    {
      "cell_type": "code",
      "execution_count": null,
      "metadata": {
        "id": "Dxm2qnHB1rIR"
      },
      "outputs": [],
      "source": [
        "batch_size = 8\n",
        "train_loader = torch.utils.data.DataLoader(data_set, batch_size=batch_size,\n",
        "                                           sampler=train_sampler)\n",
        "test_loader = torch.utils.data.DataLoader(data_set, batch_size=batch_size,\n",
        "                                                sampler=test_sampler)"
      ]
    },
    {
      "cell_type": "code",
      "execution_count": null,
      "metadata": {
        "id": "n32RRYqpB0dn"
      },
      "outputs": [],
      "source": []
    },
    {
      "cell_type": "markdown",
      "metadata": {
        "id": "DWDVw20ZB2sv"
      },
      "source": [
        "# Basic SNN Model with more control"
      ]
    },
    {
      "cell_type": "code",
      "execution_count": null,
      "metadata": {
        "id": "hDnIEHOKB8LD",
        "colab": {
          "base_uri": "https://localhost:8080/"
        },
        "outputId": "66ee0067-efae-4933-f865-07a02f126b2e"
      },
      "outputs": [
        {
          "output_type": "stream",
          "name": "stdout",
          "text": [
            "\u001b[?25l     \u001b[90m━━━━━━━━━━━━━━━━━━━━━━━━━━━━━━━━━━━━━━━━\u001b[0m \u001b[32m0.0/109.0 kB\u001b[0m \u001b[31m?\u001b[0m eta \u001b[36m-:--:--\u001b[0m\r\u001b[2K     \u001b[91m━━━━━━━━━━━━━━━━━━━━━━━━━━━━━━━━━━━━\u001b[0m\u001b[91m╸\u001b[0m\u001b[90m━━\u001b[0m \u001b[32m102.4/109.0 kB\u001b[0m \u001b[31m2.7 MB/s\u001b[0m eta \u001b[36m0:00:01\u001b[0m\r\u001b[2K     \u001b[90m━━━━━━━━━━━━━━━━━━━━━━━━━━━━━━━━━━━━━━━\u001b[0m \u001b[32m109.0/109.0 kB\u001b[0m \u001b[31m2.2 MB/s\u001b[0m eta \u001b[36m0:00:00\u001b[0m\n",
            "\u001b[?25h"
          ]
        }
      ],
      "source": [
        "!pip install snntorch --quiet"
      ]
    },
    {
      "cell_type": "code",
      "execution_count": null,
      "metadata": {
        "id": "WL487gZW1Agy"
      },
      "outputs": [],
      "source": [
        "import torch, torch.nn as nn\n",
        "import snntorch as snn"
      ]
    },
    {
      "cell_type": "code",
      "execution_count": null,
      "metadata": {
        "id": "eo4T5MC21hgD"
      },
      "outputs": [],
      "source": [
        "#batch_size = 128\n",
        "#data_path='/data/mnist'\n",
        "device = torch.device(\"cuda\") if torch.cuda.is_available() else torch.device(\"cpu\")"
      ]
    },
    {
      "cell_type": "code",
      "execution_count": null,
      "metadata": {
        "id": "7d286ef9-5fe6-4578-a686-91559a1f81d2"
      },
      "outputs": [],
      "source": [
        "import torch.nn.functional as F\n",
        "\n",
        "# Define Network\n",
        "class Net(nn.Module):\n",
        "    def __init__(self):\n",
        "        super().__init__()\n",
        "\n",
        "        num_inputs = 30000\n",
        "        num_hidden = 300\n",
        "        num_outputs = 3\n",
        "        #spike_grad = surrogate.fast_sigmoid()\n",
        "\n",
        "        # global decay rate for all leaky neurons in layer 1\n",
        "        beta1 = 0.9\n",
        "        # independent decay rate for each leaky neuron in layer 2: [0, 1)\n",
        "        beta2 = torch.rand((num_outputs), dtype = torch.float) #.to(device)\n",
        "\n",
        "        # Init layers\n",
        "        self.fc1 = nn.Linear(num_inputs, num_hidden)\n",
        "        self.lif1 = snn.Leaky(beta=beta1, learn_beta=True)\n",
        "        #self.double()\n",
        "        self.fc2 = nn.Linear(num_hidden, num_outputs)\n",
        "        self.lif2 = snn.Leaky(beta=beta2, learn_beta=True)\n",
        "        #self.double()\n",
        "\n",
        "    def forward(self, x):\n",
        "\n",
        "        # reset hidden states and outputs at t=0\n",
        "        mem1 = self.lif1.init_leaky()\n",
        "        mem2 = self.lif2.init_leaky()\n",
        "\n",
        "        # Record the final layer\n",
        "        spk2_rec = []\n",
        "        mem2_rec = []\n",
        "\n",
        "        for step in range(num_steps):\n",
        "            cur1 = self.fc1(x.flatten(1))\n",
        "            #print(x.flatten(1).size())\n",
        "            spk1, mem1 = self.lif1(cur1, mem1)\n",
        "            cur2 = self.fc2(spk1)\n",
        "            spk2, mem2 = self.lif2(cur2, mem2)\n",
        "\n",
        "            spk2_rec.append(spk2)\n",
        "            mem2_rec.append(mem2)\n",
        "\n",
        "        return torch.stack(spk2_rec), torch.stack(mem2_rec)\n",
        "\n",
        "# Load the network onto CUDA if available\n",
        "net = Net().to(device)"
      ]
    },
    {
      "cell_type": "code",
      "execution_count": null,
      "metadata": {
        "id": "Fz7qFz2GEZzJ"
      },
      "outputs": [],
      "source": [
        "import snntorch.functional as SF"
      ]
    },
    {
      "cell_type": "code",
      "execution_count": null,
      "metadata": {
        "colab": {
          "base_uri": "https://localhost:8080/"
        },
        "id": "_aCrVAh_cyTU",
        "outputId": "71e8ef95-a8f9-4f6e-a398-2b17393920bc"
      },
      "outputs": [
        {
          "output_type": "stream",
          "name": "stdout",
          "text": [
            "Epoch 0, Iteration 0 \n",
            "Train Loss: 2.16\n",
            "Accuracy: 50.00%\n",
            "\n",
            "Epoch 0, Iteration 25 \n",
            "Train Loss: 2.00\n",
            "Accuracy: 25.00%\n",
            "\n",
            "Epoch 0, Iteration 50 \n",
            "Train Loss: 2.12\n",
            "Accuracy: 37.50%\n",
            "\n",
            "Epoch 0, Iteration 75 \n",
            "Train Loss: 1.39\n",
            "Accuracy: 37.50%\n",
            "\n",
            "Epoch 0, Iteration 100 \n",
            "Train Loss: 1.62\n",
            "Accuracy: 12.50%\n",
            "\n",
            "Epoch 0, Iteration 125 \n",
            "Train Loss: 1.36\n",
            "Accuracy: 37.50%\n",
            "\n",
            "Epoch 0, Iteration 150 \n",
            "Train Loss: 0.65\n",
            "Accuracy: 75.00%\n",
            "\n",
            "Epoch 0, Iteration 175 \n",
            "Train Loss: 0.74\n",
            "Accuracy: 50.00%\n",
            "\n",
            "Epoch 0, Iteration 200 \n",
            "Train Loss: 0.77\n",
            "Accuracy: 25.00%\n",
            "\n",
            "Epoch 0, Iteration 225 \n",
            "Train Loss: 0.80\n",
            "Accuracy: 50.00%\n",
            "\n",
            "Epoch 0, Iteration 250 \n",
            "Train Loss: 0.54\n",
            "Accuracy: 37.50%\n",
            "\n",
            "Epoch 0, Iteration 275 \n",
            "Train Loss: 0.80\n",
            "Accuracy: 50.00%\n",
            "\n",
            "Epoch 0, Iteration 300 \n",
            "Train Loss: 0.39\n",
            "Accuracy: 62.50%\n",
            "\n",
            "Epoch 0, Iteration 325 \n",
            "Train Loss: 0.72\n",
            "Accuracy: 12.50%\n",
            "\n",
            "Epoch 0, Iteration 350 \n",
            "Train Loss: 0.47\n",
            "Accuracy: 50.00%\n",
            "\n",
            "Epoch 0, Iteration 375 \n",
            "Train Loss: 0.31\n",
            "Accuracy: 62.50%\n",
            "\n",
            "Epoch 0, Iteration 400 \n",
            "Train Loss: 0.64\n",
            "Accuracy: 37.50%\n",
            "\n",
            "Epoch 0, Iteration 425 \n",
            "Train Loss: 0.41\n",
            "Accuracy: 50.00%\n",
            "\n",
            "Epoch 0, Iteration 450 \n",
            "Train Loss: 0.51\n",
            "Accuracy: 62.50%\n",
            "\n",
            "Epoch 0, Iteration 475 \n",
            "Train Loss: 0.46\n",
            "Accuracy: 75.00%\n",
            "\n",
            "Epoch 0, Iteration 500 \n",
            "Train Loss: 0.87\n",
            "Accuracy: 25.00%\n",
            "\n",
            "Epoch 0, Iteration 525 \n",
            "Train Loss: 0.30\n",
            "Accuracy: 62.50%\n",
            "\n",
            "Epoch 0, Iteration 550 \n",
            "Train Loss: 0.42\n",
            "Accuracy: 25.00%\n",
            "\n",
            "Epoch 0, Iteration 575 \n",
            "Train Loss: 0.34\n",
            "Accuracy: 50.00%\n",
            "\n",
            "Epoch 0, Iteration 600 \n",
            "Train Loss: 0.37\n",
            "Accuracy: 62.50%\n",
            "\n",
            "Epoch 0, Iteration 625 \n",
            "Train Loss: 0.57\n",
            "Accuracy: 25.00%\n",
            "\n",
            "Epoch 0, Iteration 650 \n",
            "Train Loss: 0.43\n",
            "Accuracy: 87.50%\n",
            "\n",
            "Epoch 0, Iteration 675 \n",
            "Train Loss: 1.07\n",
            "Accuracy: 37.50%\n",
            "\n",
            "Epoch 0, Iteration 700 \n",
            "Train Loss: 0.56\n",
            "Accuracy: 37.50%\n",
            "\n",
            "Epoch 0, Iteration 725 \n",
            "Train Loss: 0.50\n",
            "Accuracy: 25.00%\n",
            "\n",
            "Epoch 0, Iteration 750 \n",
            "Train Loss: 0.35\n",
            "Accuracy: 62.50%\n",
            "\n",
            "Epoch 0, Iteration 775 \n",
            "Train Loss: 0.55\n",
            "Accuracy: 25.00%\n",
            "\n",
            "Epoch 0, Iteration 800 \n",
            "Train Loss: 0.50\n",
            "Accuracy: 62.50%\n",
            "\n",
            "Epoch 0, Iteration 825 \n",
            "Train Loss: 0.28\n",
            "Accuracy: 62.50%\n",
            "\n",
            "Epoch 0, Iteration 850 \n",
            "Train Loss: 0.37\n",
            "Accuracy: 37.50%\n",
            "\n",
            "Epoch 0, Iteration 875 \n",
            "Train Loss: 0.50\n",
            "Accuracy: 37.50%\n",
            "\n",
            "Epoch 0, Iteration 900 \n",
            "Train Loss: 0.59\n",
            "Accuracy: 50.00%\n",
            "\n",
            "Epoch 0, Iteration 925 \n",
            "Train Loss: 0.14\n",
            "Accuracy: 100.00%\n",
            "\n",
            "Epoch 0, Iteration 950 \n",
            "Train Loss: 0.38\n",
            "Accuracy: 37.50%\n",
            "\n",
            "Epoch 0, Iteration 975 \n",
            "Train Loss: 0.47\n",
            "Accuracy: 50.00%\n",
            "\n",
            "Epoch 0, Iteration 1000 \n",
            "Train Loss: 0.62\n",
            "Accuracy: 25.00%\n",
            "\n",
            "Epoch 0, Iteration 1025 \n",
            "Train Loss: 0.49\n",
            "Accuracy: 50.00%\n",
            "\n",
            "Epoch 0, Iteration 1050 \n",
            "Train Loss: 0.40\n",
            "Accuracy: 50.00%\n",
            "\n",
            "Epoch 0, Iteration 1075 \n",
            "Train Loss: 0.22\n",
            "Accuracy: 100.00%\n",
            "\n",
            "Epoch 0, Iteration 1100 \n",
            "Train Loss: 0.47\n",
            "Accuracy: 25.00%\n",
            "\n",
            "Epoch 0, Iteration 1125 \n",
            "Train Loss: 0.50\n",
            "Accuracy: 25.00%\n",
            "\n",
            "Epoch 0, Iteration 1150 \n",
            "Train Loss: 0.51\n",
            "Accuracy: 37.50%\n",
            "\n",
            "Epoch 0, Iteration 1175 \n",
            "Train Loss: 0.43\n",
            "Accuracy: 50.00%\n",
            "\n",
            "Epoch 0, Iteration 1200 \n",
            "Train Loss: 0.60\n",
            "Accuracy: 37.50%\n",
            "\n",
            "Epoch 0, Iteration 1225 \n",
            "Train Loss: 0.51\n",
            "Accuracy: 50.00%\n",
            "\n",
            "Epoch 0, Iteration 1250 \n",
            "Train Loss: 0.22\n",
            "Accuracy: 75.00%\n",
            "\n",
            "Epoch 0, Iteration 1275 \n",
            "Train Loss: 0.94\n",
            "Accuracy: 25.00%\n",
            "\n",
            "Epoch 0, Iteration 1300 \n",
            "Train Loss: 0.40\n",
            "Accuracy: 25.00%\n",
            "\n",
            "Epoch 0, Iteration 1325 \n",
            "Train Loss: 0.25\n",
            "Accuracy: 75.00%\n",
            "\n",
            "Epoch 0, Iteration 1350 \n",
            "Train Loss: 0.38\n",
            "Accuracy: 25.00%\n",
            "\n",
            "Epoch 0, Iteration 1375 \n",
            "Train Loss: 1.33\n",
            "Accuracy: 12.50%\n",
            "\n",
            "Epoch 0, Iteration 1400 \n",
            "Train Loss: 0.77\n",
            "Accuracy: 25.00%\n",
            "\n",
            "Epoch 0, Iteration 1425 \n",
            "Train Loss: 0.37\n",
            "Accuracy: 50.00%\n",
            "\n",
            "Epoch 0, Iteration 1450 \n",
            "Train Loss: 0.50\n",
            "Accuracy: 37.50%\n",
            "\n",
            "Epoch 0, Iteration 1475 \n",
            "Train Loss: 0.42\n",
            "Accuracy: 62.50%\n",
            "\n",
            "Epoch 0, Iteration 1500 \n",
            "Train Loss: 0.59\n",
            "Accuracy: 25.00%\n",
            "\n",
            "Epoch 0, Iteration 1525 \n",
            "Train Loss: 0.85\n",
            "Accuracy: 25.00%\n",
            "\n",
            "Epoch 0, Iteration 1550 \n",
            "Train Loss: 0.81\n",
            "Accuracy: 50.00%\n",
            "\n",
            "Epoch 0, Iteration 1575 \n",
            "Train Loss: 0.43\n",
            "Accuracy: 37.50%\n",
            "\n",
            "Epoch 0, Iteration 1600 \n",
            "Train Loss: 0.50\n",
            "Accuracy: 50.00%\n",
            "\n",
            "Epoch 0, Iteration 1625 \n",
            "Train Loss: 0.34\n",
            "Accuracy: 62.50%\n",
            "\n"
          ]
        }
      ],
      "source": [
        "optimizer = torch.optim.Adam(net.parameters(), lr=2e-3, betas=(0.9, 0.999))\n",
        "loss_fn = SF.mse_count_loss(correct_rate=0.7, incorrect_rate=0.3)\n",
        "#SF.ce_count_loss()\n",
        "#SF.mse_count_loss(correct_rate=0.6, incorrect_rate=0.4)\n",
        "\n",
        "num_epochs = 1\n",
        "num_steps = 10  # run for 25 time steps\n",
        "\n",
        "loss_hist = []\n",
        "acc_hist = []\n",
        "\n",
        "# training loop\n",
        "for epoch in range(num_epochs):\n",
        "    for i, (data, targets) in enumerate(iter(train_loader)):\n",
        "        data = data.to(device)\n",
        "        targets = targets.to(device)\n",
        "\n",
        "        net.train()\n",
        "        spk_rec, _ = net(data)\n",
        "        loss_val = loss_fn(spk_rec, targets)\n",
        "\n",
        "        # Gradient calculation + weight update\n",
        "        optimizer.zero_grad()\n",
        "        loss_val.backward()\n",
        "        optimizer.step()\n",
        "\n",
        "        # Store loss history for future plotting\n",
        "        loss_hist.append(loss_val.item())\n",
        "\n",
        "        # print every 25 iterations\n",
        "        if i % 25 == 0:\n",
        "          net.eval()\n",
        "          print(f\"Epoch {epoch}, Iteration {i} \\nTrain Loss: {loss_val.item():.2f}\")\n",
        "\n",
        "          # check accuracy on a single batch\n",
        "          acc = SF.accuracy_rate(spk_rec, targets)\n",
        "          acc_hist.append(acc)\n",
        "          print(f\"Accuracy: {acc * 100:.2f}%\\n\")\n",
        "\n",
        "        # uncomment for faster termination\n",
        "        # if i == 150:\n",
        "        #     break\n"
      ]
    },
    {
      "cell_type": "code",
      "execution_count": null,
      "metadata": {
        "id": "hmZJRdzIgpMb",
        "colab": {
          "base_uri": "https://localhost:8080/"
        },
        "outputId": "b0183563-2608-4965-f613-c88b415178e9"
      },
      "outputs": [
        {
          "output_type": "stream",
          "name": "stdout",
          "text": [
            "Trained decay rate of the first layer:\n",
            "Parameter containing:\n",
            "tensor(0.8183, requires_grad=True)\n",
            "Trained decay rates of the second layer: Parameter containing:\n",
            "tensor([0.8946, 0.8081, 0.8503], requires_grad=True)\n"
          ]
        }
      ],
      "source": [
        "print(f\"Trained decay rate of the first layer:\")\n",
        "print(net.lif1.beta)\n",
        "\n",
        "print(f\"Trained decay rates of the second layer: {net.lif2.beta}\")"
      ]
    },
    {
      "cell_type": "code",
      "execution_count": null,
      "metadata": {
        "id": "CXCggOzk2vYF"
      },
      "outputs": [],
      "source": [
        "def test_accuracy(data_loader, net, num_steps):\n",
        "  with torch.no_grad():\n",
        "    total = 0\n",
        "    acc = 0\n",
        "    net.eval()\n",
        "\n",
        "    data_loader = iter(data_loader)\n",
        "    for data, targets in data_loader:\n",
        "      data = data.to(device)\n",
        "      targets = targets.to(device)\n",
        "      spk_rec, _ = net(data)\n",
        "\n",
        "      acc += SF.accuracy_rate(spk_rec, targets) * spk_rec.size(1)\n",
        "      total += spk_rec.size(1)\n",
        "\n",
        "  return acc/total"
      ]
    },
    {
      "cell_type": "code",
      "execution_count": null,
      "metadata": {
        "id": "ias_TerdCMoG",
        "colab": {
          "base_uri": "https://localhost:8080/"
        },
        "outputId": "984e96e2-e940-4093-bd32-73956cc3e252"
      },
      "outputs": [
        {
          "output_type": "stream",
          "name": "stdout",
          "text": [
            "Test set accuracy: 54.699%\n"
          ]
        }
      ],
      "source": [
        "print(f\"Test set accuracy: {test_accuracy(test_loader, net, num_steps)*100:.3f}%\")"
      ]
    },
    {
      "cell_type": "code",
      "source": [],
      "metadata": {
        "id": "GPvVZDZqVZ5u"
      },
      "execution_count": null,
      "outputs": []
    },
    {
      "cell_type": "code",
      "source": [],
      "metadata": {
        "id": "L3cPcNwflFqc"
      },
      "execution_count": null,
      "outputs": []
    },
    {
      "cell_type": "markdown",
      "metadata": {
        "id": "A56nBQsMlGHH"
      },
      "source": [
        "# Preparing Data Loaders for CE\n"
      ]
    },
    {
      "cell_type": "code",
      "execution_count": 1,
      "metadata": {
        "colab": {
          "base_uri": "https://localhost:8080/"
        },
        "outputId": "9966b2e9-ea3e-4ac4-e08d-2d04b36d2c77",
        "id": "NfTWCov_lGHL"
      },
      "outputs": [
        {
          "output_type": "stream",
          "name": "stdout",
          "text": [
            "Mounted at /content/drive\n"
          ]
        }
      ],
      "source": [
        "from google.colab import drive\n",
        "drive.mount('/content/drive')"
      ]
    },
    {
      "cell_type": "code",
      "execution_count": 2,
      "metadata": {
        "id": "_ifvkV4mlGHN"
      },
      "outputs": [],
      "source": [
        "import os\n",
        "import numpy as np\n",
        "import h5py\n",
        "import matplotlib.pyplot as plt"
      ]
    },
    {
      "cell_type": "code",
      "execution_count": 3,
      "metadata": {
        "colab": {
          "base_uri": "https://localhost:8080/"
        },
        "outputId": "0bf4e430-4f18-408f-e0d5-6fe85541d640",
        "id": "WmMAIshAlGHO"
      },
      "outputs": [
        {
          "output_type": "stream",
          "name": "stdout",
          "text": [
            "/content/drive/Shared drives/Master Project\n"
          ]
        },
        {
          "output_type": "execute_result",
          "data": {
            "text/plain": [
              "(18588, 30, 1000)"
            ]
          },
          "metadata": {},
          "execution_count": 3
        }
      ],
      "source": [
        "\n",
        "%cd /content/drive/Shared drives/Master Project/\n",
        "\n",
        "with open('master_data_X.npy', 'rb') as f:\n",
        "  X = np.load(f)\n",
        "\n",
        "X.shape"
      ]
    },
    {
      "cell_type": "code",
      "execution_count": 4,
      "metadata": {
        "colab": {
          "base_uri": "https://localhost:8080/"
        },
        "outputId": "157c963b-536d-4177-ad9b-56a65926ccff",
        "id": "4T-Au1n-lGHP"
      },
      "outputs": [
        {
          "output_type": "execute_result",
          "data": {
            "text/plain": [
              "(18588,)"
            ]
          },
          "metadata": {},
          "execution_count": 4
        }
      ],
      "source": [
        "with open('master_data_Y.npy', 'rb') as f:\n",
        "  y = np.load(f)\n",
        "\n",
        "y.shape"
      ]
    },
    {
      "cell_type": "code",
      "execution_count": 5,
      "metadata": {
        "colab": {
          "base_uri": "https://localhost:8080/"
        },
        "outputId": "d38d750a-db6a-44b5-89aa-f38a8fe5e13e",
        "id": "ccH7dAAZlGHQ"
      },
      "outputs": [
        {
          "output_type": "execute_result",
          "data": {
            "text/plain": [
              "dtype('float64')"
            ]
          },
          "metadata": {},
          "execution_count": 5
        }
      ],
      "source": [
        "X.dtype"
      ]
    },
    {
      "cell_type": "code",
      "execution_count": 6,
      "metadata": {
        "colab": {
          "base_uri": "https://localhost:8080/"
        },
        "outputId": "c4c481c4-a768-4e88-f56f-3042b52a3937",
        "id": "546vDgb3lGHR"
      },
      "outputs": [
        {
          "output_type": "execute_result",
          "data": {
            "text/plain": [
              "dtype('int64')"
            ]
          },
          "metadata": {},
          "execution_count": 6
        }
      ],
      "source": [
        "y.dtype"
      ]
    },
    {
      "cell_type": "code",
      "execution_count": 7,
      "metadata": {
        "colab": {
          "base_uri": "https://localhost:8080/"
        },
        "outputId": "46623a96-5c87-4a5d-ccc7-7ad55e076214",
        "id": "gNDLh_AclGHS"
      },
      "outputs": [
        {
          "output_type": "execute_result",
          "data": {
            "text/plain": [
              "dtype('float32')"
            ]
          },
          "metadata": {},
          "execution_count": 7
        }
      ],
      "source": [
        "#X = np.int_(X)\n",
        "X = np.float32(X)\n",
        "X.dtype"
      ]
    },
    {
      "cell_type": "code",
      "execution_count": 8,
      "metadata": {
        "colab": {
          "base_uri": "https://localhost:8080/"
        },
        "outputId": "9cfd5847-8752-461f-ec5d-2a743b82ffb7",
        "id": "AI5_H201lGHT"
      },
      "outputs": [
        {
          "output_type": "execute_result",
          "data": {
            "text/plain": [
              "dtype('float32')"
            ]
          },
          "metadata": {},
          "execution_count": 8
        }
      ],
      "source": [
        "y = np.float32(y)\n",
        "#y = np.int_(y)\n",
        "y.dtype"
      ]
    },
    {
      "cell_type": "code",
      "execution_count": 9,
      "metadata": {
        "id": "GDLlynNxlGHU"
      },
      "outputs": [],
      "source": [
        "import torch"
      ]
    },
    {
      "cell_type": "code",
      "execution_count": 10,
      "metadata": {
        "id": "JDCn1yHBlGHV"
      },
      "outputs": [],
      "source": [
        "x_set = torch.from_numpy(X)"
      ]
    },
    {
      "cell_type": "code",
      "execution_count": 11,
      "metadata": {
        "colab": {
          "base_uri": "https://localhost:8080/"
        },
        "outputId": "07d3b5e7-10ea-43bd-bb55-8d6204ce595a",
        "id": "XOHcOeI0lGHV"
      },
      "outputs": [
        {
          "output_type": "execute_result",
          "data": {
            "text/plain": [
              "torch.Size([18588, 30, 1000])"
            ]
          },
          "metadata": {},
          "execution_count": 11
        }
      ],
      "source": [
        "x_set.size()"
      ]
    },
    {
      "cell_type": "code",
      "source": [
        "x_set.type()"
      ],
      "metadata": {
        "colab": {
          "base_uri": "https://localhost:8080/",
          "height": 36
        },
        "id": "OFT13kSBmuRO",
        "outputId": "7bab27b9-8491-4b58-995a-26913a561da0"
      },
      "execution_count": 12,
      "outputs": [
        {
          "output_type": "execute_result",
          "data": {
            "text/plain": [
              "'torch.FloatTensor'"
            ],
            "application/vnd.google.colaboratory.intrinsic+json": {
              "type": "string"
            }
          },
          "metadata": {},
          "execution_count": 12
        }
      ]
    },
    {
      "cell_type": "code",
      "execution_count": 13,
      "metadata": {
        "id": "L8ZYQrvqlGHW"
      },
      "outputs": [],
      "source": [
        "#x_set = x_set.type(torch.LongTensor)\n",
        "#print(type(x_set))"
      ]
    },
    {
      "cell_type": "code",
      "execution_count": 14,
      "metadata": {
        "id": "nZrodJATlGHX"
      },
      "outputs": [],
      "source": [
        "#x_set = x_set.unsqueeze(1)\n",
        "#x_set.size()"
      ]
    },
    {
      "cell_type": "code",
      "execution_count": 15,
      "metadata": {
        "id": "LFHHfDyglGHY"
      },
      "outputs": [],
      "source": [
        "#x_set = x_set.permute(0, 2, 1)"
      ]
    },
    {
      "cell_type": "code",
      "execution_count": 16,
      "metadata": {
        "colab": {
          "base_uri": "https://localhost:8080/"
        },
        "outputId": "81e44e86-0566-4286-fcc7-fde4cf832869",
        "id": "atcdQoGrlGHZ"
      },
      "outputs": [
        {
          "output_type": "execute_result",
          "data": {
            "text/plain": [
              "torch.Size([18588])"
            ]
          },
          "metadata": {},
          "execution_count": 16
        }
      ],
      "source": [
        "y_set = torch.from_numpy(y)\n",
        "y_set.size()"
      ]
    },
    {
      "cell_type": "code",
      "source": [
        "y_set.type()"
      ],
      "metadata": {
        "colab": {
          "base_uri": "https://localhost:8080/",
          "height": 36
        },
        "id": "L1MVvkf1m6DA",
        "outputId": "fe23b637-53eb-4bbc-d274-a0b3f4be6f3e"
      },
      "execution_count": 17,
      "outputs": [
        {
          "output_type": "execute_result",
          "data": {
            "text/plain": [
              "'torch.FloatTensor'"
            ],
            "application/vnd.google.colaboratory.intrinsic+json": {
              "type": "string"
            }
          },
          "metadata": {},
          "execution_count": 17
        }
      ]
    },
    {
      "cell_type": "code",
      "execution_count": 18,
      "metadata": {
        "id": "JaR9i5tPlGHb",
        "colab": {
          "base_uri": "https://localhost:8080/",
          "height": 36
        },
        "outputId": "ec1ea2e8-2072-4ce2-e37a-5f73806e1498"
      },
      "outputs": [
        {
          "output_type": "execute_result",
          "data": {
            "text/plain": [
              "'torch.LongTensor'"
            ],
            "application/vnd.google.colaboratory.intrinsic+json": {
              "type": "string"
            }
          },
          "metadata": {},
          "execution_count": 18
        }
      ],
      "source": [
        "y_set = y_set.type(torch.LongTensor)\n",
        "y_set.type()"
      ]
    },
    {
      "cell_type": "code",
      "execution_count": 19,
      "metadata": {
        "id": "XpIRLCl-lGHd"
      },
      "outputs": [],
      "source": [
        "from torch.utils.data import TensorDataset"
      ]
    },
    {
      "cell_type": "code",
      "execution_count": 20,
      "metadata": {
        "id": "sNZeox09lGHd"
      },
      "outputs": [],
      "source": [
        "data_set = TensorDataset(x_set, y_set)"
      ]
    },
    {
      "cell_type": "code",
      "execution_count": 21,
      "metadata": {
        "id": "GomSrsqelGHe"
      },
      "outputs": [],
      "source": [
        "from torch.utils.data.sampler import SubsetRandomSampler"
      ]
    },
    {
      "cell_type": "code",
      "execution_count": 22,
      "metadata": {
        "colab": {
          "base_uri": "https://localhost:8080/"
        },
        "outputId": "77c46081-9435-4788-fbe6-1bd1eb5d3402",
        "id": "yUILAL1WlGHf"
      },
      "outputs": [
        {
          "output_type": "stream",
          "name": "stdout",
          "text": [
            "Dataset size:18588\n"
          ]
        }
      ],
      "source": [
        "test_split = .3\n",
        "shuffle_dataset = True\n",
        "random_seed= 42\n",
        "\n",
        "# Creating data indices for training and validation splits:\n",
        "dataset_size = len(x_set)\n",
        "print(\"Dataset size:\"+str(dataset_size))\n",
        "indices = list(range(dataset_size))\n",
        "split = int(np.floor(test_split * dataset_size))\n",
        "if shuffle_dataset :\n",
        "    np.random.seed(random_seed)\n",
        "    np.random.shuffle(indices)\n",
        "train_indices, test_indices = indices[split:], indices[:split]\n",
        "\n",
        "# Creating PT data samplers and loaders:\n",
        "train_sampler = SubsetRandomSampler(train_indices)\n",
        "test_sampler = SubsetRandomSampler(test_indices)\n"
      ]
    },
    {
      "cell_type": "code",
      "execution_count": 23,
      "metadata": {
        "colab": {
          "base_uri": "https://localhost:8080/"
        },
        "outputId": "4b63296a-defb-4b03-ee25-8cf2d72141b5",
        "id": "rDDqrSrJlGHh"
      },
      "outputs": [
        {
          "output_type": "stream",
          "name": "stdout",
          "text": [
            "13012\n"
          ]
        }
      ],
      "source": [
        "print(len(train_indices))"
      ]
    },
    {
      "cell_type": "code",
      "execution_count": 24,
      "metadata": {
        "colab": {
          "base_uri": "https://localhost:8080/"
        },
        "outputId": "334d52fc-5d11-4c47-9ebd-c295db72e4d6",
        "id": "qk0vkQJtlGHh"
      },
      "outputs": [
        {
          "output_type": "stream",
          "name": "stdout",
          "text": [
            "5576\n"
          ]
        }
      ],
      "source": [
        "print(len(test_indices))"
      ]
    },
    {
      "cell_type": "code",
      "execution_count": 25,
      "metadata": {
        "id": "otqskRR-lGHi"
      },
      "outputs": [],
      "source": [
        "from torch.utils.data import DataLoader"
      ]
    },
    {
      "cell_type": "code",
      "execution_count": 26,
      "metadata": {
        "id": "XtuhBR8blGHj"
      },
      "outputs": [],
      "source": [
        "batch_size = 1\n",
        "train_loader = torch.utils.data.DataLoader(data_set, batch_size=batch_size,\n",
        "                                           sampler=train_sampler)\n",
        "test_loader = torch.utils.data.DataLoader(data_set, batch_size=batch_size,\n",
        "                                                sampler=test_sampler)"
      ]
    },
    {
      "cell_type": "code",
      "execution_count": 26,
      "metadata": {
        "id": "0dQWSwyDlGHk"
      },
      "outputs": [],
      "source": []
    },
    {
      "cell_type": "markdown",
      "source": [
        "# SNN model with CE"
      ],
      "metadata": {
        "id": "JgUnmSBblNNP"
      }
    },
    {
      "cell_type": "code",
      "execution_count": 27,
      "metadata": {
        "colab": {
          "base_uri": "https://localhost:8080/"
        },
        "outputId": "ddb04501-8fdc-4a58-e2a6-0f121525c7d1",
        "id": "9ODYh0fpm4Y9"
      },
      "outputs": [
        {
          "output_type": "stream",
          "name": "stdout",
          "text": [
            "\u001b[?25l     \u001b[90m━━━━━━━━━━━━━━━━━━━━━━━━━━━━━━━━━━━━━━━━\u001b[0m \u001b[32m0.0/109.0 kB\u001b[0m \u001b[31m?\u001b[0m eta \u001b[36m-:--:--\u001b[0m\r\u001b[2K     \u001b[91m━━━━━━━━━━━━━━━━━━━━━━━━━━━━━━━━━━━━━\u001b[0m\u001b[91m╸\u001b[0m\u001b[90m━━\u001b[0m \u001b[32m102.4/109.0 kB\u001b[0m \u001b[31m3.7 MB/s\u001b[0m eta \u001b[36m0:00:01\u001b[0m\r\u001b[2K     \u001b[90m━━━━━━━━━━━━━━━━━━━━━━━━━━━━━━━━━━━━━━━━\u001b[0m \u001b[32m109.0/109.0 kB\u001b[0m \u001b[31m3.2 MB/s\u001b[0m eta \u001b[36m0:00:00\u001b[0m\n",
            "\u001b[?25h"
          ]
        }
      ],
      "source": [
        "!pip install snntorch --quiet"
      ]
    },
    {
      "cell_type": "code",
      "execution_count": 28,
      "metadata": {
        "id": "309tyoKjm4Y_"
      },
      "outputs": [],
      "source": [
        "import torch, torch.nn as nn\n",
        "import snntorch as snn\n",
        "import torch.nn.functional as F\n",
        "import snntorch.functional as SF"
      ]
    },
    {
      "cell_type": "code",
      "execution_count": 29,
      "metadata": {
        "id": "Ep3c3jz5m4ZA"
      },
      "outputs": [],
      "source": [
        "#batch_size = 128\n",
        "#data_path='/data/mnist'\n",
        "dtype=torch.long\n",
        "device = torch.device(\"cuda\") if torch.cuda.is_available() else torch.device(\"cpu\")"
      ]
    },
    {
      "cell_type": "code",
      "source": [
        "class ConvNet(nn.Module):\n",
        "  def __init__(self):\n",
        "    super().__init__()\n",
        "\n",
        "    beta = 0.9\n",
        "\n",
        "    self.conv1 = nn.Conv2d(1, 8, 5, padding=\"same\")\n",
        "    self.lif1 = snn.Leaky(beta=beta)\n",
        "    self.mp1 = nn.MaxPool2d(2)\n",
        "\n",
        "    self.conv2 = nn.Conv2d(8, 1, 5, padding=\"same\")\n",
        "    self.lif2 = snn.Leaky(beta=beta)\n",
        "    self.mp2 = nn.MaxPool2d(2)\n",
        "\n",
        "    self.fc = nn.Linear(1750, 3)\n",
        "    self.lif3 = snn.Leaky(beta=beta)\n",
        "    #self.to(torch.long)\n",
        "\n",
        "  def forward(self, x):\n",
        "\n",
        "        # Initialize hidden states at t=0\n",
        "    mem1 = self.lif1.init_leaky()\n",
        "    mem2 = self.lif2.init_leaky()\n",
        "    mem3 = self.lif3.init_leaky()\n",
        "\n",
        "        # Record the final layer\n",
        "    spk3_rec = []\n",
        "    mem3_rec = []\n",
        "\n",
        "        # time-loop\n",
        "    for step in range(num_steps):\n",
        "      cur1 = self.conv1(x)\n",
        "      spk1, mem1 = self.lif1(self.mp1(cur1), mem1)\n",
        "      cur2 = self.conv2(spk1)\n",
        "      spk2, mem2 = self.lif2(self.mp2(cur2), mem2)\n",
        "      cur3 = self.fc(spk2.flatten(1))\n",
        "      spk3, mem3 = self.lif3(cur3, mem3)\n",
        "\n",
        "      spk3_rec.append(spk3)\n",
        "      mem3_rec.append(mem3)\n",
        "    return torch.stack(spk3_rec, dim=0), torch.stack(mem3_rec, dim=0)\n",
        "\n",
        "convnet = ConvNet().to(device)\n",
        "\n",
        "\n"
      ],
      "metadata": {
        "id": "4-7E0QsElPRK"
      },
      "execution_count": 30,
      "outputs": []
    },
    {
      "cell_type": "code",
      "source": [
        "loss = SF.ce_rate_loss()\n",
        "optimizer = torch.optim.Adam(convnet.parameters(), lr=1e-2, betas=(0.9, 0.999))"
      ],
      "metadata": {
        "id": "m9vSSWl-mZaJ"
      },
      "execution_count": 31,
      "outputs": []
    },
    {
      "cell_type": "code",
      "source": [
        "num_epochs = 1\n",
        "num_steps = 10 #10\n",
        "loss_hist = []\n",
        "acc_hist = []\n",
        "test_loss_hist = []\n",
        "counter = 0\n",
        "\n",
        "# Outer training loop\n",
        "for epoch in range(num_epochs):\n",
        "    train_batch = iter(train_loader)\n",
        "\n",
        "    # Minibatch training loop\n",
        "    for data, targets in train_batch:\n",
        "        data = data.to(device)\n",
        "        targets = targets.to(device)\n",
        "\n",
        "        # forward pass\n",
        "        convnet.train()\n",
        "        spk_rec, _ = convnet(data)\n",
        "        #print(spk_rec)\n",
        "        #print(counter)\n",
        "\n",
        "        # initialize the loss & sum over time\n",
        "        loss_val = torch.zeros((1), dtype=dtype, device=device)\n",
        "        #print(len(spk_rec.sum(0)))\n",
        "        #print(torch.sum(spk_rec, 1))\n",
        "        #print(targets.size())\n",
        "        #print(torch.sum(spk_rec.sum(0), (1)).size())\n",
        "        #print(spk_rec.sum(1))\n",
        "        #print(spk_rec.sum(2))\n",
        "\n",
        "\n",
        "        #loss_val = loss(spk_rec.sum(0), targets)\n",
        "        #loss_val = loss(torch.sum(spk_rec.sum(0), (1)), targets)\n",
        "        loss_val = loss(spk_rec, targets)\n",
        "\n",
        "        # Gradient calculation + weight update\n",
        "        optimizer.zero_grad()\n",
        "        loss_val.backward()\n",
        "        optimizer.step()\n",
        "\n",
        "         # Store loss history for future plotting\n",
        "        loss_hist.append(loss_val.item())\n",
        "        acc = SF.accuracy_rate(spk_rec, targets)\n",
        "        acc_hist.append(acc)\n",
        "\n",
        "        # Print train/test loss/accuracy\n",
        "        if counter % 10 == 0:\n",
        "            print(f\"Iteration: {counter} \\t Train Loss: {loss_val.item()} \\t Accuracy: {acc * 100:.2f}\")\n",
        "        counter += 1\n",
        "\n",
        "        #if counter == 100:\n",
        "        #  break\n",
        "\n",
        "\n"
      ],
      "metadata": {
        "colab": {
          "base_uri": "https://localhost:8080/"
        },
        "id": "2mMdBLtumb8F",
        "outputId": "795a5447-3018-4a86-d8f6-444dd0dde18a"
      },
      "execution_count": 32,
      "outputs": [
        {
          "output_type": "stream",
          "name": "stdout",
          "text": [
            "Iteration: 0 \t Train Loss: 1.0891789197921753 \t Accuracy: 100.00\n",
            "Iteration: 10 \t Train Loss: 1.5514448881149292 \t Accuracy: 0.00\n",
            "Iteration: 20 \t Train Loss: 0.5514448285102844 \t Accuracy: 100.00\n",
            "Iteration: 30 \t Train Loss: 0.5514448285102844 \t Accuracy: 100.00\n",
            "Iteration: 40 \t Train Loss: 0.5514448285102844 \t Accuracy: 100.00\n",
            "Iteration: 50 \t Train Loss: 0.5514448285102844 \t Accuracy: 100.00\n",
            "Iteration: 60 \t Train Loss: 0.5514448285102844 \t Accuracy: 100.00\n",
            "Iteration: 70 \t Train Loss: 1.5514448881149292 \t Accuracy: 0.00\n",
            "Iteration: 80 \t Train Loss: 0.5514448285102844 \t Accuracy: 100.00\n",
            "Iteration: 90 \t Train Loss: 0.5514448285102844 \t Accuracy: 100.00\n",
            "Iteration: 100 \t Train Loss: 0.5514448285102844 \t Accuracy: 100.00\n",
            "Iteration: 110 \t Train Loss: 0.5514448285102844 \t Accuracy: 100.00\n",
            "Iteration: 120 \t Train Loss: 0.5514448285102844 \t Accuracy: 100.00\n",
            "Iteration: 130 \t Train Loss: 0.5514448285102844 \t Accuracy: 100.00\n",
            "Iteration: 140 \t Train Loss: 1.5514448881149292 \t Accuracy: 0.00\n",
            "Iteration: 150 \t Train Loss: 0.5514448285102844 \t Accuracy: 100.00\n",
            "Iteration: 160 \t Train Loss: 1.5514448881149292 \t Accuracy: 0.00\n",
            "Iteration: 170 \t Train Loss: 1.5514448881149292 \t Accuracy: 0.00\n",
            "Iteration: 180 \t Train Loss: 1.5514448881149292 \t Accuracy: 0.00\n",
            "Iteration: 190 \t Train Loss: 0.5514448285102844 \t Accuracy: 100.00\n",
            "Iteration: 200 \t Train Loss: 1.5514448881149292 \t Accuracy: 0.00\n",
            "Iteration: 210 \t Train Loss: 0.5514448285102844 \t Accuracy: 100.00\n",
            "Iteration: 220 \t Train Loss: 0.5514448285102844 \t Accuracy: 100.00\n",
            "Iteration: 230 \t Train Loss: 1.5514448881149292 \t Accuracy: 0.00\n",
            "Iteration: 240 \t Train Loss: 1.5514448881149292 \t Accuracy: 0.00\n",
            "Iteration: 250 \t Train Loss: 0.5514448285102844 \t Accuracy: 100.00\n",
            "Iteration: 260 \t Train Loss: 0.5514448285102844 \t Accuracy: 100.00\n",
            "Iteration: 270 \t Train Loss: 0.5514448285102844 \t Accuracy: 100.00\n",
            "Iteration: 280 \t Train Loss: 0.5514448285102844 \t Accuracy: 100.00\n",
            "Iteration: 290 \t Train Loss: 0.5514448285102844 \t Accuracy: 100.00\n",
            "Iteration: 300 \t Train Loss: 0.5514448285102844 \t Accuracy: 100.00\n",
            "Iteration: 310 \t Train Loss: 0.5514448285102844 \t Accuracy: 100.00\n",
            "Iteration: 320 \t Train Loss: 0.5514448285102844 \t Accuracy: 100.00\n",
            "Iteration: 330 \t Train Loss: 1.5514448881149292 \t Accuracy: 0.00\n",
            "Iteration: 340 \t Train Loss: 0.5514448285102844 \t Accuracy: 100.00\n",
            "Iteration: 350 \t Train Loss: 0.5514448285102844 \t Accuracy: 100.00\n",
            "Iteration: 360 \t Train Loss: 0.8619948625564575 \t Accuracy: 100.00\n",
            "Iteration: 370 \t Train Loss: 0.8619948625564575 \t Accuracy: 100.00\n",
            "Iteration: 380 \t Train Loss: 0.8619948625564575 \t Accuracy: 0.00\n",
            "Iteration: 390 \t Train Loss: 0.8619948625564575 \t Accuracy: 100.00\n",
            "Iteration: 400 \t Train Loss: 0.8619948625564575 \t Accuracy: 100.00\n",
            "Iteration: 410 \t Train Loss: 1.861994981765747 \t Accuracy: 0.00\n",
            "Iteration: 420 \t Train Loss: 0.8619948625564575 \t Accuracy: 0.00\n",
            "Iteration: 430 \t Train Loss: 0.8619948625564575 \t Accuracy: 100.00\n",
            "Iteration: 440 \t Train Loss: 1.861994981765747 \t Accuracy: 0.00\n",
            "Iteration: 450 \t Train Loss: 0.8619948625564575 \t Accuracy: 100.00\n",
            "Iteration: 460 \t Train Loss: 0.8619948625564575 \t Accuracy: 0.00\n",
            "Iteration: 470 \t Train Loss: 0.8619948625564575 \t Accuracy: 100.00\n",
            "Iteration: 480 \t Train Loss: 1.861994981765747 \t Accuracy: 0.00\n",
            "Iteration: 490 \t Train Loss: 0.8619948625564575 \t Accuracy: 100.00\n",
            "Iteration: 500 \t Train Loss: 0.8619948625564575 \t Accuracy: 100.00\n",
            "Iteration: 510 \t Train Loss: 0.8619948625564575 \t Accuracy: 0.00\n",
            "Iteration: 520 \t Train Loss: 0.8619948625564575 \t Accuracy: 100.00\n",
            "Iteration: 530 \t Train Loss: 0.8619948625564575 \t Accuracy: 100.00\n",
            "Iteration: 540 \t Train Loss: 0.8619948625564575 \t Accuracy: 100.00\n",
            "Iteration: 550 \t Train Loss: 0.8619948625564575 \t Accuracy: 0.00\n",
            "Iteration: 560 \t Train Loss: 0.8619948625564575 \t Accuracy: 0.00\n",
            "Iteration: 570 \t Train Loss: 0.8619948625564575 \t Accuracy: 100.00\n",
            "Iteration: 580 \t Train Loss: 1.861994981765747 \t Accuracy: 0.00\n",
            "Iteration: 590 \t Train Loss: 0.8619948625564575 \t Accuracy: 100.00\n",
            "Iteration: 600 \t Train Loss: 0.8619948625564575 \t Accuracy: 100.00\n",
            "Iteration: 610 \t Train Loss: 1.861994981765747 \t Accuracy: 0.00\n",
            "Iteration: 620 \t Train Loss: 0.8619948625564575 \t Accuracy: 0.00\n",
            "Iteration: 630 \t Train Loss: 0.8619948625564575 \t Accuracy: 100.00\n",
            "Iteration: 640 \t Train Loss: 0.8619948625564575 \t Accuracy: 100.00\n",
            "Iteration: 650 \t Train Loss: 0.8619948625564575 \t Accuracy: 100.00\n",
            "Iteration: 660 \t Train Loss: 0.8619948625564575 \t Accuracy: 0.00\n",
            "Iteration: 670 \t Train Loss: 0.8619948625564575 \t Accuracy: 0.00\n",
            "Iteration: 680 \t Train Loss: 1.861994981765747 \t Accuracy: 0.00\n",
            "Iteration: 690 \t Train Loss: 0.8619948625564575 \t Accuracy: 0.00\n",
            "Iteration: 700 \t Train Loss: 0.8619948625564575 \t Accuracy: 100.00\n",
            "Iteration: 710 \t Train Loss: 0.8619948625564575 \t Accuracy: 100.00\n",
            "Iteration: 720 \t Train Loss: 0.8619948625564575 \t Accuracy: 0.00\n",
            "Iteration: 730 \t Train Loss: 0.8619948625564575 \t Accuracy: 100.00\n",
            "Iteration: 740 \t Train Loss: 1.861994981765747 \t Accuracy: 0.00\n",
            "Iteration: 750 \t Train Loss: 0.8619948625564575 \t Accuracy: 0.00\n",
            "Iteration: 760 \t Train Loss: 0.8619948625564575 \t Accuracy: 100.00\n",
            "Iteration: 770 \t Train Loss: 1.861994981765747 \t Accuracy: 0.00\n",
            "Iteration: 780 \t Train Loss: 0.8619948625564575 \t Accuracy: 100.00\n",
            "Iteration: 790 \t Train Loss: 0.8619948625564575 \t Accuracy: 100.00\n",
            "Iteration: 800 \t Train Loss: 0.8619948625564575 \t Accuracy: 100.00\n",
            "Iteration: 810 \t Train Loss: 1.861994981765747 \t Accuracy: 0.00\n",
            "Iteration: 820 \t Train Loss: 0.8619948625564575 \t Accuracy: 100.00\n",
            "Iteration: 830 \t Train Loss: 0.8619948625564575 \t Accuracy: 100.00\n",
            "Iteration: 840 \t Train Loss: 0.8619948625564575 \t Accuracy: 100.00\n",
            "Iteration: 850 \t Train Loss: 0.8619948625564575 \t Accuracy: 100.00\n",
            "Iteration: 860 \t Train Loss: 0.8619948625564575 \t Accuracy: 100.00\n",
            "Iteration: 870 \t Train Loss: 0.8619948625564575 \t Accuracy: 100.00\n",
            "Iteration: 880 \t Train Loss: 0.8619948625564575 \t Accuracy: 100.00\n",
            "Iteration: 890 \t Train Loss: 0.8619948625564575 \t Accuracy: 100.00\n",
            "Iteration: 900 \t Train Loss: 0.8619948625564575 \t Accuracy: 100.00\n",
            "Iteration: 910 \t Train Loss: 0.8619948625564575 \t Accuracy: 100.00\n",
            "Iteration: 920 \t Train Loss: 0.8619948625564575 \t Accuracy: 100.00\n",
            "Iteration: 930 \t Train Loss: 0.8619948625564575 \t Accuracy: 100.00\n",
            "Iteration: 940 \t Train Loss: 0.8619948625564575 \t Accuracy: 100.00\n",
            "Iteration: 950 \t Train Loss: 0.8619948625564575 \t Accuracy: 0.00\n",
            "Iteration: 960 \t Train Loss: 0.8619948625564575 \t Accuracy: 0.00\n",
            "Iteration: 970 \t Train Loss: 0.8619948625564575 \t Accuracy: 100.00\n",
            "Iteration: 980 \t Train Loss: 0.8619948625564575 \t Accuracy: 100.00\n",
            "Iteration: 990 \t Train Loss: 0.8619948625564575 \t Accuracy: 100.00\n",
            "Iteration: 1000 \t Train Loss: 0.8619948625564575 \t Accuracy: 100.00\n",
            "Iteration: 1010 \t Train Loss: 0.8619948625564575 \t Accuracy: 0.00\n",
            "Iteration: 1020 \t Train Loss: 0.8619948625564575 \t Accuracy: 100.00\n",
            "Iteration: 1030 \t Train Loss: 0.8619948625564575 \t Accuracy: 100.00\n",
            "Iteration: 1040 \t Train Loss: 1.861994981765747 \t Accuracy: 0.00\n",
            "Iteration: 1050 \t Train Loss: 0.8619948625564575 \t Accuracy: 0.00\n",
            "Iteration: 1060 \t Train Loss: 0.8619948625564575 \t Accuracy: 100.00\n",
            "Iteration: 1070 \t Train Loss: 0.8619948625564575 \t Accuracy: 0.00\n",
            "Iteration: 1080 \t Train Loss: 0.8619948625564575 \t Accuracy: 100.00\n",
            "Iteration: 1090 \t Train Loss: 0.8619948625564575 \t Accuracy: 0.00\n",
            "Iteration: 1100 \t Train Loss: 0.8619948625564575 \t Accuracy: 100.00\n",
            "Iteration: 1110 \t Train Loss: 1.861994981765747 \t Accuracy: 0.00\n",
            "Iteration: 1120 \t Train Loss: 0.8619948625564575 \t Accuracy: 0.00\n",
            "Iteration: 1130 \t Train Loss: 1.861994981765747 \t Accuracy: 0.00\n",
            "Iteration: 1140 \t Train Loss: 0.8619948625564575 \t Accuracy: 0.00\n",
            "Iteration: 1150 \t Train Loss: 0.8619948625564575 \t Accuracy: 0.00\n",
            "Iteration: 1160 \t Train Loss: 0.8619948625564575 \t Accuracy: 0.00\n",
            "Iteration: 1170 \t Train Loss: 0.8619948625564575 \t Accuracy: 100.00\n",
            "Iteration: 1180 \t Train Loss: 0.8619948625564575 \t Accuracy: 100.00\n",
            "Iteration: 1190 \t Train Loss: 0.8619948625564575 \t Accuracy: 100.00\n",
            "Iteration: 1200 \t Train Loss: 0.8619948625564575 \t Accuracy: 100.00\n",
            "Iteration: 1210 \t Train Loss: 0.8619948625564575 \t Accuracy: 0.00\n",
            "Iteration: 1220 \t Train Loss: 0.8619948625564575 \t Accuracy: 100.00\n",
            "Iteration: 1230 \t Train Loss: 1.861994981765747 \t Accuracy: 0.00\n",
            "Iteration: 1240 \t Train Loss: 0.8619948625564575 \t Accuracy: 0.00\n",
            "Iteration: 1250 \t Train Loss: 0.8619948625564575 \t Accuracy: 0.00\n",
            "Iteration: 1260 \t Train Loss: 0.8619948625564575 \t Accuracy: 100.00\n",
            "Iteration: 1270 \t Train Loss: 0.8619948625564575 \t Accuracy: 100.00\n",
            "Iteration: 1280 \t Train Loss: 0.8619948625564575 \t Accuracy: 100.00\n",
            "Iteration: 1290 \t Train Loss: 0.8619948625564575 \t Accuracy: 100.00\n",
            "Iteration: 1300 \t Train Loss: 0.8619948625564575 \t Accuracy: 0.00\n",
            "Iteration: 1310 \t Train Loss: 1.861994981765747 \t Accuracy: 0.00\n",
            "Iteration: 1320 \t Train Loss: 1.861994981765747 \t Accuracy: 0.00\n",
            "Iteration: 1330 \t Train Loss: 0.8619948625564575 \t Accuracy: 100.00\n",
            "Iteration: 1340 \t Train Loss: 0.8619948625564575 \t Accuracy: 100.00\n",
            "Iteration: 1350 \t Train Loss: 0.8619948625564575 \t Accuracy: 100.00\n",
            "Iteration: 1360 \t Train Loss: 0.8619948625564575 \t Accuracy: 100.00\n",
            "Iteration: 1370 \t Train Loss: 0.8619948625564575 \t Accuracy: 100.00\n",
            "Iteration: 1380 \t Train Loss: 0.8619948625564575 \t Accuracy: 100.00\n",
            "Iteration: 1390 \t Train Loss: 0.8619948625564575 \t Accuracy: 100.00\n",
            "Iteration: 1400 \t Train Loss: 0.8619948625564575 \t Accuracy: 0.00\n",
            "Iteration: 1410 \t Train Loss: 0.8619948625564575 \t Accuracy: 0.00\n",
            "Iteration: 1420 \t Train Loss: 1.861994981765747 \t Accuracy: 0.00\n",
            "Iteration: 1430 \t Train Loss: 0.8619948625564575 \t Accuracy: 0.00\n",
            "Iteration: 1440 \t Train Loss: 0.8619948625564575 \t Accuracy: 100.00\n",
            "Iteration: 1450 \t Train Loss: 1.861994981765747 \t Accuracy: 0.00\n",
            "Iteration: 1460 \t Train Loss: 0.8619948625564575 \t Accuracy: 100.00\n",
            "Iteration: 1470 \t Train Loss: 1.861994981765747 \t Accuracy: 0.00\n",
            "Iteration: 1480 \t Train Loss: 1.861994981765747 \t Accuracy: 0.00\n",
            "Iteration: 1490 \t Train Loss: 0.8619948625564575 \t Accuracy: 100.00\n",
            "Iteration: 1500 \t Train Loss: 0.8619948625564575 \t Accuracy: 0.00\n",
            "Iteration: 1510 \t Train Loss: 0.8619948625564575 \t Accuracy: 100.00\n",
            "Iteration: 1520 \t Train Loss: 0.8619948625564575 \t Accuracy: 0.00\n",
            "Iteration: 1530 \t Train Loss: 0.8619948625564575 \t Accuracy: 100.00\n",
            "Iteration: 1540 \t Train Loss: 0.8619948625564575 \t Accuracy: 0.00\n",
            "Iteration: 1550 \t Train Loss: 1.861994981765747 \t Accuracy: 0.00\n",
            "Iteration: 1560 \t Train Loss: 0.8619948625564575 \t Accuracy: 100.00\n",
            "Iteration: 1570 \t Train Loss: 0.8619948625564575 \t Accuracy: 0.00\n",
            "Iteration: 1580 \t Train Loss: 0.8619948625564575 \t Accuracy: 0.00\n",
            "Iteration: 1590 \t Train Loss: 0.8619948625564575 \t Accuracy: 100.00\n",
            "Iteration: 1600 \t Train Loss: 0.8619948625564575 \t Accuracy: 100.00\n",
            "Iteration: 1610 \t Train Loss: 0.8619948625564575 \t Accuracy: 100.00\n",
            "Iteration: 1620 \t Train Loss: 0.8619948625564575 \t Accuracy: 100.00\n",
            "Iteration: 1630 \t Train Loss: 0.8619948625564575 \t Accuracy: 0.00\n",
            "Iteration: 1640 \t Train Loss: 1.861994981765747 \t Accuracy: 0.00\n",
            "Iteration: 1650 \t Train Loss: 0.8619948625564575 \t Accuracy: 100.00\n",
            "Iteration: 1660 \t Train Loss: 0.8619948625564575 \t Accuracy: 100.00\n",
            "Iteration: 1670 \t Train Loss: 0.8619948625564575 \t Accuracy: 100.00\n",
            "Iteration: 1680 \t Train Loss: 0.8619948625564575 \t Accuracy: 0.00\n",
            "Iteration: 1690 \t Train Loss: 0.8619948625564575 \t Accuracy: 0.00\n",
            "Iteration: 1700 \t Train Loss: 0.8619948625564575 \t Accuracy: 100.00\n",
            "Iteration: 1710 \t Train Loss: 0.8619948625564575 \t Accuracy: 100.00\n",
            "Iteration: 1720 \t Train Loss: 1.861994981765747 \t Accuracy: 0.00\n",
            "Iteration: 1730 \t Train Loss: 0.8619948625564575 \t Accuracy: 0.00\n",
            "Iteration: 1740 \t Train Loss: 0.8619948625564575 \t Accuracy: 100.00\n",
            "Iteration: 1750 \t Train Loss: 0.8619948625564575 \t Accuracy: 0.00\n",
            "Iteration: 1760 \t Train Loss: 0.8619948625564575 \t Accuracy: 0.00\n",
            "Iteration: 1770 \t Train Loss: 1.861994981765747 \t Accuracy: 0.00\n",
            "Iteration: 1780 \t Train Loss: 0.8619948625564575 \t Accuracy: 0.00\n",
            "Iteration: 1790 \t Train Loss: 0.8619948625564575 \t Accuracy: 100.00\n",
            "Iteration: 1800 \t Train Loss: 0.8619948625564575 \t Accuracy: 100.00\n",
            "Iteration: 1810 \t Train Loss: 0.8619948625564575 \t Accuracy: 100.00\n",
            "Iteration: 1820 \t Train Loss: 0.8619948625564575 \t Accuracy: 100.00\n",
            "Iteration: 1830 \t Train Loss: 0.8619948625564575 \t Accuracy: 0.00\n",
            "Iteration: 1840 \t Train Loss: 0.8619948625564575 \t Accuracy: 100.00\n",
            "Iteration: 1850 \t Train Loss: 0.8619948625564575 \t Accuracy: 0.00\n",
            "Iteration: 1860 \t Train Loss: 0.8619948625564575 \t Accuracy: 0.00\n",
            "Iteration: 1870 \t Train Loss: 0.8619948625564575 \t Accuracy: 0.00\n",
            "Iteration: 1880 \t Train Loss: 0.8619948625564575 \t Accuracy: 0.00\n",
            "Iteration: 1890 \t Train Loss: 0.8619948625564575 \t Accuracy: 0.00\n",
            "Iteration: 1900 \t Train Loss: 1.861994981765747 \t Accuracy: 0.00\n",
            "Iteration: 1910 \t Train Loss: 0.8619948625564575 \t Accuracy: 100.00\n",
            "Iteration: 1920 \t Train Loss: 0.8619948625564575 \t Accuracy: 100.00\n",
            "Iteration: 1930 \t Train Loss: 0.8619948625564575 \t Accuracy: 0.00\n",
            "Iteration: 1940 \t Train Loss: 1.861994981765747 \t Accuracy: 0.00\n",
            "Iteration: 1950 \t Train Loss: 1.861994981765747 \t Accuracy: 0.00\n",
            "Iteration: 1960 \t Train Loss: 1.861994981765747 \t Accuracy: 0.00\n",
            "Iteration: 1970 \t Train Loss: 0.8619948625564575 \t Accuracy: 100.00\n",
            "Iteration: 1980 \t Train Loss: 0.8619948625564575 \t Accuracy: 100.00\n",
            "Iteration: 1990 \t Train Loss: 0.8619948625564575 \t Accuracy: 100.00\n",
            "Iteration: 2000 \t Train Loss: 1.5514448881149292 \t Accuracy: 0.00\n",
            "Iteration: 2010 \t Train Loss: 0.5514448285102844 \t Accuracy: 100.00\n",
            "Iteration: 2020 \t Train Loss: 0.5514448285102844 \t Accuracy: 100.00\n",
            "Iteration: 2030 \t Train Loss: 0.5514448285102844 \t Accuracy: 100.00\n",
            "Iteration: 2040 \t Train Loss: 1.5514448881149292 \t Accuracy: 0.00\n",
            "Iteration: 2050 \t Train Loss: 0.5514448285102844 \t Accuracy: 100.00\n",
            "Iteration: 2060 \t Train Loss: 1.5514448881149292 \t Accuracy: 0.00\n",
            "Iteration: 2070 \t Train Loss: 1.5514448881149292 \t Accuracy: 0.00\n",
            "Iteration: 2080 \t Train Loss: 1.5514448881149292 \t Accuracy: 0.00\n",
            "Iteration: 2090 \t Train Loss: 0.5514448285102844 \t Accuracy: 100.00\n",
            "Iteration: 2100 \t Train Loss: 0.5514448285102844 \t Accuracy: 100.00\n",
            "Iteration: 2110 \t Train Loss: 0.5514448285102844 \t Accuracy: 100.00\n",
            "Iteration: 2120 \t Train Loss: 0.5514448285102844 \t Accuracy: 100.00\n",
            "Iteration: 2130 \t Train Loss: 0.5514448285102844 \t Accuracy: 100.00\n",
            "Iteration: 2140 \t Train Loss: 1.5514448881149292 \t Accuracy: 0.00\n",
            "Iteration: 2150 \t Train Loss: 0.5514448285102844 \t Accuracy: 100.00\n",
            "Iteration: 2160 \t Train Loss: 0.5514448285102844 \t Accuracy: 100.00\n",
            "Iteration: 2170 \t Train Loss: 1.5514448881149292 \t Accuracy: 0.00\n",
            "Iteration: 2180 \t Train Loss: 1.5514448881149292 \t Accuracy: 0.00\n",
            "Iteration: 2190 \t Train Loss: 1.5514448881149292 \t Accuracy: 0.00\n",
            "Iteration: 2200 \t Train Loss: 1.5514448881149292 \t Accuracy: 0.00\n",
            "Iteration: 2210 \t Train Loss: 0.5514448285102844 \t Accuracy: 100.00\n",
            "Iteration: 2220 \t Train Loss: 0.5514448285102844 \t Accuracy: 100.00\n",
            "Iteration: 2230 \t Train Loss: 1.5514448881149292 \t Accuracy: 0.00\n",
            "Iteration: 2240 \t Train Loss: 1.5514448881149292 \t Accuracy: 0.00\n",
            "Iteration: 2250 \t Train Loss: 1.5514448881149292 \t Accuracy: 0.00\n",
            "Iteration: 2260 \t Train Loss: 0.5514448285102844 \t Accuracy: 100.00\n",
            "Iteration: 2270 \t Train Loss: 1.5514448881149292 \t Accuracy: 0.00\n",
            "Iteration: 2280 \t Train Loss: 0.5514448285102844 \t Accuracy: 100.00\n",
            "Iteration: 2290 \t Train Loss: 1.5514448881149292 \t Accuracy: 0.00\n",
            "Iteration: 2300 \t Train Loss: 0.5514448285102844 \t Accuracy: 100.00\n",
            "Iteration: 2310 \t Train Loss: 0.5514448285102844 \t Accuracy: 100.00\n",
            "Iteration: 2320 \t Train Loss: 1.5514448881149292 \t Accuracy: 0.00\n",
            "Iteration: 2330 \t Train Loss: 0.5514448285102844 \t Accuracy: 100.00\n",
            "Iteration: 2340 \t Train Loss: 1.5514448881149292 \t Accuracy: 0.00\n",
            "Iteration: 2350 \t Train Loss: 0.5514448285102844 \t Accuracy: 100.00\n",
            "Iteration: 2360 \t Train Loss: 0.5514448285102844 \t Accuracy: 100.00\n",
            "Iteration: 2370 \t Train Loss: 1.5514448881149292 \t Accuracy: 0.00\n",
            "Iteration: 2380 \t Train Loss: 0.5514448285102844 \t Accuracy: 100.00\n",
            "Iteration: 2390 \t Train Loss: 0.5514448285102844 \t Accuracy: 100.00\n",
            "Iteration: 2400 \t Train Loss: 0.5514448285102844 \t Accuracy: 100.00\n",
            "Iteration: 2410 \t Train Loss: 0.5514448285102844 \t Accuracy: 100.00\n",
            "Iteration: 2420 \t Train Loss: 1.5514448881149292 \t Accuracy: 0.00\n",
            "Iteration: 2430 \t Train Loss: 0.5514448285102844 \t Accuracy: 100.00\n",
            "Iteration: 2440 \t Train Loss: 0.5514448285102844 \t Accuracy: 100.00\n",
            "Iteration: 2450 \t Train Loss: 1.5514448881149292 \t Accuracy: 0.00\n",
            "Iteration: 2460 \t Train Loss: 1.5514448881149292 \t Accuracy: 0.00\n",
            "Iteration: 2470 \t Train Loss: 1.5514448881149292 \t Accuracy: 0.00\n",
            "Iteration: 2480 \t Train Loss: 0.5514448285102844 \t Accuracy: 100.00\n",
            "Iteration: 2490 \t Train Loss: 1.5514448881149292 \t Accuracy: 0.00\n",
            "Iteration: 2500 \t Train Loss: 0.5514448285102844 \t Accuracy: 100.00\n",
            "Iteration: 2510 \t Train Loss: 0.5514448285102844 \t Accuracy: 100.00\n",
            "Iteration: 2520 \t Train Loss: 1.5514448881149292 \t Accuracy: 0.00\n",
            "Iteration: 2530 \t Train Loss: 1.5514448881149292 \t Accuracy: 0.00\n",
            "Iteration: 2540 \t Train Loss: 1.5514448881149292 \t Accuracy: 0.00\n",
            "Iteration: 2550 \t Train Loss: 1.5514448881149292 \t Accuracy: 0.00\n",
            "Iteration: 2560 \t Train Loss: 0.5514448285102844 \t Accuracy: 100.00\n",
            "Iteration: 2570 \t Train Loss: 1.5514448881149292 \t Accuracy: 0.00\n",
            "Iteration: 2580 \t Train Loss: 1.5514448881149292 \t Accuracy: 0.00\n",
            "Iteration: 2590 \t Train Loss: 1.5514448881149292 \t Accuracy: 0.00\n",
            "Iteration: 2600 \t Train Loss: 1.5514448881149292 \t Accuracy: 0.00\n",
            "Iteration: 2610 \t Train Loss: 0.5514448285102844 \t Accuracy: 100.00\n",
            "Iteration: 2620 \t Train Loss: 0.5514448285102844 \t Accuracy: 100.00\n",
            "Iteration: 2630 \t Train Loss: 0.5514448285102844 \t Accuracy: 100.00\n",
            "Iteration: 2640 \t Train Loss: 1.5514448881149292 \t Accuracy: 0.00\n",
            "Iteration: 2650 \t Train Loss: 1.5514448881149292 \t Accuracy: 0.00\n",
            "Iteration: 2660 \t Train Loss: 1.5514448881149292 \t Accuracy: 0.00\n",
            "Iteration: 2670 \t Train Loss: 1.5514448881149292 \t Accuracy: 0.00\n",
            "Iteration: 2680 \t Train Loss: 0.5514448285102844 \t Accuracy: 100.00\n",
            "Iteration: 2690 \t Train Loss: 1.5514448881149292 \t Accuracy: 0.00\n",
            "Iteration: 2700 \t Train Loss: 1.5514448881149292 \t Accuracy: 0.00\n",
            "Iteration: 2710 \t Train Loss: 1.5514448881149292 \t Accuracy: 0.00\n",
            "Iteration: 2720 \t Train Loss: 1.5514448881149292 \t Accuracy: 0.00\n",
            "Iteration: 2730 \t Train Loss: 1.5514448881149292 \t Accuracy: 0.00\n",
            "Iteration: 2740 \t Train Loss: 0.5514448285102844 \t Accuracy: 100.00\n",
            "Iteration: 2750 \t Train Loss: 1.5514448881149292 \t Accuracy: 0.00\n",
            "Iteration: 2760 \t Train Loss: 1.5514448881149292 \t Accuracy: 0.00\n",
            "Iteration: 2770 \t Train Loss: 0.5514448285102844 \t Accuracy: 100.00\n",
            "Iteration: 2780 \t Train Loss: 0.5514448285102844 \t Accuracy: 100.00\n",
            "Iteration: 2790 \t Train Loss: 1.5514448881149292 \t Accuracy: 0.00\n",
            "Iteration: 2800 \t Train Loss: 1.5514448881149292 \t Accuracy: 0.00\n",
            "Iteration: 2810 \t Train Loss: 0.5514448285102844 \t Accuracy: 100.00\n",
            "Iteration: 2820 \t Train Loss: 0.5514448285102844 \t Accuracy: 100.00\n",
            "Iteration: 2830 \t Train Loss: 0.5514448285102844 \t Accuracy: 100.00\n",
            "Iteration: 2840 \t Train Loss: 0.5514448285102844 \t Accuracy: 100.00\n",
            "Iteration: 2850 \t Train Loss: 1.5514448881149292 \t Accuracy: 0.00\n",
            "Iteration: 2860 \t Train Loss: 1.5514448881149292 \t Accuracy: 0.00\n",
            "Iteration: 2870 \t Train Loss: 1.5514448881149292 \t Accuracy: 0.00\n",
            "Iteration: 2880 \t Train Loss: 1.5514448881149292 \t Accuracy: 0.00\n",
            "Iteration: 2890 \t Train Loss: 1.5514448881149292 \t Accuracy: 0.00\n",
            "Iteration: 2900 \t Train Loss: 0.5514448285102844 \t Accuracy: 100.00\n",
            "Iteration: 2910 \t Train Loss: 1.5514448881149292 \t Accuracy: 0.00\n",
            "Iteration: 2920 \t Train Loss: 0.5514448285102844 \t Accuracy: 100.00\n",
            "Iteration: 2930 \t Train Loss: 0.5514448285102844 \t Accuracy: 100.00\n",
            "Iteration: 2940 \t Train Loss: 1.5514448881149292 \t Accuracy: 0.00\n",
            "Iteration: 2950 \t Train Loss: 1.5514448881149292 \t Accuracy: 0.00\n",
            "Iteration: 2960 \t Train Loss: 0.5514448285102844 \t Accuracy: 100.00\n",
            "Iteration: 2970 \t Train Loss: 1.5514448881149292 \t Accuracy: 0.00\n",
            "Iteration: 2980 \t Train Loss: 0.5514448285102844 \t Accuracy: 100.00\n",
            "Iteration: 2990 \t Train Loss: 1.5514448881149292 \t Accuracy: 0.00\n",
            "Iteration: 3000 \t Train Loss: 1.5514448881149292 \t Accuracy: 0.00\n",
            "Iteration: 3010 \t Train Loss: 1.5514448881149292 \t Accuracy: 0.00\n",
            "Iteration: 3020 \t Train Loss: 1.5514448881149292 \t Accuracy: 0.00\n",
            "Iteration: 3030 \t Train Loss: 1.5514448881149292 \t Accuracy: 0.00\n",
            "Iteration: 3040 \t Train Loss: 1.5514448881149292 \t Accuracy: 0.00\n",
            "Iteration: 3050 \t Train Loss: 0.5514448285102844 \t Accuracy: 100.00\n",
            "Iteration: 3060 \t Train Loss: 1.5514448881149292 \t Accuracy: 0.00\n",
            "Iteration: 3070 \t Train Loss: 0.5514448285102844 \t Accuracy: 100.00\n",
            "Iteration: 3080 \t Train Loss: 0.5514448285102844 \t Accuracy: 100.00\n",
            "Iteration: 3090 \t Train Loss: 1.5514448881149292 \t Accuracy: 0.00\n",
            "Iteration: 3100 \t Train Loss: 0.5514448285102844 \t Accuracy: 100.00\n",
            "Iteration: 3110 \t Train Loss: 0.5514448285102844 \t Accuracy: 100.00\n",
            "Iteration: 3120 \t Train Loss: 0.5514448285102844 \t Accuracy: 100.00\n",
            "Iteration: 3130 \t Train Loss: 1.5514448881149292 \t Accuracy: 0.00\n",
            "Iteration: 3140 \t Train Loss: 1.5514448881149292 \t Accuracy: 0.00\n",
            "Iteration: 3150 \t Train Loss: 0.5514448285102844 \t Accuracy: 100.00\n",
            "Iteration: 3160 \t Train Loss: 1.5514448881149292 \t Accuracy: 0.00\n",
            "Iteration: 3170 \t Train Loss: 1.5514448881149292 \t Accuracy: 0.00\n",
            "Iteration: 3180 \t Train Loss: 1.5514448881149292 \t Accuracy: 0.00\n",
            "Iteration: 3190 \t Train Loss: 1.5514448881149292 \t Accuracy: 0.00\n",
            "Iteration: 3200 \t Train Loss: 0.5514448285102844 \t Accuracy: 100.00\n",
            "Iteration: 3210 \t Train Loss: 1.5514448881149292 \t Accuracy: 0.00\n",
            "Iteration: 3220 \t Train Loss: 1.5514448881149292 \t Accuracy: 0.00\n",
            "Iteration: 3230 \t Train Loss: 0.5514448285102844 \t Accuracy: 100.00\n",
            "Iteration: 3240 \t Train Loss: 0.5514448285102844 \t Accuracy: 100.00\n",
            "Iteration: 3250 \t Train Loss: 0.5514448285102844 \t Accuracy: 100.00\n",
            "Iteration: 3260 \t Train Loss: 0.5514448285102844 \t Accuracy: 100.00\n",
            "Iteration: 3270 \t Train Loss: 0.5514448285102844 \t Accuracy: 100.00\n",
            "Iteration: 3280 \t Train Loss: 0.5514448285102844 \t Accuracy: 100.00\n",
            "Iteration: 3290 \t Train Loss: 1.5514448881149292 \t Accuracy: 0.00\n",
            "Iteration: 3300 \t Train Loss: 1.5514448881149292 \t Accuracy: 0.00\n",
            "Iteration: 3310 \t Train Loss: 0.5514448285102844 \t Accuracy: 100.00\n",
            "Iteration: 3320 \t Train Loss: 0.5514448285102844 \t Accuracy: 100.00\n",
            "Iteration: 3330 \t Train Loss: 0.5514448285102844 \t Accuracy: 100.00\n",
            "Iteration: 3340 \t Train Loss: 0.5514448285102844 \t Accuracy: 100.00\n",
            "Iteration: 3350 \t Train Loss: 0.5514448285102844 \t Accuracy: 100.00\n",
            "Iteration: 3360 \t Train Loss: 0.5514448285102844 \t Accuracy: 100.00\n",
            "Iteration: 3370 \t Train Loss: 0.5514448285102844 \t Accuracy: 100.00\n",
            "Iteration: 3380 \t Train Loss: 0.5514448285102844 \t Accuracy: 100.00\n",
            "Iteration: 3390 \t Train Loss: 0.5514448285102844 \t Accuracy: 100.00\n",
            "Iteration: 3400 \t Train Loss: 1.5514448881149292 \t Accuracy: 0.00\n",
            "Iteration: 3410 \t Train Loss: 1.5514448881149292 \t Accuracy: 0.00\n",
            "Iteration: 3420 \t Train Loss: 1.5514448881149292 \t Accuracy: 0.00\n",
            "Iteration: 3430 \t Train Loss: 1.5514448881149292 \t Accuracy: 0.00\n",
            "Iteration: 3440 \t Train Loss: 1.5514448881149292 \t Accuracy: 0.00\n",
            "Iteration: 3450 \t Train Loss: 0.5514448285102844 \t Accuracy: 100.00\n",
            "Iteration: 3460 \t Train Loss: 1.5514448881149292 \t Accuracy: 0.00\n",
            "Iteration: 3470 \t Train Loss: 0.5514448285102844 \t Accuracy: 100.00\n",
            "Iteration: 3480 \t Train Loss: 1.5514448881149292 \t Accuracy: 0.00\n",
            "Iteration: 3490 \t Train Loss: 1.5514448881149292 \t Accuracy: 0.00\n",
            "Iteration: 3500 \t Train Loss: 1.5514448881149292 \t Accuracy: 0.00\n",
            "Iteration: 3510 \t Train Loss: 0.5514448285102844 \t Accuracy: 100.00\n",
            "Iteration: 3520 \t Train Loss: 1.5514448881149292 \t Accuracy: 0.00\n",
            "Iteration: 3530 \t Train Loss: 0.5514448285102844 \t Accuracy: 100.00\n",
            "Iteration: 3540 \t Train Loss: 0.5514448285102844 \t Accuracy: 100.00\n",
            "Iteration: 3550 \t Train Loss: 0.5514448285102844 \t Accuracy: 100.00\n",
            "Iteration: 3560 \t Train Loss: 1.5514448881149292 \t Accuracy: 0.00\n",
            "Iteration: 3570 \t Train Loss: 0.5514448285102844 \t Accuracy: 100.00\n",
            "Iteration: 3580 \t Train Loss: 1.5514448881149292 \t Accuracy: 0.00\n",
            "Iteration: 3590 \t Train Loss: 0.5514448285102844 \t Accuracy: 100.00\n",
            "Iteration: 3600 \t Train Loss: 0.5514448285102844 \t Accuracy: 100.00\n",
            "Iteration: 3610 \t Train Loss: 0.5514448285102844 \t Accuracy: 100.00\n",
            "Iteration: 3620 \t Train Loss: 0.5514448285102844 \t Accuracy: 100.00\n",
            "Iteration: 3630 \t Train Loss: 1.5514448881149292 \t Accuracy: 0.00\n",
            "Iteration: 3640 \t Train Loss: 0.5514448285102844 \t Accuracy: 100.00\n",
            "Iteration: 3650 \t Train Loss: 0.5514448285102844 \t Accuracy: 100.00\n",
            "Iteration: 3660 \t Train Loss: 1.5514448881149292 \t Accuracy: 0.00\n",
            "Iteration: 3670 \t Train Loss: 1.5514448881149292 \t Accuracy: 0.00\n",
            "Iteration: 3680 \t Train Loss: 1.5514448881149292 \t Accuracy: 0.00\n",
            "Iteration: 3690 \t Train Loss: 1.5514448881149292 \t Accuracy: 0.00\n",
            "Iteration: 3700 \t Train Loss: 0.5514448285102844 \t Accuracy: 100.00\n",
            "Iteration: 3710 \t Train Loss: 1.5514448881149292 \t Accuracy: 0.00\n",
            "Iteration: 3720 \t Train Loss: 0.5514448285102844 \t Accuracy: 100.00\n",
            "Iteration: 3730 \t Train Loss: 1.5514448881149292 \t Accuracy: 0.00\n",
            "Iteration: 3740 \t Train Loss: 0.5514448285102844 \t Accuracy: 100.00\n",
            "Iteration: 3750 \t Train Loss: 0.5514448285102844 \t Accuracy: 100.00\n",
            "Iteration: 3760 \t Train Loss: 1.5514448881149292 \t Accuracy: 0.00\n",
            "Iteration: 3770 \t Train Loss: 1.5514448881149292 \t Accuracy: 0.00\n",
            "Iteration: 3780 \t Train Loss: 0.5514448285102844 \t Accuracy: 100.00\n",
            "Iteration: 3790 \t Train Loss: 1.5514448881149292 \t Accuracy: 0.00\n",
            "Iteration: 3800 \t Train Loss: 1.5514448881149292 \t Accuracy: 0.00\n",
            "Iteration: 3810 \t Train Loss: 0.5514448285102844 \t Accuracy: 100.00\n",
            "Iteration: 3820 \t Train Loss: 0.5514448285102844 \t Accuracy: 100.00\n",
            "Iteration: 3830 \t Train Loss: 0.8619948625564575 \t Accuracy: 0.00\n",
            "Iteration: 3840 \t Train Loss: 0.8619948625564575 \t Accuracy: 100.00\n",
            "Iteration: 3850 \t Train Loss: 0.8619948625564575 \t Accuracy: 100.00\n",
            "Iteration: 3860 \t Train Loss: 0.8619948625564575 \t Accuracy: 100.00\n",
            "Iteration: 3870 \t Train Loss: 1.861994981765747 \t Accuracy: 0.00\n",
            "Iteration: 3880 \t Train Loss: 0.8619948625564575 \t Accuracy: 100.00\n",
            "Iteration: 3890 \t Train Loss: 0.8619948625564575 \t Accuracy: 0.00\n",
            "Iteration: 3900 \t Train Loss: 0.8619948625564575 \t Accuracy: 0.00\n",
            "Iteration: 3910 \t Train Loss: 0.8619948625564575 \t Accuracy: 0.00\n",
            "Iteration: 3920 \t Train Loss: 0.8619948625564575 \t Accuracy: 100.00\n",
            "Iteration: 3930 \t Train Loss: 0.8619948625564575 \t Accuracy: 0.00\n",
            "Iteration: 3940 \t Train Loss: 0.8619948625564575 \t Accuracy: 0.00\n",
            "Iteration: 3950 \t Train Loss: 0.8619948625564575 \t Accuracy: 0.00\n",
            "Iteration: 3960 \t Train Loss: 0.8619948625564575 \t Accuracy: 0.00\n",
            "Iteration: 3970 \t Train Loss: 0.8619948625564575 \t Accuracy: 100.00\n",
            "Iteration: 3980 \t Train Loss: 0.8619948625564575 \t Accuracy: 100.00\n",
            "Iteration: 3990 \t Train Loss: 0.8619948625564575 \t Accuracy: 100.00\n",
            "Iteration: 4000 \t Train Loss: 1.861994981765747 \t Accuracy: 0.00\n",
            "Iteration: 4010 \t Train Loss: 0.8619948625564575 \t Accuracy: 100.00\n",
            "Iteration: 4020 \t Train Loss: 0.8619948625564575 \t Accuracy: 0.00\n",
            "Iteration: 4030 \t Train Loss: 0.8619948625564575 \t Accuracy: 0.00\n",
            "Iteration: 4040 \t Train Loss: 0.8619948625564575 \t Accuracy: 100.00\n",
            "Iteration: 4050 \t Train Loss: 0.8619948625564575 \t Accuracy: 100.00\n",
            "Iteration: 4060 \t Train Loss: 0.8619948625564575 \t Accuracy: 100.00\n",
            "Iteration: 4070 \t Train Loss: 0.8619948625564575 \t Accuracy: 100.00\n",
            "Iteration: 4080 \t Train Loss: 0.8619948625564575 \t Accuracy: 100.00\n",
            "Iteration: 4090 \t Train Loss: 0.8619948625564575 \t Accuracy: 0.00\n",
            "Iteration: 4100 \t Train Loss: 0.8619948625564575 \t Accuracy: 100.00\n",
            "Iteration: 4110 \t Train Loss: 0.8619948625564575 \t Accuracy: 100.00\n",
            "Iteration: 4120 \t Train Loss: 0.8619948625564575 \t Accuracy: 0.00\n",
            "Iteration: 4130 \t Train Loss: 0.8619948625564575 \t Accuracy: 0.00\n",
            "Iteration: 4140 \t Train Loss: 0.8619948625564575 \t Accuracy: 100.00\n",
            "Iteration: 4150 \t Train Loss: 0.8619948625564575 \t Accuracy: 100.00\n",
            "Iteration: 4160 \t Train Loss: 0.8619948625564575 \t Accuracy: 100.00\n",
            "Iteration: 4170 \t Train Loss: 0.8619948625564575 \t Accuracy: 0.00\n",
            "Iteration: 4180 \t Train Loss: 0.8619948625564575 \t Accuracy: 100.00\n",
            "Iteration: 4190 \t Train Loss: 0.8619948625564575 \t Accuracy: 100.00\n",
            "Iteration: 4200 \t Train Loss: 0.8619948625564575 \t Accuracy: 100.00\n",
            "Iteration: 4210 \t Train Loss: 0.8619948625564575 \t Accuracy: 100.00\n",
            "Iteration: 4220 \t Train Loss: 0.8619948625564575 \t Accuracy: 100.00\n",
            "Iteration: 4230 \t Train Loss: 0.8619948625564575 \t Accuracy: 0.00\n",
            "Iteration: 4240 \t Train Loss: 1.861994981765747 \t Accuracy: 0.00\n",
            "Iteration: 4250 \t Train Loss: 1.861994981765747 \t Accuracy: 0.00\n",
            "Iteration: 4260 \t Train Loss: 0.8619948625564575 \t Accuracy: 100.00\n",
            "Iteration: 4270 \t Train Loss: 0.8619948625564575 \t Accuracy: 100.00\n",
            "Iteration: 4280 \t Train Loss: 0.8619948625564575 \t Accuracy: 100.00\n",
            "Iteration: 4290 \t Train Loss: 0.8619948625564575 \t Accuracy: 100.00\n",
            "Iteration: 4300 \t Train Loss: 0.8619948625564575 \t Accuracy: 0.00\n",
            "Iteration: 4310 \t Train Loss: 0.8619948625564575 \t Accuracy: 100.00\n",
            "Iteration: 4320 \t Train Loss: 0.8619948625564575 \t Accuracy: 0.00\n",
            "Iteration: 4330 \t Train Loss: 0.8619948625564575 \t Accuracy: 100.00\n",
            "Iteration: 4340 \t Train Loss: 0.8619948625564575 \t Accuracy: 0.00\n",
            "Iteration: 4350 \t Train Loss: 0.8619948625564575 \t Accuracy: 0.00\n",
            "Iteration: 4360 \t Train Loss: 0.8619948625564575 \t Accuracy: 0.00\n",
            "Iteration: 4370 \t Train Loss: 0.8619948625564575 \t Accuracy: 0.00\n",
            "Iteration: 4380 \t Train Loss: 0.8619948625564575 \t Accuracy: 0.00\n",
            "Iteration: 4390 \t Train Loss: 1.861994981765747 \t Accuracy: 0.00\n",
            "Iteration: 4400 \t Train Loss: 1.861994981765747 \t Accuracy: 0.00\n",
            "Iteration: 4410 \t Train Loss: 0.8619948625564575 \t Accuracy: 0.00\n",
            "Iteration: 4420 \t Train Loss: 0.8619948625564575 \t Accuracy: 100.00\n",
            "Iteration: 4430 \t Train Loss: 0.8619948625564575 \t Accuracy: 0.00\n",
            "Iteration: 4440 \t Train Loss: 0.8619948625564575 \t Accuracy: 100.00\n",
            "Iteration: 4450 \t Train Loss: 0.8619948625564575 \t Accuracy: 100.00\n",
            "Iteration: 4460 \t Train Loss: 0.8619948625564575 \t Accuracy: 0.00\n",
            "Iteration: 4470 \t Train Loss: 0.8619948625564575 \t Accuracy: 100.00\n",
            "Iteration: 4480 \t Train Loss: 0.8619948625564575 \t Accuracy: 100.00\n",
            "Iteration: 4490 \t Train Loss: 1.861994981765747 \t Accuracy: 0.00\n",
            "Iteration: 4500 \t Train Loss: 0.8619948625564575 \t Accuracy: 100.00\n",
            "Iteration: 4510 \t Train Loss: 0.8619948625564575 \t Accuracy: 0.00\n",
            "Iteration: 4520 \t Train Loss: 0.8619948625564575 \t Accuracy: 100.00\n",
            "Iteration: 4530 \t Train Loss: 0.8619948625564575 \t Accuracy: 100.00\n",
            "Iteration: 4540 \t Train Loss: 0.8619948625564575 \t Accuracy: 0.00\n",
            "Iteration: 4550 \t Train Loss: 0.8619948625564575 \t Accuracy: 100.00\n",
            "Iteration: 4560 \t Train Loss: 0.8619948625564575 \t Accuracy: 100.00\n",
            "Iteration: 4570 \t Train Loss: 0.8619948625564575 \t Accuracy: 0.00\n",
            "Iteration: 4580 \t Train Loss: 0.8619948625564575 \t Accuracy: 0.00\n",
            "Iteration: 4590 \t Train Loss: 1.861994981765747 \t Accuracy: 0.00\n",
            "Iteration: 4600 \t Train Loss: 1.861994981765747 \t Accuracy: 0.00\n",
            "Iteration: 4610 \t Train Loss: 0.8619948625564575 \t Accuracy: 100.00\n",
            "Iteration: 4620 \t Train Loss: 0.8619948625564575 \t Accuracy: 100.00\n",
            "Iteration: 4630 \t Train Loss: 0.8619948625564575 \t Accuracy: 0.00\n",
            "Iteration: 4640 \t Train Loss: 1.861994981765747 \t Accuracy: 0.00\n",
            "Iteration: 4650 \t Train Loss: 1.861994981765747 \t Accuracy: 0.00\n",
            "Iteration: 4660 \t Train Loss: 0.8619948625564575 \t Accuracy: 100.00\n",
            "Iteration: 4670 \t Train Loss: 0.8619948625564575 \t Accuracy: 100.00\n",
            "Iteration: 4680 \t Train Loss: 0.8619948625564575 \t Accuracy: 100.00\n",
            "Iteration: 4690 \t Train Loss: 0.8619948625564575 \t Accuracy: 100.00\n",
            "Iteration: 4700 \t Train Loss: 0.8619948625564575 \t Accuracy: 0.00\n",
            "Iteration: 4710 \t Train Loss: 0.8619948625564575 \t Accuracy: 0.00\n",
            "Iteration: 4720 \t Train Loss: 0.8619948625564575 \t Accuracy: 100.00\n",
            "Iteration: 4730 \t Train Loss: 0.8619948625564575 \t Accuracy: 100.00\n",
            "Iteration: 4740 \t Train Loss: 0.8619948625564575 \t Accuracy: 0.00\n",
            "Iteration: 4750 \t Train Loss: 0.8619948625564575 \t Accuracy: 100.00\n",
            "Iteration: 4760 \t Train Loss: 0.8619948625564575 \t Accuracy: 0.00\n",
            "Iteration: 4770 \t Train Loss: 0.8619948625564575 \t Accuracy: 100.00\n",
            "Iteration: 4780 \t Train Loss: 0.8619948625564575 \t Accuracy: 100.00\n",
            "Iteration: 4790 \t Train Loss: 0.8619948625564575 \t Accuracy: 100.00\n",
            "Iteration: 4800 \t Train Loss: 0.8619948625564575 \t Accuracy: 0.00\n",
            "Iteration: 4810 \t Train Loss: 0.8619948625564575 \t Accuracy: 100.00\n",
            "Iteration: 4820 \t Train Loss: 1.861994981765747 \t Accuracy: 0.00\n",
            "Iteration: 4830 \t Train Loss: 0.8619948625564575 \t Accuracy: 100.00\n",
            "Iteration: 4840 \t Train Loss: 0.8619948625564575 \t Accuracy: 100.00\n",
            "Iteration: 4850 \t Train Loss: 0.8619948625564575 \t Accuracy: 100.00\n",
            "Iteration: 4860 \t Train Loss: 0.8619948625564575 \t Accuracy: 100.00\n",
            "Iteration: 4870 \t Train Loss: 0.8619948625564575 \t Accuracy: 100.00\n",
            "Iteration: 4880 \t Train Loss: 1.861994981765747 \t Accuracy: 0.00\n",
            "Iteration: 4890 \t Train Loss: 1.861994981765747 \t Accuracy: 0.00\n",
            "Iteration: 4900 \t Train Loss: 0.8619948625564575 \t Accuracy: 100.00\n",
            "Iteration: 4910 \t Train Loss: 1.861994981765747 \t Accuracy: 0.00\n",
            "Iteration: 4920 \t Train Loss: 1.861994981765747 \t Accuracy: 0.00\n",
            "Iteration: 4930 \t Train Loss: 0.8619948625564575 \t Accuracy: 100.00\n",
            "Iteration: 4940 \t Train Loss: 0.8619948625564575 \t Accuracy: 0.00\n",
            "Iteration: 4950 \t Train Loss: 0.8619948625564575 \t Accuracy: 100.00\n",
            "Iteration: 4960 \t Train Loss: 0.8619948625564575 \t Accuracy: 100.00\n",
            "Iteration: 4970 \t Train Loss: 0.8619948625564575 \t Accuracy: 100.00\n",
            "Iteration: 4980 \t Train Loss: 0.8619948625564575 \t Accuracy: 100.00\n",
            "Iteration: 4990 \t Train Loss: 0.8619948625564575 \t Accuracy: 100.00\n",
            "Iteration: 5000 \t Train Loss: 0.8619948625564575 \t Accuracy: 0.00\n",
            "Iteration: 5010 \t Train Loss: 0.8619948625564575 \t Accuracy: 0.00\n",
            "Iteration: 5020 \t Train Loss: 0.8619948625564575 \t Accuracy: 100.00\n",
            "Iteration: 5030 \t Train Loss: 0.8619948625564575 \t Accuracy: 100.00\n",
            "Iteration: 5040 \t Train Loss: 0.8619948625564575 \t Accuracy: 100.00\n",
            "Iteration: 5050 \t Train Loss: 0.8619948625564575 \t Accuracy: 100.00\n",
            "Iteration: 5060 \t Train Loss: 0.8619948625564575 \t Accuracy: 100.00\n",
            "Iteration: 5070 \t Train Loss: 0.8619948625564575 \t Accuracy: 0.00\n",
            "Iteration: 5080 \t Train Loss: 0.8619948625564575 \t Accuracy: 100.00\n",
            "Iteration: 5090 \t Train Loss: 0.8619948625564575 \t Accuracy: 100.00\n",
            "Iteration: 5100 \t Train Loss: 1.861994981765747 \t Accuracy: 0.00\n",
            "Iteration: 5110 \t Train Loss: 0.8619948625564575 \t Accuracy: 100.00\n",
            "Iteration: 5120 \t Train Loss: 0.8619948625564575 \t Accuracy: 100.00\n",
            "Iteration: 5130 \t Train Loss: 0.8619948625564575 \t Accuracy: 100.00\n",
            "Iteration: 5140 \t Train Loss: 0.8619948625564575 \t Accuracy: 100.00\n",
            "Iteration: 5150 \t Train Loss: 0.8619948625564575 \t Accuracy: 0.00\n",
            "Iteration: 5160 \t Train Loss: 0.8619948625564575 \t Accuracy: 100.00\n",
            "Iteration: 5170 \t Train Loss: 0.8619948625564575 \t Accuracy: 100.00\n",
            "Iteration: 5180 \t Train Loss: 0.8619948625564575 \t Accuracy: 100.00\n",
            "Iteration: 5190 \t Train Loss: 0.8619948625564575 \t Accuracy: 100.00\n",
            "Iteration: 5200 \t Train Loss: 0.8619948625564575 \t Accuracy: 0.00\n",
            "Iteration: 5210 \t Train Loss: 0.8619948625564575 \t Accuracy: 100.00\n",
            "Iteration: 5220 \t Train Loss: 0.8619948625564575 \t Accuracy: 100.00\n",
            "Iteration: 5230 \t Train Loss: 0.8619948625564575 \t Accuracy: 0.00\n",
            "Iteration: 5240 \t Train Loss: 0.8619948625564575 \t Accuracy: 100.00\n",
            "Iteration: 5250 \t Train Loss: 0.8619948625564575 \t Accuracy: 0.00\n",
            "Iteration: 5260 \t Train Loss: 0.8619948625564575 \t Accuracy: 100.00\n",
            "Iteration: 5270 \t Train Loss: 0.8619948625564575 \t Accuracy: 100.00\n",
            "Iteration: 5280 \t Train Loss: 1.861994981765747 \t Accuracy: 0.00\n",
            "Iteration: 5290 \t Train Loss: 0.8619948625564575 \t Accuracy: 100.00\n",
            "Iteration: 5300 \t Train Loss: 0.8619948625564575 \t Accuracy: 100.00\n",
            "Iteration: 5310 \t Train Loss: 0.8619948625564575 \t Accuracy: 100.00\n",
            "Iteration: 5320 \t Train Loss: 1.861994981765747 \t Accuracy: 0.00\n",
            "Iteration: 5330 \t Train Loss: 0.8619948625564575 \t Accuracy: 100.00\n",
            "Iteration: 5340 \t Train Loss: 0.8619948625564575 \t Accuracy: 100.00\n",
            "Iteration: 5350 \t Train Loss: 0.8619948625564575 \t Accuracy: 100.00\n",
            "Iteration: 5360 \t Train Loss: 0.8619948625564575 \t Accuracy: 100.00\n",
            "Iteration: 5370 \t Train Loss: 0.8619948625564575 \t Accuracy: 100.00\n",
            "Iteration: 5380 \t Train Loss: 0.8619948625564575 \t Accuracy: 0.00\n",
            "Iteration: 5390 \t Train Loss: 0.8619948625564575 \t Accuracy: 100.00\n",
            "Iteration: 5400 \t Train Loss: 0.8619948625564575 \t Accuracy: 0.00\n",
            "Iteration: 5410 \t Train Loss: 1.861994981765747 \t Accuracy: 0.00\n",
            "Iteration: 5420 \t Train Loss: 0.8619948625564575 \t Accuracy: 100.00\n",
            "Iteration: 5430 \t Train Loss: 0.8619948625564575 \t Accuracy: 100.00\n",
            "Iteration: 5440 \t Train Loss: 0.8619948625564575 \t Accuracy: 100.00\n",
            "Iteration: 5450 \t Train Loss: 0.8619948625564575 \t Accuracy: 100.00\n",
            "Iteration: 5460 \t Train Loss: 0.8619948625564575 \t Accuracy: 100.00\n",
            "Iteration: 5470 \t Train Loss: 0.8619948625564575 \t Accuracy: 100.00\n",
            "Iteration: 5480 \t Train Loss: 0.8619948625564575 \t Accuracy: 100.00\n",
            "Iteration: 5490 \t Train Loss: 0.8619948625564575 \t Accuracy: 100.00\n",
            "Iteration: 5500 \t Train Loss: 0.8619948625564575 \t Accuracy: 0.00\n",
            "Iteration: 5510 \t Train Loss: 0.8619948625564575 \t Accuracy: 100.00\n",
            "Iteration: 5520 \t Train Loss: 0.8619948625564575 \t Accuracy: 100.00\n",
            "Iteration: 5530 \t Train Loss: 1.861994981765747 \t Accuracy: 0.00\n",
            "Iteration: 5540 \t Train Loss: 0.8619948625564575 \t Accuracy: 100.00\n",
            "Iteration: 5550 \t Train Loss: 0.8619948625564575 \t Accuracy: 100.00\n",
            "Iteration: 5560 \t Train Loss: 0.8619948625564575 \t Accuracy: 100.00\n",
            "Iteration: 5570 \t Train Loss: 0.8619948625564575 \t Accuracy: 100.00\n",
            "Iteration: 5580 \t Train Loss: 0.8619948625564575 \t Accuracy: 100.00\n",
            "Iteration: 5590 \t Train Loss: 0.8619948625564575 \t Accuracy: 100.00\n",
            "Iteration: 5600 \t Train Loss: 1.5514448881149292 \t Accuracy: 0.00\n",
            "Iteration: 5610 \t Train Loss: 0.5514448285102844 \t Accuracy: 100.00\n",
            "Iteration: 5620 \t Train Loss: 1.5514448881149292 \t Accuracy: 0.00\n",
            "Iteration: 5630 \t Train Loss: 1.5514448881149292 \t Accuracy: 0.00\n",
            "Iteration: 5640 \t Train Loss: 0.5514448285102844 \t Accuracy: 100.00\n",
            "Iteration: 5650 \t Train Loss: 0.5514448285102844 \t Accuracy: 100.00\n",
            "Iteration: 5660 \t Train Loss: 0.5514448285102844 \t Accuracy: 100.00\n",
            "Iteration: 5670 \t Train Loss: 0.5514448285102844 \t Accuracy: 100.00\n",
            "Iteration: 5680 \t Train Loss: 0.5514448285102844 \t Accuracy: 100.00\n",
            "Iteration: 5690 \t Train Loss: 1.5514448881149292 \t Accuracy: 0.00\n",
            "Iteration: 5700 \t Train Loss: 0.5514448285102844 \t Accuracy: 100.00\n",
            "Iteration: 5710 \t Train Loss: 0.5514448285102844 \t Accuracy: 100.00\n",
            "Iteration: 5720 \t Train Loss: 0.5514448285102844 \t Accuracy: 100.00\n",
            "Iteration: 5730 \t Train Loss: 0.5514448285102844 \t Accuracy: 100.00\n",
            "Iteration: 5740 \t Train Loss: 1.5514448881149292 \t Accuracy: 0.00\n",
            "Iteration: 5750 \t Train Loss: 0.5514448285102844 \t Accuracy: 100.00\n",
            "Iteration: 5760 \t Train Loss: 0.5514448285102844 \t Accuracy: 100.00\n",
            "Iteration: 5770 \t Train Loss: 1.5514448881149292 \t Accuracy: 0.00\n",
            "Iteration: 5780 \t Train Loss: 0.5514448285102844 \t Accuracy: 100.00\n",
            "Iteration: 5790 \t Train Loss: 0.5514448285102844 \t Accuracy: 100.00\n",
            "Iteration: 5800 \t Train Loss: 1.5514448881149292 \t Accuracy: 0.00\n",
            "Iteration: 5810 \t Train Loss: 0.5514448285102844 \t Accuracy: 100.00\n",
            "Iteration: 5820 \t Train Loss: 0.5514448285102844 \t Accuracy: 100.00\n",
            "Iteration: 5830 \t Train Loss: 0.5514448285102844 \t Accuracy: 100.00\n",
            "Iteration: 5840 \t Train Loss: 0.5514448285102844 \t Accuracy: 100.00\n",
            "Iteration: 5850 \t Train Loss: 0.5514448285102844 \t Accuracy: 100.00\n",
            "Iteration: 5860 \t Train Loss: 0.5514448285102844 \t Accuracy: 100.00\n",
            "Iteration: 5870 \t Train Loss: 0.5514448285102844 \t Accuracy: 100.00\n",
            "Iteration: 5880 \t Train Loss: 1.5514448881149292 \t Accuracy: 0.00\n",
            "Iteration: 5890 \t Train Loss: 1.5514448881149292 \t Accuracy: 0.00\n",
            "Iteration: 5900 \t Train Loss: 0.5514448285102844 \t Accuracy: 100.00\n",
            "Iteration: 5910 \t Train Loss: 0.5514448285102844 \t Accuracy: 100.00\n",
            "Iteration: 5920 \t Train Loss: 1.5514448881149292 \t Accuracy: 0.00\n",
            "Iteration: 5930 \t Train Loss: 0.5514448285102844 \t Accuracy: 100.00\n",
            "Iteration: 5940 \t Train Loss: 1.5514448881149292 \t Accuracy: 0.00\n",
            "Iteration: 5950 \t Train Loss: 0.5514448285102844 \t Accuracy: 100.00\n",
            "Iteration: 5960 \t Train Loss: 0.5514448285102844 \t Accuracy: 100.00\n",
            "Iteration: 5970 \t Train Loss: 0.5514448285102844 \t Accuracy: 100.00\n",
            "Iteration: 5980 \t Train Loss: 1.5514448881149292 \t Accuracy: 0.00\n",
            "Iteration: 5990 \t Train Loss: 1.5514448881149292 \t Accuracy: 0.00\n",
            "Iteration: 6000 \t Train Loss: 1.5514448881149292 \t Accuracy: 0.00\n",
            "Iteration: 6010 \t Train Loss: 0.5514448285102844 \t Accuracy: 100.00\n",
            "Iteration: 6020 \t Train Loss: 0.5514448285102844 \t Accuracy: 100.00\n",
            "Iteration: 6030 \t Train Loss: 0.5514448285102844 \t Accuracy: 100.00\n",
            "Iteration: 6040 \t Train Loss: 0.5514448285102844 \t Accuracy: 100.00\n",
            "Iteration: 6050 \t Train Loss: 0.5514448285102844 \t Accuracy: 100.00\n",
            "Iteration: 6060 \t Train Loss: 1.5514448881149292 \t Accuracy: 0.00\n",
            "Iteration: 6070 \t Train Loss: 0.5514448285102844 \t Accuracy: 100.00\n",
            "Iteration: 6080 \t Train Loss: 1.5514448881149292 \t Accuracy: 0.00\n",
            "Iteration: 6090 \t Train Loss: 0.5514448285102844 \t Accuracy: 100.00\n",
            "Iteration: 6100 \t Train Loss: 0.5514448285102844 \t Accuracy: 100.00\n",
            "Iteration: 6110 \t Train Loss: 1.5514448881149292 \t Accuracy: 0.00\n",
            "Iteration: 6120 \t Train Loss: 1.5514448881149292 \t Accuracy: 0.00\n",
            "Iteration: 6130 \t Train Loss: 1.5514448881149292 \t Accuracy: 0.00\n",
            "Iteration: 6140 \t Train Loss: 0.5514448285102844 \t Accuracy: 100.00\n",
            "Iteration: 6150 \t Train Loss: 1.5514448881149292 \t Accuracy: 0.00\n",
            "Iteration: 6160 \t Train Loss: 1.5514448881149292 \t Accuracy: 0.00\n",
            "Iteration: 6170 \t Train Loss: 0.5514448285102844 \t Accuracy: 100.00\n",
            "Iteration: 6180 \t Train Loss: 0.5514448285102844 \t Accuracy: 100.00\n",
            "Iteration: 6190 \t Train Loss: 1.5514448881149292 \t Accuracy: 0.00\n",
            "Iteration: 6200 \t Train Loss: 0.5514448285102844 \t Accuracy: 100.00\n",
            "Iteration: 6210 \t Train Loss: 1.5514448881149292 \t Accuracy: 0.00\n",
            "Iteration: 6220 \t Train Loss: 0.5514448285102844 \t Accuracy: 100.00\n",
            "Iteration: 6230 \t Train Loss: 0.5514448285102844 \t Accuracy: 100.00\n",
            "Iteration: 6240 \t Train Loss: 0.5514448285102844 \t Accuracy: 100.00\n",
            "Iteration: 6250 \t Train Loss: 0.5514448285102844 \t Accuracy: 100.00\n",
            "Iteration: 6260 \t Train Loss: 0.5514448285102844 \t Accuracy: 100.00\n",
            "Iteration: 6270 \t Train Loss: 1.5514448881149292 \t Accuracy: 0.00\n",
            "Iteration: 6280 \t Train Loss: 1.5514448881149292 \t Accuracy: 0.00\n",
            "Iteration: 6290 \t Train Loss: 0.5514448285102844 \t Accuracy: 100.00\n",
            "Iteration: 6300 \t Train Loss: 0.5514448285102844 \t Accuracy: 100.00\n",
            "Iteration: 6310 \t Train Loss: 0.5514448285102844 \t Accuracy: 100.00\n",
            "Iteration: 6320 \t Train Loss: 0.5514448285102844 \t Accuracy: 100.00\n",
            "Iteration: 6330 \t Train Loss: 0.5514448285102844 \t Accuracy: 100.00\n",
            "Iteration: 6340 \t Train Loss: 1.5514448881149292 \t Accuracy: 0.00\n",
            "Iteration: 6350 \t Train Loss: 0.5514448285102844 \t Accuracy: 100.00\n",
            "Iteration: 6360 \t Train Loss: 1.5514448881149292 \t Accuracy: 0.00\n",
            "Iteration: 6370 \t Train Loss: 1.5514448881149292 \t Accuracy: 0.00\n",
            "Iteration: 6380 \t Train Loss: 1.5514448881149292 \t Accuracy: 0.00\n",
            "Iteration: 6390 \t Train Loss: 1.5514448881149292 \t Accuracy: 0.00\n",
            "Iteration: 6400 \t Train Loss: 0.5514448285102844 \t Accuracy: 100.00\n",
            "Iteration: 6410 \t Train Loss: 0.5514448285102844 \t Accuracy: 100.00\n",
            "Iteration: 6420 \t Train Loss: 0.5514448285102844 \t Accuracy: 100.00\n",
            "Iteration: 6430 \t Train Loss: 0.5514448285102844 \t Accuracy: 100.00\n",
            "Iteration: 6440 \t Train Loss: 1.5514448881149292 \t Accuracy: 0.00\n",
            "Iteration: 6450 \t Train Loss: 0.5514448285102844 \t Accuracy: 100.00\n",
            "Iteration: 6460 \t Train Loss: 1.5514448881149292 \t Accuracy: 0.00\n",
            "Iteration: 6470 \t Train Loss: 0.5514448285102844 \t Accuracy: 100.00\n",
            "Iteration: 6480 \t Train Loss: 0.5514448285102844 \t Accuracy: 100.00\n",
            "Iteration: 6490 \t Train Loss: 1.5514448881149292 \t Accuracy: 0.00\n",
            "Iteration: 6500 \t Train Loss: 0.5514448285102844 \t Accuracy: 100.00\n",
            "Iteration: 6510 \t Train Loss: 0.5514448285102844 \t Accuracy: 100.00\n",
            "Iteration: 6520 \t Train Loss: 0.5514448285102844 \t Accuracy: 100.00\n",
            "Iteration: 6530 \t Train Loss: 1.5514448881149292 \t Accuracy: 0.00\n",
            "Iteration: 6540 \t Train Loss: 1.5514448881149292 \t Accuracy: 0.00\n",
            "Iteration: 6550 \t Train Loss: 0.5514448285102844 \t Accuracy: 100.00\n",
            "Iteration: 6560 \t Train Loss: 1.5514448881149292 \t Accuracy: 0.00\n",
            "Iteration: 6570 \t Train Loss: 0.5514448285102844 \t Accuracy: 100.00\n",
            "Iteration: 6580 \t Train Loss: 0.5514448285102844 \t Accuracy: 100.00\n",
            "Iteration: 6590 \t Train Loss: 1.5514448881149292 \t Accuracy: 0.00\n",
            "Iteration: 6600 \t Train Loss: 0.5514448285102844 \t Accuracy: 100.00\n",
            "Iteration: 6610 \t Train Loss: 0.5514448285102844 \t Accuracy: 100.00\n",
            "Iteration: 6620 \t Train Loss: 0.5514448285102844 \t Accuracy: 100.00\n",
            "Iteration: 6630 \t Train Loss: 0.5514448285102844 \t Accuracy: 100.00\n",
            "Iteration: 6640 \t Train Loss: 0.5514448285102844 \t Accuracy: 100.00\n",
            "Iteration: 6650 \t Train Loss: 0.5514448285102844 \t Accuracy: 100.00\n",
            "Iteration: 6660 \t Train Loss: 1.5514448881149292 \t Accuracy: 0.00\n",
            "Iteration: 6670 \t Train Loss: 0.5514448285102844 \t Accuracy: 100.00\n",
            "Iteration: 6680 \t Train Loss: 1.5514448881149292 \t Accuracy: 0.00\n",
            "Iteration: 6690 \t Train Loss: 0.5514448285102844 \t Accuracy: 100.00\n",
            "Iteration: 6700 \t Train Loss: 0.5514448285102844 \t Accuracy: 100.00\n",
            "Iteration: 6710 \t Train Loss: 1.5514448881149292 \t Accuracy: 0.00\n",
            "Iteration: 6720 \t Train Loss: 0.5514448285102844 \t Accuracy: 100.00\n",
            "Iteration: 6730 \t Train Loss: 0.5514448285102844 \t Accuracy: 100.00\n",
            "Iteration: 6740 \t Train Loss: 0.5514448285102844 \t Accuracy: 100.00\n",
            "Iteration: 6750 \t Train Loss: 1.5514448881149292 \t Accuracy: 0.00\n",
            "Iteration: 6760 \t Train Loss: 1.5514448881149292 \t Accuracy: 0.00\n",
            "Iteration: 6770 \t Train Loss: 0.5514448285102844 \t Accuracy: 100.00\n",
            "Iteration: 6780 \t Train Loss: 1.5514448881149292 \t Accuracy: 0.00\n",
            "Iteration: 6790 \t Train Loss: 1.5514448881149292 \t Accuracy: 0.00\n",
            "Iteration: 6800 \t Train Loss: 0.5514448285102844 \t Accuracy: 100.00\n",
            "Iteration: 6810 \t Train Loss: 1.5514448881149292 \t Accuracy: 0.00\n",
            "Iteration: 6820 \t Train Loss: 0.5514448285102844 \t Accuracy: 100.00\n",
            "Iteration: 6830 \t Train Loss: 0.5514448285102844 \t Accuracy: 100.00\n",
            "Iteration: 6840 \t Train Loss: 1.5514448881149292 \t Accuracy: 0.00\n",
            "Iteration: 6850 \t Train Loss: 1.5514448881149292 \t Accuracy: 0.00\n",
            "Iteration: 6860 \t Train Loss: 1.5514448881149292 \t Accuracy: 0.00\n",
            "Iteration: 6870 \t Train Loss: 0.5514448285102844 \t Accuracy: 100.00\n",
            "Iteration: 6880 \t Train Loss: 1.5514448881149292 \t Accuracy: 0.00\n",
            "Iteration: 6890 \t Train Loss: 0.5514448285102844 \t Accuracy: 100.00\n",
            "Iteration: 6900 \t Train Loss: 0.5514448285102844 \t Accuracy: 100.00\n",
            "Iteration: 6910 \t Train Loss: 0.5514448285102844 \t Accuracy: 100.00\n",
            "Iteration: 6920 \t Train Loss: 1.5514448881149292 \t Accuracy: 0.00\n",
            "Iteration: 6930 \t Train Loss: 0.5514448285102844 \t Accuracy: 100.00\n",
            "Iteration: 6940 \t Train Loss: 0.5514448285102844 \t Accuracy: 100.00\n",
            "Iteration: 6950 \t Train Loss: 0.5514448285102844 \t Accuracy: 100.00\n",
            "Iteration: 6960 \t Train Loss: 0.5514448285102844 \t Accuracy: 100.00\n",
            "Iteration: 6970 \t Train Loss: 0.5514448285102844 \t Accuracy: 100.00\n",
            "Iteration: 6980 \t Train Loss: 1.5514448881149292 \t Accuracy: 0.00\n",
            "Iteration: 6990 \t Train Loss: 1.5514448881149292 \t Accuracy: 0.00\n",
            "Iteration: 7000 \t Train Loss: 1.5514448881149292 \t Accuracy: 0.00\n",
            "Iteration: 7010 \t Train Loss: 1.5514448881149292 \t Accuracy: 0.00\n",
            "Iteration: 7020 \t Train Loss: 1.5514448881149292 \t Accuracy: 0.00\n",
            "Iteration: 7030 \t Train Loss: 0.5514448285102844 \t Accuracy: 100.00\n",
            "Iteration: 7040 \t Train Loss: 1.5514448881149292 \t Accuracy: 0.00\n",
            "Iteration: 7050 \t Train Loss: 1.5514448881149292 \t Accuracy: 0.00\n",
            "Iteration: 7060 \t Train Loss: 1.5514448881149292 \t Accuracy: 0.00\n",
            "Iteration: 7070 \t Train Loss: 0.5514448285102844 \t Accuracy: 100.00\n",
            "Iteration: 7080 \t Train Loss: 1.5514448881149292 \t Accuracy: 0.00\n",
            "Iteration: 7090 \t Train Loss: 1.5514448881149292 \t Accuracy: 0.00\n",
            "Iteration: 7100 \t Train Loss: 0.5514448285102844 \t Accuracy: 100.00\n",
            "Iteration: 7110 \t Train Loss: 0.5514448285102844 \t Accuracy: 100.00\n",
            "Iteration: 7120 \t Train Loss: 0.5514448285102844 \t Accuracy: 100.00\n",
            "Iteration: 7130 \t Train Loss: 0.5514448285102844 \t Accuracy: 100.00\n",
            "Iteration: 7140 \t Train Loss: 1.5514448881149292 \t Accuracy: 0.00\n",
            "Iteration: 7150 \t Train Loss: 0.5514448285102844 \t Accuracy: 100.00\n",
            "Iteration: 7160 \t Train Loss: 0.5514448285102844 \t Accuracy: 100.00\n",
            "Iteration: 7170 \t Train Loss: 0.5514448285102844 \t Accuracy: 100.00\n",
            "Iteration: 7180 \t Train Loss: 0.5514448285102844 \t Accuracy: 100.00\n",
            "Iteration: 7190 \t Train Loss: 0.5514448285102844 \t Accuracy: 100.00\n",
            "Iteration: 7200 \t Train Loss: 0.5514448285102844 \t Accuracy: 100.00\n",
            "Iteration: 7210 \t Train Loss: 0.5514448285102844 \t Accuracy: 100.00\n",
            "Iteration: 7220 \t Train Loss: 0.5514448285102844 \t Accuracy: 100.00\n",
            "Iteration: 7230 \t Train Loss: 1.5514448881149292 \t Accuracy: 0.00\n",
            "Iteration: 7240 \t Train Loss: 0.5514448285102844 \t Accuracy: 100.00\n",
            "Iteration: 7250 \t Train Loss: 0.5514448285102844 \t Accuracy: 100.00\n",
            "Iteration: 7260 \t Train Loss: 1.5514448881149292 \t Accuracy: 0.00\n",
            "Iteration: 7270 \t Train Loss: 0.5514448285102844 \t Accuracy: 100.00\n",
            "Iteration: 7280 \t Train Loss: 1.5514448881149292 \t Accuracy: 0.00\n",
            "Iteration: 7290 \t Train Loss: 1.5514448881149292 \t Accuracy: 0.00\n",
            "Iteration: 7300 \t Train Loss: 0.5514448285102844 \t Accuracy: 100.00\n",
            "Iteration: 7310 \t Train Loss: 0.5514448285102844 \t Accuracy: 100.00\n",
            "Iteration: 7320 \t Train Loss: 0.5514448285102844 \t Accuracy: 100.00\n",
            "Iteration: 7330 \t Train Loss: 0.5514448285102844 \t Accuracy: 100.00\n",
            "Iteration: 7340 \t Train Loss: 1.5514448881149292 \t Accuracy: 0.00\n",
            "Iteration: 7350 \t Train Loss: 1.5514448881149292 \t Accuracy: 0.00\n",
            "Iteration: 7360 \t Train Loss: 1.5514448881149292 \t Accuracy: 0.00\n",
            "Iteration: 7370 \t Train Loss: 1.5514448881149292 \t Accuracy: 0.00\n",
            "Iteration: 7380 \t Train Loss: 0.5514448285102844 \t Accuracy: 100.00\n",
            "Iteration: 7390 \t Train Loss: 1.5514448881149292 \t Accuracy: 0.00\n",
            "Iteration: 7400 \t Train Loss: 0.5514448285102844 \t Accuracy: 100.00\n",
            "Iteration: 7410 \t Train Loss: 1.5514448881149292 \t Accuracy: 0.00\n",
            "Iteration: 7420 \t Train Loss: 0.5514448285102844 \t Accuracy: 100.00\n",
            "Iteration: 7430 \t Train Loss: 1.5514448881149292 \t Accuracy: 0.00\n",
            "Iteration: 7440 \t Train Loss: 0.5514448285102844 \t Accuracy: 100.00\n",
            "Iteration: 7450 \t Train Loss: 0.5514448285102844 \t Accuracy: 100.00\n",
            "Iteration: 7460 \t Train Loss: 1.5514448881149292 \t Accuracy: 0.00\n",
            "Iteration: 7470 \t Train Loss: 1.5514448881149292 \t Accuracy: 0.00\n",
            "Iteration: 7480 \t Train Loss: 0.5514448285102844 \t Accuracy: 100.00\n",
            "Iteration: 7490 \t Train Loss: 1.5514448881149292 \t Accuracy: 0.00\n",
            "Iteration: 7500 \t Train Loss: 1.5514448881149292 \t Accuracy: 0.00\n",
            "Iteration: 7510 \t Train Loss: 1.5514448881149292 \t Accuracy: 0.00\n",
            "Iteration: 7520 \t Train Loss: 1.5514448881149292 \t Accuracy: 0.00\n",
            "Iteration: 7530 \t Train Loss: 1.5514448881149292 \t Accuracy: 0.00\n",
            "Iteration: 7540 \t Train Loss: 1.5514448881149292 \t Accuracy: 0.00\n",
            "Iteration: 7550 \t Train Loss: 1.5514448881149292 \t Accuracy: 0.00\n",
            "Iteration: 7560 \t Train Loss: 1.5514448881149292 \t Accuracy: 0.00\n",
            "Iteration: 7570 \t Train Loss: 1.5514448881149292 \t Accuracy: 0.00\n",
            "Iteration: 7580 \t Train Loss: 1.5514448881149292 \t Accuracy: 0.00\n",
            "Iteration: 7590 \t Train Loss: 0.5514448285102844 \t Accuracy: 100.00\n",
            "Iteration: 7600 \t Train Loss: 1.5514448881149292 \t Accuracy: 0.00\n",
            "Iteration: 7610 \t Train Loss: 0.5514448285102844 \t Accuracy: 100.00\n",
            "Iteration: 7620 \t Train Loss: 1.5514448881149292 \t Accuracy: 0.00\n",
            "Iteration: 7630 \t Train Loss: 1.5514448881149292 \t Accuracy: 0.00\n",
            "Iteration: 7640 \t Train Loss: 0.5514448285102844 \t Accuracy: 100.00\n",
            "Iteration: 7650 \t Train Loss: 1.5514448881149292 \t Accuracy: 0.00\n",
            "Iteration: 7660 \t Train Loss: 0.5514448285102844 \t Accuracy: 100.00\n",
            "Iteration: 7670 \t Train Loss: 1.5514448881149292 \t Accuracy: 0.00\n",
            "Iteration: 7680 \t Train Loss: 1.5514448881149292 \t Accuracy: 0.00\n",
            "Iteration: 7690 \t Train Loss: 1.5514448881149292 \t Accuracy: 0.00\n",
            "Iteration: 7700 \t Train Loss: 0.5514448285102844 \t Accuracy: 100.00\n",
            "Iteration: 7710 \t Train Loss: 0.5514448285102844 \t Accuracy: 100.00\n",
            "Iteration: 7720 \t Train Loss: 1.5514448881149292 \t Accuracy: 0.00\n",
            "Iteration: 7730 \t Train Loss: 1.5514448881149292 \t Accuracy: 0.00\n",
            "Iteration: 7740 \t Train Loss: 0.5514448285102844 \t Accuracy: 100.00\n",
            "Iteration: 7750 \t Train Loss: 1.5514448881149292 \t Accuracy: 0.00\n",
            "Iteration: 7760 \t Train Loss: 0.5514448285102844 \t Accuracy: 100.00\n",
            "Iteration: 7770 \t Train Loss: 0.5514448285102844 \t Accuracy: 100.00\n",
            "Iteration: 7780 \t Train Loss: 0.5514448285102844 \t Accuracy: 100.00\n",
            "Iteration: 7790 \t Train Loss: 0.5514448285102844 \t Accuracy: 100.00\n",
            "Iteration: 7800 \t Train Loss: 1.5514448881149292 \t Accuracy: 0.00\n",
            "Iteration: 7810 \t Train Loss: 0.5514448285102844 \t Accuracy: 100.00\n",
            "Iteration: 7820 \t Train Loss: 1.5514448881149292 \t Accuracy: 0.00\n",
            "Iteration: 7830 \t Train Loss: 0.5514448285102844 \t Accuracy: 100.00\n",
            "Iteration: 7840 \t Train Loss: 0.5514448285102844 \t Accuracy: 100.00\n",
            "Iteration: 7850 \t Train Loss: 0.5514448285102844 \t Accuracy: 100.00\n",
            "Iteration: 7860 \t Train Loss: 0.5514448285102844 \t Accuracy: 100.00\n",
            "Iteration: 7870 \t Train Loss: 0.5514448285102844 \t Accuracy: 100.00\n",
            "Iteration: 7880 \t Train Loss: 1.5514448881149292 \t Accuracy: 0.00\n",
            "Iteration: 7890 \t Train Loss: 1.5514448881149292 \t Accuracy: 0.00\n",
            "Iteration: 7900 \t Train Loss: 0.5514448285102844 \t Accuracy: 100.00\n",
            "Iteration: 7910 \t Train Loss: 1.5514448881149292 \t Accuracy: 0.00\n",
            "Iteration: 7920 \t Train Loss: 1.5514448881149292 \t Accuracy: 0.00\n",
            "Iteration: 7930 \t Train Loss: 0.5514448285102844 \t Accuracy: 100.00\n",
            "Iteration: 7940 \t Train Loss: 1.5514448881149292 \t Accuracy: 0.00\n",
            "Iteration: 7950 \t Train Loss: 0.5514448285102844 \t Accuracy: 100.00\n",
            "Iteration: 7960 \t Train Loss: 0.5514448285102844 \t Accuracy: 100.00\n",
            "Iteration: 7970 \t Train Loss: 0.5514448285102844 \t Accuracy: 100.00\n",
            "Iteration: 7980 \t Train Loss: 1.5514448881149292 \t Accuracy: 0.00\n",
            "Iteration: 7990 \t Train Loss: 0.5514448285102844 \t Accuracy: 100.00\n",
            "Iteration: 8000 \t Train Loss: 0.5514448285102844 \t Accuracy: 100.00\n",
            "Iteration: 8010 \t Train Loss: 0.5514448285102844 \t Accuracy: 100.00\n",
            "Iteration: 8020 \t Train Loss: 0.5514448285102844 \t Accuracy: 100.00\n",
            "Iteration: 8030 \t Train Loss: 0.5514448285102844 \t Accuracy: 100.00\n",
            "Iteration: 8040 \t Train Loss: 1.5514448881149292 \t Accuracy: 0.00\n",
            "Iteration: 8050 \t Train Loss: 0.5514448285102844 \t Accuracy: 100.00\n",
            "Iteration: 8060 \t Train Loss: 0.5514448285102844 \t Accuracy: 100.00\n",
            "Iteration: 8070 \t Train Loss: 0.5514448285102844 \t Accuracy: 100.00\n",
            "Iteration: 8080 \t Train Loss: 0.5514448285102844 \t Accuracy: 100.00\n",
            "Iteration: 8090 \t Train Loss: 0.5514448285102844 \t Accuracy: 100.00\n",
            "Iteration: 8100 \t Train Loss: 0.5514448285102844 \t Accuracy: 100.00\n",
            "Iteration: 8110 \t Train Loss: 0.5514448285102844 \t Accuracy: 100.00\n",
            "Iteration: 8120 \t Train Loss: 0.5514448285102844 \t Accuracy: 100.00\n",
            "Iteration: 8130 \t Train Loss: 1.5514448881149292 \t Accuracy: 0.00\n",
            "Iteration: 8140 \t Train Loss: 1.5514448881149292 \t Accuracy: 0.00\n",
            "Iteration: 8150 \t Train Loss: 0.5514448285102844 \t Accuracy: 100.00\n",
            "Iteration: 8160 \t Train Loss: 0.5514448285102844 \t Accuracy: 100.00\n",
            "Iteration: 8170 \t Train Loss: 1.5514448881149292 \t Accuracy: 0.00\n",
            "Iteration: 8180 \t Train Loss: 0.5514448285102844 \t Accuracy: 100.00\n",
            "Iteration: 8190 \t Train Loss: 0.5514448285102844 \t Accuracy: 100.00\n",
            "Iteration: 8200 \t Train Loss: 0.5514448285102844 \t Accuracy: 100.00\n",
            "Iteration: 8210 \t Train Loss: 0.5514448285102844 \t Accuracy: 100.00\n",
            "Iteration: 8220 \t Train Loss: 1.5514448881149292 \t Accuracy: 0.00\n",
            "Iteration: 8230 \t Train Loss: 1.5514448881149292 \t Accuracy: 0.00\n",
            "Iteration: 8240 \t Train Loss: 1.5514448881149292 \t Accuracy: 0.00\n",
            "Iteration: 8250 \t Train Loss: 0.5514448285102844 \t Accuracy: 100.00\n",
            "Iteration: 8260 \t Train Loss: 1.5514448881149292 \t Accuracy: 0.00\n",
            "Iteration: 8270 \t Train Loss: 0.5514448285102844 \t Accuracy: 100.00\n",
            "Iteration: 8280 \t Train Loss: 0.5514448285102844 \t Accuracy: 100.00\n",
            "Iteration: 8290 \t Train Loss: 0.5514448285102844 \t Accuracy: 100.00\n",
            "Iteration: 8300 \t Train Loss: 0.5514448285102844 \t Accuracy: 100.00\n",
            "Iteration: 8310 \t Train Loss: 0.5514448285102844 \t Accuracy: 100.00\n",
            "Iteration: 8320 \t Train Loss: 0.5514448285102844 \t Accuracy: 100.00\n",
            "Iteration: 8330 \t Train Loss: 1.5514448881149292 \t Accuracy: 0.00\n",
            "Iteration: 8340 \t Train Loss: 1.5514448881149292 \t Accuracy: 0.00\n",
            "Iteration: 8350 \t Train Loss: 1.5514448881149292 \t Accuracy: 0.00\n",
            "Iteration: 8360 \t Train Loss: 0.5514448285102844 \t Accuracy: 100.00\n",
            "Iteration: 8370 \t Train Loss: 0.5514448285102844 \t Accuracy: 100.00\n",
            "Iteration: 8380 \t Train Loss: 0.5514448285102844 \t Accuracy: 100.00\n",
            "Iteration: 8390 \t Train Loss: 0.5514448285102844 \t Accuracy: 100.00\n",
            "Iteration: 8400 \t Train Loss: 1.5514448881149292 \t Accuracy: 0.00\n",
            "Iteration: 8410 \t Train Loss: 1.5514448881149292 \t Accuracy: 0.00\n",
            "Iteration: 8420 \t Train Loss: 1.5514448881149292 \t Accuracy: 0.00\n",
            "Iteration: 8430 \t Train Loss: 0.5514448285102844 \t Accuracy: 100.00\n",
            "Iteration: 8440 \t Train Loss: 0.5514448285102844 \t Accuracy: 100.00\n",
            "Iteration: 8450 \t Train Loss: 0.5514448285102844 \t Accuracy: 100.00\n",
            "Iteration: 8460 \t Train Loss: 1.5514448881149292 \t Accuracy: 0.00\n",
            "Iteration: 8470 \t Train Loss: 1.5514448881149292 \t Accuracy: 0.00\n",
            "Iteration: 8480 \t Train Loss: 0.5514448285102844 \t Accuracy: 100.00\n",
            "Iteration: 8490 \t Train Loss: 0.5514448285102844 \t Accuracy: 100.00\n",
            "Iteration: 8500 \t Train Loss: 0.5514448285102844 \t Accuracy: 100.00\n",
            "Iteration: 8510 \t Train Loss: 1.5514448881149292 \t Accuracy: 0.00\n",
            "Iteration: 8520 \t Train Loss: 0.5514448285102844 \t Accuracy: 100.00\n",
            "Iteration: 8530 \t Train Loss: 0.5514448285102844 \t Accuracy: 100.00\n",
            "Iteration: 8540 \t Train Loss: 0.5514448285102844 \t Accuracy: 100.00\n",
            "Iteration: 8550 \t Train Loss: 0.5514448285102844 \t Accuracy: 100.00\n",
            "Iteration: 8560 \t Train Loss: 0.5514448285102844 \t Accuracy: 100.00\n",
            "Iteration: 8570 \t Train Loss: 1.5514448881149292 \t Accuracy: 0.00\n",
            "Iteration: 8580 \t Train Loss: 1.5514448881149292 \t Accuracy: 0.00\n",
            "Iteration: 8590 \t Train Loss: 1.5514448881149292 \t Accuracy: 0.00\n",
            "Iteration: 8600 \t Train Loss: 0.5514448285102844 \t Accuracy: 100.00\n",
            "Iteration: 8610 \t Train Loss: 0.5514448285102844 \t Accuracy: 100.00\n",
            "Iteration: 8620 \t Train Loss: 1.5514448881149292 \t Accuracy: 0.00\n",
            "Iteration: 8630 \t Train Loss: 1.5514448881149292 \t Accuracy: 0.00\n",
            "Iteration: 8640 \t Train Loss: 0.5514448285102844 \t Accuracy: 100.00\n",
            "Iteration: 8650 \t Train Loss: 0.5514448285102844 \t Accuracy: 100.00\n",
            "Iteration: 8660 \t Train Loss: 1.5514448881149292 \t Accuracy: 0.00\n",
            "Iteration: 8670 \t Train Loss: 0.5514448285102844 \t Accuracy: 100.00\n",
            "Iteration: 8680 \t Train Loss: 0.5514448285102844 \t Accuracy: 100.00\n",
            "Iteration: 8690 \t Train Loss: 0.5514448285102844 \t Accuracy: 100.00\n",
            "Iteration: 8700 \t Train Loss: 1.5514448881149292 \t Accuracy: 0.00\n",
            "Iteration: 8710 \t Train Loss: 0.5514448285102844 \t Accuracy: 100.00\n",
            "Iteration: 8720 \t Train Loss: 1.5514448881149292 \t Accuracy: 0.00\n",
            "Iteration: 8730 \t Train Loss: 1.5514448881149292 \t Accuracy: 0.00\n",
            "Iteration: 8740 \t Train Loss: 0.5514448285102844 \t Accuracy: 100.00\n",
            "Iteration: 8750 \t Train Loss: 0.5514448285102844 \t Accuracy: 100.00\n",
            "Iteration: 8760 \t Train Loss: 1.5514448881149292 \t Accuracy: 0.00\n",
            "Iteration: 8770 \t Train Loss: 1.5514448881149292 \t Accuracy: 0.00\n",
            "Iteration: 8780 \t Train Loss: 1.5514448881149292 \t Accuracy: 0.00\n",
            "Iteration: 8790 \t Train Loss: 0.5514448285102844 \t Accuracy: 100.00\n",
            "Iteration: 8800 \t Train Loss: 1.5514448881149292 \t Accuracy: 0.00\n",
            "Iteration: 8810 \t Train Loss: 1.5514448881149292 \t Accuracy: 0.00\n",
            "Iteration: 8820 \t Train Loss: 0.5514448285102844 \t Accuracy: 100.00\n",
            "Iteration: 8830 \t Train Loss: 1.5514448881149292 \t Accuracy: 0.00\n",
            "Iteration: 8840 \t Train Loss: 1.5514448881149292 \t Accuracy: 0.00\n",
            "Iteration: 8850 \t Train Loss: 1.5514448881149292 \t Accuracy: 0.00\n",
            "Iteration: 8860 \t Train Loss: 0.5514448285102844 \t Accuracy: 100.00\n",
            "Iteration: 8870 \t Train Loss: 0.5514448285102844 \t Accuracy: 100.00\n",
            "Iteration: 8880 \t Train Loss: 1.5514448881149292 \t Accuracy: 0.00\n",
            "Iteration: 8890 \t Train Loss: 1.5514448881149292 \t Accuracy: 0.00\n",
            "Iteration: 8900 \t Train Loss: 0.5514448285102844 \t Accuracy: 100.00\n",
            "Iteration: 8910 \t Train Loss: 0.5514448285102844 \t Accuracy: 100.00\n",
            "Iteration: 8920 \t Train Loss: 0.5514448285102844 \t Accuracy: 100.00\n",
            "Iteration: 8930 \t Train Loss: 1.5514448881149292 \t Accuracy: 0.00\n",
            "Iteration: 8940 \t Train Loss: 0.5514448285102844 \t Accuracy: 100.00\n",
            "Iteration: 8950 \t Train Loss: 0.5514448285102844 \t Accuracy: 100.00\n",
            "Iteration: 8960 \t Train Loss: 0.5514448285102844 \t Accuracy: 100.00\n",
            "Iteration: 8970 \t Train Loss: 1.5514448881149292 \t Accuracy: 0.00\n",
            "Iteration: 8980 \t Train Loss: 0.5514448285102844 \t Accuracy: 100.00\n",
            "Iteration: 8990 \t Train Loss: 0.5514448285102844 \t Accuracy: 100.00\n",
            "Iteration: 9000 \t Train Loss: 0.5514448285102844 \t Accuracy: 100.00\n",
            "Iteration: 9010 \t Train Loss: 1.5514448881149292 \t Accuracy: 0.00\n",
            "Iteration: 9020 \t Train Loss: 0.5514448285102844 \t Accuracy: 100.00\n",
            "Iteration: 9030 \t Train Loss: 0.5514448285102844 \t Accuracy: 100.00\n",
            "Iteration: 9040 \t Train Loss: 0.5514448285102844 \t Accuracy: 100.00\n",
            "Iteration: 9050 \t Train Loss: 0.5514448285102844 \t Accuracy: 100.00\n",
            "Iteration: 9060 \t Train Loss: 0.5514448285102844 \t Accuracy: 100.00\n",
            "Iteration: 9070 \t Train Loss: 0.5514448285102844 \t Accuracy: 100.00\n",
            "Iteration: 9080 \t Train Loss: 1.5514448881149292 \t Accuracy: 0.00\n",
            "Iteration: 9090 \t Train Loss: 1.5514448881149292 \t Accuracy: 0.00\n",
            "Iteration: 9100 \t Train Loss: 0.5514448285102844 \t Accuracy: 100.00\n",
            "Iteration: 9110 \t Train Loss: 0.5514448285102844 \t Accuracy: 100.00\n",
            "Iteration: 9120 \t Train Loss: 0.5514448285102844 \t Accuracy: 100.00\n",
            "Iteration: 9130 \t Train Loss: 1.5514448881149292 \t Accuracy: 0.00\n",
            "Iteration: 9140 \t Train Loss: 0.5514448285102844 \t Accuracy: 100.00\n",
            "Iteration: 9150 \t Train Loss: 0.5514448285102844 \t Accuracy: 100.00\n",
            "Iteration: 9160 \t Train Loss: 0.5514448285102844 \t Accuracy: 100.00\n",
            "Iteration: 9170 \t Train Loss: 1.5514448881149292 \t Accuracy: 0.00\n",
            "Iteration: 9180 \t Train Loss: 1.5514448881149292 \t Accuracy: 0.00\n",
            "Iteration: 9190 \t Train Loss: 0.5514448285102844 \t Accuracy: 100.00\n",
            "Iteration: 9200 \t Train Loss: 0.5514448285102844 \t Accuracy: 100.00\n",
            "Iteration: 9210 \t Train Loss: 0.5514448285102844 \t Accuracy: 100.00\n",
            "Iteration: 9220 \t Train Loss: 1.5514448881149292 \t Accuracy: 0.00\n",
            "Iteration: 9230 \t Train Loss: 0.5514448285102844 \t Accuracy: 100.00\n",
            "Iteration: 9240 \t Train Loss: 1.5514448881149292 \t Accuracy: 0.00\n",
            "Iteration: 9250 \t Train Loss: 1.5514448881149292 \t Accuracy: 0.00\n",
            "Iteration: 9260 \t Train Loss: 1.5514448881149292 \t Accuracy: 0.00\n",
            "Iteration: 9270 \t Train Loss: 1.5514448881149292 \t Accuracy: 0.00\n",
            "Iteration: 9280 \t Train Loss: 1.5514448881149292 \t Accuracy: 0.00\n",
            "Iteration: 9290 \t Train Loss: 0.5514448285102844 \t Accuracy: 100.00\n",
            "Iteration: 9300 \t Train Loss: 0.5514448285102844 \t Accuracy: 100.00\n",
            "Iteration: 9310 \t Train Loss: 1.5514448881149292 \t Accuracy: 0.00\n",
            "Iteration: 9320 \t Train Loss: 0.5514448285102844 \t Accuracy: 100.00\n",
            "Iteration: 9330 \t Train Loss: 0.5514448285102844 \t Accuracy: 100.00\n",
            "Iteration: 9340 \t Train Loss: 0.5514448285102844 \t Accuracy: 100.00\n",
            "Iteration: 9350 \t Train Loss: 0.5514448285102844 \t Accuracy: 100.00\n",
            "Iteration: 9360 \t Train Loss: 0.5514448285102844 \t Accuracy: 100.00\n",
            "Iteration: 9370 \t Train Loss: 0.5514448285102844 \t Accuracy: 100.00\n",
            "Iteration: 9380 \t Train Loss: 1.5514448881149292 \t Accuracy: 0.00\n",
            "Iteration: 9390 \t Train Loss: 1.5514448881149292 \t Accuracy: 0.00\n",
            "Iteration: 9400 \t Train Loss: 0.5514448285102844 \t Accuracy: 100.00\n",
            "Iteration: 9410 \t Train Loss: 1.5514448881149292 \t Accuracy: 0.00\n",
            "Iteration: 9420 \t Train Loss: 1.5514448881149292 \t Accuracy: 0.00\n",
            "Iteration: 9430 \t Train Loss: 1.5514448881149292 \t Accuracy: 0.00\n",
            "Iteration: 9440 \t Train Loss: 0.5514448285102844 \t Accuracy: 100.00\n",
            "Iteration: 9450 \t Train Loss: 0.5514448285102844 \t Accuracy: 100.00\n",
            "Iteration: 9460 \t Train Loss: 0.5514448285102844 \t Accuracy: 100.00\n",
            "Iteration: 9470 \t Train Loss: 1.5514448881149292 \t Accuracy: 0.00\n",
            "Iteration: 9480 \t Train Loss: 1.5514448881149292 \t Accuracy: 0.00\n",
            "Iteration: 9490 \t Train Loss: 1.5514448881149292 \t Accuracy: 0.00\n",
            "Iteration: 9500 \t Train Loss: 1.5514448881149292 \t Accuracy: 0.00\n",
            "Iteration: 9510 \t Train Loss: 0.5514448285102844 \t Accuracy: 100.00\n",
            "Iteration: 9520 \t Train Loss: 0.5514448285102844 \t Accuracy: 100.00\n",
            "Iteration: 9530 \t Train Loss: 1.5514448881149292 \t Accuracy: 0.00\n",
            "Iteration: 9540 \t Train Loss: 0.5514448285102844 \t Accuracy: 100.00\n",
            "Iteration: 9550 \t Train Loss: 1.5514448881149292 \t Accuracy: 0.00\n",
            "Iteration: 9560 \t Train Loss: 1.5514448881149292 \t Accuracy: 0.00\n",
            "Iteration: 9570 \t Train Loss: 1.5514448881149292 \t Accuracy: 0.00\n",
            "Iteration: 9580 \t Train Loss: 1.5514448881149292 \t Accuracy: 0.00\n",
            "Iteration: 9590 \t Train Loss: 0.5514448285102844 \t Accuracy: 100.00\n",
            "Iteration: 9600 \t Train Loss: 1.5514448881149292 \t Accuracy: 0.00\n",
            "Iteration: 9610 \t Train Loss: 0.5514448285102844 \t Accuracy: 100.00\n",
            "Iteration: 9620 \t Train Loss: 0.5514448285102844 \t Accuracy: 100.00\n",
            "Iteration: 9630 \t Train Loss: 1.0986121892929077 \t Accuracy: 100.00\n",
            "Iteration: 9640 \t Train Loss: 1.0986121892929077 \t Accuracy: 0.00\n",
            "Iteration: 9650 \t Train Loss: 1.0986121892929077 \t Accuracy: 0.00\n",
            "Iteration: 9660 \t Train Loss: 1.0986121892929077 \t Accuracy: 0.00\n",
            "Iteration: 9670 \t Train Loss: 1.0986121892929077 \t Accuracy: 0.00\n",
            "Iteration: 9680 \t Train Loss: 1.0986121892929077 \t Accuracy: 100.00\n",
            "Iteration: 9690 \t Train Loss: 1.0986121892929077 \t Accuracy: 100.00\n",
            "Iteration: 9700 \t Train Loss: 1.0986121892929077 \t Accuracy: 0.00\n",
            "Iteration: 9710 \t Train Loss: 1.0986121892929077 \t Accuracy: 100.00\n",
            "Iteration: 9720 \t Train Loss: 1.0986121892929077 \t Accuracy: 100.00\n",
            "Iteration: 9730 \t Train Loss: 1.0986121892929077 \t Accuracy: 0.00\n",
            "Iteration: 9740 \t Train Loss: 1.0986121892929077 \t Accuracy: 0.00\n",
            "Iteration: 9750 \t Train Loss: 1.0986121892929077 \t Accuracy: 100.00\n",
            "Iteration: 9760 \t Train Loss: 1.0986121892929077 \t Accuracy: 100.00\n",
            "Iteration: 9770 \t Train Loss: 1.0986121892929077 \t Accuracy: 100.00\n",
            "Iteration: 9780 \t Train Loss: 1.0986121892929077 \t Accuracy: 100.00\n",
            "Iteration: 9790 \t Train Loss: 1.0986121892929077 \t Accuracy: 0.00\n",
            "Iteration: 9800 \t Train Loss: 1.0986121892929077 \t Accuracy: 100.00\n",
            "Iteration: 9810 \t Train Loss: 1.0986121892929077 \t Accuracy: 0.00\n",
            "Iteration: 9820 \t Train Loss: 1.0986121892929077 \t Accuracy: 100.00\n",
            "Iteration: 9830 \t Train Loss: 1.0986121892929077 \t Accuracy: 100.00\n",
            "Iteration: 9840 \t Train Loss: 1.0986121892929077 \t Accuracy: 0.00\n",
            "Iteration: 9850 \t Train Loss: 1.0986121892929077 \t Accuracy: 0.00\n",
            "Iteration: 9860 \t Train Loss: 1.0986121892929077 \t Accuracy: 0.00\n",
            "Iteration: 9870 \t Train Loss: 1.0986121892929077 \t Accuracy: 0.00\n",
            "Iteration: 9880 \t Train Loss: 1.0986121892929077 \t Accuracy: 0.00\n",
            "Iteration: 9890 \t Train Loss: 1.0986121892929077 \t Accuracy: 0.00\n",
            "Iteration: 9900 \t Train Loss: 1.0986121892929077 \t Accuracy: 100.00\n",
            "Iteration: 9910 \t Train Loss: 1.0986121892929077 \t Accuracy: 0.00\n",
            "Iteration: 9920 \t Train Loss: 1.0986121892929077 \t Accuracy: 0.00\n",
            "Iteration: 9930 \t Train Loss: 1.0986121892929077 \t Accuracy: 100.00\n",
            "Iteration: 9940 \t Train Loss: 1.0986121892929077 \t Accuracy: 100.00\n",
            "Iteration: 9950 \t Train Loss: 1.0986121892929077 \t Accuracy: 100.00\n",
            "Iteration: 9960 \t Train Loss: 1.0986121892929077 \t Accuracy: 100.00\n",
            "Iteration: 9970 \t Train Loss: 1.0986121892929077 \t Accuracy: 0.00\n",
            "Iteration: 9980 \t Train Loss: 1.0986121892929077 \t Accuracy: 100.00\n",
            "Iteration: 9990 \t Train Loss: 1.0986121892929077 \t Accuracy: 0.00\n",
            "Iteration: 10000 \t Train Loss: 1.0986121892929077 \t Accuracy: 0.00\n",
            "Iteration: 10010 \t Train Loss: 1.0986121892929077 \t Accuracy: 100.00\n",
            "Iteration: 10020 \t Train Loss: 1.0986121892929077 \t Accuracy: 0.00\n",
            "Iteration: 10030 \t Train Loss: 1.0986121892929077 \t Accuracy: 100.00\n",
            "Iteration: 10040 \t Train Loss: 1.0986121892929077 \t Accuracy: 100.00\n",
            "Iteration: 10050 \t Train Loss: 1.0986121892929077 \t Accuracy: 0.00\n",
            "Iteration: 10060 \t Train Loss: 1.0986121892929077 \t Accuracy: 0.00\n",
            "Iteration: 10070 \t Train Loss: 1.0986121892929077 \t Accuracy: 100.00\n",
            "Iteration: 10080 \t Train Loss: 1.0986121892929077 \t Accuracy: 0.00\n",
            "Iteration: 10090 \t Train Loss: 1.0986121892929077 \t Accuracy: 0.00\n",
            "Iteration: 10100 \t Train Loss: 1.0986121892929077 \t Accuracy: 100.00\n",
            "Iteration: 10110 \t Train Loss: 1.0986121892929077 \t Accuracy: 100.00\n",
            "Iteration: 10120 \t Train Loss: 1.0986121892929077 \t Accuracy: 0.00\n",
            "Iteration: 10130 \t Train Loss: 1.0986121892929077 \t Accuracy: 100.00\n",
            "Iteration: 10140 \t Train Loss: 1.0986121892929077 \t Accuracy: 0.00\n",
            "Iteration: 10150 \t Train Loss: 1.0986121892929077 \t Accuracy: 100.00\n",
            "Iteration: 10160 \t Train Loss: 1.0986121892929077 \t Accuracy: 100.00\n",
            "Iteration: 10170 \t Train Loss: 1.0986121892929077 \t Accuracy: 0.00\n",
            "Iteration: 10180 \t Train Loss: 1.0986121892929077 \t Accuracy: 0.00\n",
            "Iteration: 10190 \t Train Loss: 1.0986121892929077 \t Accuracy: 100.00\n",
            "Iteration: 10200 \t Train Loss: 1.0986121892929077 \t Accuracy: 100.00\n",
            "Iteration: 10210 \t Train Loss: 1.0986121892929077 \t Accuracy: 0.00\n",
            "Iteration: 10220 \t Train Loss: 1.0986121892929077 \t Accuracy: 0.00\n",
            "Iteration: 10230 \t Train Loss: 1.0986121892929077 \t Accuracy: 0.00\n",
            "Iteration: 10240 \t Train Loss: 1.0986121892929077 \t Accuracy: 100.00\n",
            "Iteration: 10250 \t Train Loss: 1.0986121892929077 \t Accuracy: 100.00\n",
            "Iteration: 10260 \t Train Loss: 1.0986121892929077 \t Accuracy: 0.00\n",
            "Iteration: 10270 \t Train Loss: 1.0986121892929077 \t Accuracy: 100.00\n",
            "Iteration: 10280 \t Train Loss: 1.0986121892929077 \t Accuracy: 0.00\n",
            "Iteration: 10290 \t Train Loss: 1.0986121892929077 \t Accuracy: 100.00\n",
            "Iteration: 10300 \t Train Loss: 1.0986121892929077 \t Accuracy: 100.00\n",
            "Iteration: 10310 \t Train Loss: 1.0986121892929077 \t Accuracy: 100.00\n",
            "Iteration: 10320 \t Train Loss: 1.0986121892929077 \t Accuracy: 0.00\n",
            "Iteration: 10330 \t Train Loss: 1.0986121892929077 \t Accuracy: 0.00\n",
            "Iteration: 10340 \t Train Loss: 1.0986121892929077 \t Accuracy: 100.00\n",
            "Iteration: 10350 \t Train Loss: 1.0986121892929077 \t Accuracy: 100.00\n",
            "Iteration: 10360 \t Train Loss: 1.0986121892929077 \t Accuracy: 100.00\n",
            "Iteration: 10370 \t Train Loss: 1.0986121892929077 \t Accuracy: 100.00\n",
            "Iteration: 10380 \t Train Loss: 1.0986121892929077 \t Accuracy: 0.00\n",
            "Iteration: 10390 \t Train Loss: 1.0986121892929077 \t Accuracy: 0.00\n",
            "Iteration: 10400 \t Train Loss: 1.0986121892929077 \t Accuracy: 0.00\n",
            "Iteration: 10410 \t Train Loss: 1.0986121892929077 \t Accuracy: 100.00\n",
            "Iteration: 10420 \t Train Loss: 1.0986121892929077 \t Accuracy: 100.00\n",
            "Iteration: 10430 \t Train Loss: 1.0986121892929077 \t Accuracy: 0.00\n",
            "Iteration: 10440 \t Train Loss: 1.0986121892929077 \t Accuracy: 100.00\n",
            "Iteration: 10450 \t Train Loss: 1.0986121892929077 \t Accuracy: 0.00\n",
            "Iteration: 10460 \t Train Loss: 1.0986121892929077 \t Accuracy: 0.00\n",
            "Iteration: 10470 \t Train Loss: 1.0986121892929077 \t Accuracy: 0.00\n",
            "Iteration: 10480 \t Train Loss: 1.0986121892929077 \t Accuracy: 0.00\n",
            "Iteration: 10490 \t Train Loss: 1.0986121892929077 \t Accuracy: 0.00\n",
            "Iteration: 10500 \t Train Loss: 1.0986121892929077 \t Accuracy: 100.00\n",
            "Iteration: 10510 \t Train Loss: 0.5514448285102844 \t Accuracy: 100.00\n",
            "Iteration: 10520 \t Train Loss: 0.5514448285102844 \t Accuracy: 100.00\n",
            "Iteration: 10530 \t Train Loss: 0.5514448285102844 \t Accuracy: 100.00\n",
            "Iteration: 10540 \t Train Loss: 1.5514448881149292 \t Accuracy: 0.00\n",
            "Iteration: 10550 \t Train Loss: 0.5514448285102844 \t Accuracy: 100.00\n",
            "Iteration: 10560 \t Train Loss: 0.5514448285102844 \t Accuracy: 100.00\n",
            "Iteration: 10570 \t Train Loss: 1.5514448881149292 \t Accuracy: 0.00\n",
            "Iteration: 10580 \t Train Loss: 1.5514448881149292 \t Accuracy: 0.00\n",
            "Iteration: 10590 \t Train Loss: 0.5514448285102844 \t Accuracy: 100.00\n",
            "Iteration: 10600 \t Train Loss: 0.5514448285102844 \t Accuracy: 100.00\n",
            "Iteration: 10610 \t Train Loss: 1.5514448881149292 \t Accuracy: 0.00\n",
            "Iteration: 10620 \t Train Loss: 0.5514448285102844 \t Accuracy: 100.00\n",
            "Iteration: 10630 \t Train Loss: 1.5514448881149292 \t Accuracy: 0.00\n",
            "Iteration: 10640 \t Train Loss: 0.5514448285102844 \t Accuracy: 100.00\n",
            "Iteration: 10650 \t Train Loss: 1.5514448881149292 \t Accuracy: 0.00\n",
            "Iteration: 10660 \t Train Loss: 0.5514448285102844 \t Accuracy: 100.00\n",
            "Iteration: 10670 \t Train Loss: 1.5514448881149292 \t Accuracy: 0.00\n",
            "Iteration: 10680 \t Train Loss: 0.5514448285102844 \t Accuracy: 100.00\n",
            "Iteration: 10690 \t Train Loss: 1.5514448881149292 \t Accuracy: 0.00\n",
            "Iteration: 10700 \t Train Loss: 1.5514448881149292 \t Accuracy: 0.00\n",
            "Iteration: 10710 \t Train Loss: 0.5514448285102844 \t Accuracy: 100.00\n",
            "Iteration: 10720 \t Train Loss: 0.5514448285102844 \t Accuracy: 100.00\n",
            "Iteration: 10730 \t Train Loss: 0.5514448285102844 \t Accuracy: 100.00\n",
            "Iteration: 10740 \t Train Loss: 1.5514448881149292 \t Accuracy: 0.00\n",
            "Iteration: 10750 \t Train Loss: 1.5514448881149292 \t Accuracy: 0.00\n",
            "Iteration: 10760 \t Train Loss: 0.5514448285102844 \t Accuracy: 100.00\n",
            "Iteration: 10770 \t Train Loss: 1.5514448881149292 \t Accuracy: 0.00\n",
            "Iteration: 10780 \t Train Loss: 1.5514448881149292 \t Accuracy: 0.00\n",
            "Iteration: 10790 \t Train Loss: 1.5514448881149292 \t Accuracy: 0.00\n",
            "Iteration: 10800 \t Train Loss: 0.5514448285102844 \t Accuracy: 100.00\n",
            "Iteration: 10810 \t Train Loss: 0.5514448285102844 \t Accuracy: 100.00\n",
            "Iteration: 10820 \t Train Loss: 0.5514448285102844 \t Accuracy: 100.00\n",
            "Iteration: 10830 \t Train Loss: 0.5514448285102844 \t Accuracy: 100.00\n",
            "Iteration: 10840 \t Train Loss: 0.5514448285102844 \t Accuracy: 100.00\n",
            "Iteration: 10850 \t Train Loss: 1.5514448881149292 \t Accuracy: 0.00\n",
            "Iteration: 10860 \t Train Loss: 0.5514448285102844 \t Accuracy: 100.00\n",
            "Iteration: 10870 \t Train Loss: 0.5514448285102844 \t Accuracy: 100.00\n",
            "Iteration: 10880 \t Train Loss: 0.5514448285102844 \t Accuracy: 100.00\n",
            "Iteration: 10890 \t Train Loss: 0.5514448285102844 \t Accuracy: 100.00\n",
            "Iteration: 10900 \t Train Loss: 0.5514448285102844 \t Accuracy: 100.00\n",
            "Iteration: 10910 \t Train Loss: 0.5514448285102844 \t Accuracy: 100.00\n",
            "Iteration: 10920 \t Train Loss: 0.5514448285102844 \t Accuracy: 100.00\n",
            "Iteration: 10930 \t Train Loss: 0.5514448285102844 \t Accuracy: 100.00\n",
            "Iteration: 10940 \t Train Loss: 1.5514448881149292 \t Accuracy: 0.00\n",
            "Iteration: 10950 \t Train Loss: 0.5514448285102844 \t Accuracy: 100.00\n",
            "Iteration: 10960 \t Train Loss: 0.5514448285102844 \t Accuracy: 100.00\n",
            "Iteration: 10970 \t Train Loss: 1.5514448881149292 \t Accuracy: 0.00\n",
            "Iteration: 10980 \t Train Loss: 1.5514448881149292 \t Accuracy: 0.00\n",
            "Iteration: 10990 \t Train Loss: 0.5514448285102844 \t Accuracy: 100.00\n",
            "Iteration: 11000 \t Train Loss: 1.5514448881149292 \t Accuracy: 0.00\n",
            "Iteration: 11010 \t Train Loss: 0.5514448285102844 \t Accuracy: 100.00\n",
            "Iteration: 11020 \t Train Loss: 1.5514448881149292 \t Accuracy: 0.00\n",
            "Iteration: 11030 \t Train Loss: 1.5514448881149292 \t Accuracy: 0.00\n",
            "Iteration: 11040 \t Train Loss: 1.5514448881149292 \t Accuracy: 0.00\n",
            "Iteration: 11050 \t Train Loss: 1.5514448881149292 \t Accuracy: 0.00\n",
            "Iteration: 11060 \t Train Loss: 1.5514448881149292 \t Accuracy: 0.00\n",
            "Iteration: 11070 \t Train Loss: 1.5514448881149292 \t Accuracy: 0.00\n",
            "Iteration: 11080 \t Train Loss: 0.5514448285102844 \t Accuracy: 100.00\n",
            "Iteration: 11090 \t Train Loss: 1.5514448881149292 \t Accuracy: 0.00\n",
            "Iteration: 11100 \t Train Loss: 1.5514448881149292 \t Accuracy: 0.00\n",
            "Iteration: 11110 \t Train Loss: 0.5514448285102844 \t Accuracy: 100.00\n",
            "Iteration: 11120 \t Train Loss: 0.5514448285102844 \t Accuracy: 100.00\n",
            "Iteration: 11130 \t Train Loss: 0.5514448285102844 \t Accuracy: 100.00\n",
            "Iteration: 11140 \t Train Loss: 0.5514448285102844 \t Accuracy: 100.00\n",
            "Iteration: 11150 \t Train Loss: 0.5514448285102844 \t Accuracy: 100.00\n",
            "Iteration: 11160 \t Train Loss: 0.5514448285102844 \t Accuracy: 100.00\n",
            "Iteration: 11170 \t Train Loss: 1.5514448881149292 \t Accuracy: 0.00\n",
            "Iteration: 11180 \t Train Loss: 1.5514448881149292 \t Accuracy: 0.00\n",
            "Iteration: 11190 \t Train Loss: 0.5514448285102844 \t Accuracy: 100.00\n",
            "Iteration: 11200 \t Train Loss: 0.5514448285102844 \t Accuracy: 100.00\n",
            "Iteration: 11210 \t Train Loss: 1.5514448881149292 \t Accuracy: 0.00\n",
            "Iteration: 11220 \t Train Loss: 1.5514448881149292 \t Accuracy: 0.00\n",
            "Iteration: 11230 \t Train Loss: 0.5514448285102844 \t Accuracy: 100.00\n",
            "Iteration: 11240 \t Train Loss: 0.5514448285102844 \t Accuracy: 100.00\n",
            "Iteration: 11250 \t Train Loss: 0.5514448285102844 \t Accuracy: 100.00\n",
            "Iteration: 11260 \t Train Loss: 0.5514448285102844 \t Accuracy: 100.00\n",
            "Iteration: 11270 \t Train Loss: 0.5514448285102844 \t Accuracy: 100.00\n",
            "Iteration: 11280 \t Train Loss: 0.5514448285102844 \t Accuracy: 100.00\n",
            "Iteration: 11290 \t Train Loss: 0.5514448285102844 \t Accuracy: 100.00\n",
            "Iteration: 11300 \t Train Loss: 0.5514448285102844 \t Accuracy: 100.00\n",
            "Iteration: 11310 \t Train Loss: 1.5514448881149292 \t Accuracy: 0.00\n",
            "Iteration: 11320 \t Train Loss: 1.5514448881149292 \t Accuracy: 0.00\n",
            "Iteration: 11330 \t Train Loss: 0.5514448285102844 \t Accuracy: 100.00\n",
            "Iteration: 11340 \t Train Loss: 1.5514448881149292 \t Accuracy: 0.00\n",
            "Iteration: 11350 \t Train Loss: 0.5514448285102844 \t Accuracy: 100.00\n",
            "Iteration: 11360 \t Train Loss: 1.5514448881149292 \t Accuracy: 0.00\n",
            "Iteration: 11370 \t Train Loss: 1.5514448881149292 \t Accuracy: 0.00\n",
            "Iteration: 11380 \t Train Loss: 1.5514448881149292 \t Accuracy: 0.00\n",
            "Iteration: 11390 \t Train Loss: 1.5514448881149292 \t Accuracy: 0.00\n",
            "Iteration: 11400 \t Train Loss: 1.5514448881149292 \t Accuracy: 0.00\n",
            "Iteration: 11410 \t Train Loss: 0.5514448285102844 \t Accuracy: 100.00\n",
            "Iteration: 11420 \t Train Loss: 1.5514448881149292 \t Accuracy: 0.00\n",
            "Iteration: 11430 \t Train Loss: 1.5514448881149292 \t Accuracy: 0.00\n",
            "Iteration: 11440 \t Train Loss: 0.5514448285102844 \t Accuracy: 100.00\n",
            "Iteration: 11450 \t Train Loss: 1.5514448881149292 \t Accuracy: 0.00\n",
            "Iteration: 11460 \t Train Loss: 0.5514448285102844 \t Accuracy: 100.00\n",
            "Iteration: 11470 \t Train Loss: 0.5514448285102844 \t Accuracy: 100.00\n",
            "Iteration: 11480 \t Train Loss: 0.5514448285102844 \t Accuracy: 100.00\n",
            "Iteration: 11490 \t Train Loss: 1.5514448881149292 \t Accuracy: 0.00\n",
            "Iteration: 11500 \t Train Loss: 0.5514448285102844 \t Accuracy: 100.00\n",
            "Iteration: 11510 \t Train Loss: 1.5514448881149292 \t Accuracy: 0.00\n",
            "Iteration: 11520 \t Train Loss: 1.5514448881149292 \t Accuracy: 0.00\n",
            "Iteration: 11530 \t Train Loss: 0.5514448285102844 \t Accuracy: 100.00\n",
            "Iteration: 11540 \t Train Loss: 1.5514448881149292 \t Accuracy: 0.00\n",
            "Iteration: 11550 \t Train Loss: 0.5514448285102844 \t Accuracy: 100.00\n",
            "Iteration: 11560 \t Train Loss: 0.5514448285102844 \t Accuracy: 100.00\n",
            "Iteration: 11570 \t Train Loss: 0.5514448285102844 \t Accuracy: 100.00\n",
            "Iteration: 11580 \t Train Loss: 0.5514448285102844 \t Accuracy: 100.00\n",
            "Iteration: 11590 \t Train Loss: 0.5514448285102844 \t Accuracy: 100.00\n",
            "Iteration: 11600 \t Train Loss: 0.5514448285102844 \t Accuracy: 100.00\n",
            "Iteration: 11610 \t Train Loss: 0.5514448285102844 \t Accuracy: 100.00\n",
            "Iteration: 11620 \t Train Loss: 1.5514448881149292 \t Accuracy: 0.00\n",
            "Iteration: 11630 \t Train Loss: 1.5514448881149292 \t Accuracy: 0.00\n",
            "Iteration: 11640 \t Train Loss: 1.5514448881149292 \t Accuracy: 0.00\n",
            "Iteration: 11650 \t Train Loss: 0.5514448285102844 \t Accuracy: 100.00\n",
            "Iteration: 11660 \t Train Loss: 0.5514448285102844 \t Accuracy: 100.00\n",
            "Iteration: 11670 \t Train Loss: 0.5514448285102844 \t Accuracy: 100.00\n",
            "Iteration: 11680 \t Train Loss: 0.5514448285102844 \t Accuracy: 100.00\n",
            "Iteration: 11690 \t Train Loss: 1.5514448881149292 \t Accuracy: 0.00\n",
            "Iteration: 11700 \t Train Loss: 1.5514448881149292 \t Accuracy: 0.00\n",
            "Iteration: 11710 \t Train Loss: 1.5514448881149292 \t Accuracy: 0.00\n",
            "Iteration: 11720 \t Train Loss: 1.5514448881149292 \t Accuracy: 0.00\n",
            "Iteration: 11730 \t Train Loss: 1.5514448881149292 \t Accuracy: 0.00\n",
            "Iteration: 11740 \t Train Loss: 1.5514448881149292 \t Accuracy: 0.00\n",
            "Iteration: 11750 \t Train Loss: 1.5514448881149292 \t Accuracy: 0.00\n",
            "Iteration: 11760 \t Train Loss: 1.5514448881149292 \t Accuracy: 0.00\n",
            "Iteration: 11770 \t Train Loss: 0.5514448285102844 \t Accuracy: 100.00\n",
            "Iteration: 11780 \t Train Loss: 0.5514448285102844 \t Accuracy: 100.00\n",
            "Iteration: 11790 \t Train Loss: 0.5514448285102844 \t Accuracy: 100.00\n",
            "Iteration: 11800 \t Train Loss: 0.5514448285102844 \t Accuracy: 100.00\n",
            "Iteration: 11810 \t Train Loss: 0.5514448285102844 \t Accuracy: 100.00\n",
            "Iteration: 11820 \t Train Loss: 0.5514448285102844 \t Accuracy: 100.00\n",
            "Iteration: 11830 \t Train Loss: 0.5514448285102844 \t Accuracy: 100.00\n",
            "Iteration: 11840 \t Train Loss: 0.5514448285102844 \t Accuracy: 100.00\n",
            "Iteration: 11850 \t Train Loss: 1.5514448881149292 \t Accuracy: 0.00\n",
            "Iteration: 11860 \t Train Loss: 0.5514448285102844 \t Accuracy: 100.00\n",
            "Iteration: 11870 \t Train Loss: 0.5514448285102844 \t Accuracy: 100.00\n",
            "Iteration: 11880 \t Train Loss: 1.5514448881149292 \t Accuracy: 0.00\n",
            "Iteration: 11890 \t Train Loss: 0.5514448285102844 \t Accuracy: 100.00\n",
            "Iteration: 11900 \t Train Loss: 0.5514448285102844 \t Accuracy: 100.00\n",
            "Iteration: 11910 \t Train Loss: 1.5514448881149292 \t Accuracy: 0.00\n",
            "Iteration: 11920 \t Train Loss: 0.5514448285102844 \t Accuracy: 100.00\n",
            "Iteration: 11930 \t Train Loss: 1.5514448881149292 \t Accuracy: 0.00\n",
            "Iteration: 11940 \t Train Loss: 0.5514448285102844 \t Accuracy: 100.00\n",
            "Iteration: 11950 \t Train Loss: 0.5514448285102844 \t Accuracy: 100.00\n",
            "Iteration: 11960 \t Train Loss: 0.5514448285102844 \t Accuracy: 100.00\n",
            "Iteration: 11970 \t Train Loss: 0.5514448285102844 \t Accuracy: 100.00\n",
            "Iteration: 11980 \t Train Loss: 0.5514448285102844 \t Accuracy: 100.00\n",
            "Iteration: 11990 \t Train Loss: 0.5514448285102844 \t Accuracy: 100.00\n",
            "Iteration: 12000 \t Train Loss: 1.5514448881149292 \t Accuracy: 0.00\n",
            "Iteration: 12010 \t Train Loss: 1.5514448881149292 \t Accuracy: 0.00\n",
            "Iteration: 12020 \t Train Loss: 1.5514448881149292 \t Accuracy: 0.00\n",
            "Iteration: 12030 \t Train Loss: 0.5514448285102844 \t Accuracy: 100.00\n",
            "Iteration: 12040 \t Train Loss: 0.5514448285102844 \t Accuracy: 100.00\n",
            "Iteration: 12050 \t Train Loss: 0.5514448285102844 \t Accuracy: 100.00\n",
            "Iteration: 12060 \t Train Loss: 0.5514448285102844 \t Accuracy: 100.00\n",
            "Iteration: 12070 \t Train Loss: 1.5514448881149292 \t Accuracy: 0.00\n",
            "Iteration: 12080 \t Train Loss: 0.5514448285102844 \t Accuracy: 100.00\n",
            "Iteration: 12090 \t Train Loss: 0.5514448285102844 \t Accuracy: 100.00\n",
            "Iteration: 12100 \t Train Loss: 1.5514448881149292 \t Accuracy: 0.00\n",
            "Iteration: 12110 \t Train Loss: 1.5514448881149292 \t Accuracy: 0.00\n",
            "Iteration: 12120 \t Train Loss: 0.5514448285102844 \t Accuracy: 100.00\n",
            "Iteration: 12130 \t Train Loss: 1.5514448881149292 \t Accuracy: 0.00\n",
            "Iteration: 12140 \t Train Loss: 1.5514448881149292 \t Accuracy: 0.00\n",
            "Iteration: 12150 \t Train Loss: 0.5514448285102844 \t Accuracy: 100.00\n",
            "Iteration: 12160 \t Train Loss: 1.5514448881149292 \t Accuracy: 0.00\n",
            "Iteration: 12170 \t Train Loss: 0.5514448285102844 \t Accuracy: 100.00\n",
            "Iteration: 12180 \t Train Loss: 0.5514448285102844 \t Accuracy: 100.00\n",
            "Iteration: 12190 \t Train Loss: 0.5514448285102844 \t Accuracy: 100.00\n",
            "Iteration: 12200 \t Train Loss: 1.5514448881149292 \t Accuracy: 0.00\n",
            "Iteration: 12210 \t Train Loss: 0.5514448285102844 \t Accuracy: 100.00\n",
            "Iteration: 12220 \t Train Loss: 1.5514448881149292 \t Accuracy: 0.00\n",
            "Iteration: 12230 \t Train Loss: 0.5514448285102844 \t Accuracy: 100.00\n",
            "Iteration: 12240 \t Train Loss: 1.5514448881149292 \t Accuracy: 0.00\n",
            "Iteration: 12250 \t Train Loss: 0.5514448285102844 \t Accuracy: 100.00\n",
            "Iteration: 12260 \t Train Loss: 1.5514448881149292 \t Accuracy: 0.00\n",
            "Iteration: 12270 \t Train Loss: 1.5514448881149292 \t Accuracy: 0.00\n",
            "Iteration: 12280 \t Train Loss: 0.5514448285102844 \t Accuracy: 100.00\n",
            "Iteration: 12290 \t Train Loss: 1.5514448881149292 \t Accuracy: 0.00\n",
            "Iteration: 12300 \t Train Loss: 0.5514448285102844 \t Accuracy: 100.00\n",
            "Iteration: 12310 \t Train Loss: 1.5514448881149292 \t Accuracy: 0.00\n",
            "Iteration: 12320 \t Train Loss: 0.5514448285102844 \t Accuracy: 100.00\n",
            "Iteration: 12330 \t Train Loss: 1.5514448881149292 \t Accuracy: 0.00\n",
            "Iteration: 12340 \t Train Loss: 1.5514448881149292 \t Accuracy: 0.00\n",
            "Iteration: 12350 \t Train Loss: 1.5514448881149292 \t Accuracy: 0.00\n",
            "Iteration: 12360 \t Train Loss: 1.5514448881149292 \t Accuracy: 0.00\n",
            "Iteration: 12370 \t Train Loss: 0.5514448285102844 \t Accuracy: 100.00\n",
            "Iteration: 12380 \t Train Loss: 0.5514448285102844 \t Accuracy: 100.00\n",
            "Iteration: 12390 \t Train Loss: 1.5514448881149292 \t Accuracy: 0.00\n",
            "Iteration: 12400 \t Train Loss: 0.5514448285102844 \t Accuracy: 100.00\n",
            "Iteration: 12410 \t Train Loss: 0.5514448285102844 \t Accuracy: 100.00\n",
            "Iteration: 12420 \t Train Loss: 1.5514448881149292 \t Accuracy: 0.00\n",
            "Iteration: 12430 \t Train Loss: 1.5514448881149292 \t Accuracy: 0.00\n",
            "Iteration: 12440 \t Train Loss: 1.5514448881149292 \t Accuracy: 0.00\n",
            "Iteration: 12450 \t Train Loss: 0.5514448285102844 \t Accuracy: 100.00\n",
            "Iteration: 12460 \t Train Loss: 0.5514448285102844 \t Accuracy: 100.00\n",
            "Iteration: 12470 \t Train Loss: 1.5514448881149292 \t Accuracy: 0.00\n",
            "Iteration: 12480 \t Train Loss: 0.5514448285102844 \t Accuracy: 100.00\n",
            "Iteration: 12490 \t Train Loss: 1.5514448881149292 \t Accuracy: 0.00\n",
            "Iteration: 12500 \t Train Loss: 1.5514448881149292 \t Accuracy: 0.00\n",
            "Iteration: 12510 \t Train Loss: 0.5514448285102844 \t Accuracy: 100.00\n",
            "Iteration: 12520 \t Train Loss: 1.5514448881149292 \t Accuracy: 0.00\n",
            "Iteration: 12530 \t Train Loss: 0.5514448285102844 \t Accuracy: 100.00\n",
            "Iteration: 12540 \t Train Loss: 1.5514448881149292 \t Accuracy: 0.00\n",
            "Iteration: 12550 \t Train Loss: 0.5514448285102844 \t Accuracy: 100.00\n",
            "Iteration: 12560 \t Train Loss: 1.5514448881149292 \t Accuracy: 0.00\n",
            "Iteration: 12570 \t Train Loss: 0.5514448285102844 \t Accuracy: 100.00\n",
            "Iteration: 12580 \t Train Loss: 1.5514448881149292 \t Accuracy: 0.00\n",
            "Iteration: 12590 \t Train Loss: 0.5514448285102844 \t Accuracy: 100.00\n",
            "Iteration: 12600 \t Train Loss: 1.5514448881149292 \t Accuracy: 0.00\n",
            "Iteration: 12610 \t Train Loss: 0.5514448285102844 \t Accuracy: 100.00\n",
            "Iteration: 12620 \t Train Loss: 1.5514448881149292 \t Accuracy: 0.00\n",
            "Iteration: 12630 \t Train Loss: 1.5514448881149292 \t Accuracy: 0.00\n",
            "Iteration: 12640 \t Train Loss: 0.5514448285102844 \t Accuracy: 100.00\n",
            "Iteration: 12650 \t Train Loss: 0.5514448285102844 \t Accuracy: 100.00\n",
            "Iteration: 12660 \t Train Loss: 0.5514448285102844 \t Accuracy: 100.00\n",
            "Iteration: 12670 \t Train Loss: 1.5514448881149292 \t Accuracy: 0.00\n",
            "Iteration: 12680 \t Train Loss: 0.5514448285102844 \t Accuracy: 100.00\n",
            "Iteration: 12690 \t Train Loss: 0.5514448285102844 \t Accuracy: 100.00\n",
            "Iteration: 12700 \t Train Loss: 1.5514448881149292 \t Accuracy: 0.00\n",
            "Iteration: 12710 \t Train Loss: 0.5514448285102844 \t Accuracy: 100.00\n",
            "Iteration: 12720 \t Train Loss: 0.5514448285102844 \t Accuracy: 100.00\n",
            "Iteration: 12730 \t Train Loss: 0.5514448285102844 \t Accuracy: 100.00\n",
            "Iteration: 12740 \t Train Loss: 1.5514448881149292 \t Accuracy: 0.00\n",
            "Iteration: 12750 \t Train Loss: 0.5514448285102844 \t Accuracy: 100.00\n",
            "Iteration: 12760 \t Train Loss: 0.5514448285102844 \t Accuracy: 100.00\n",
            "Iteration: 12770 \t Train Loss: 0.5514448285102844 \t Accuracy: 100.00\n",
            "Iteration: 12780 \t Train Loss: 1.5514448881149292 \t Accuracy: 0.00\n",
            "Iteration: 12790 \t Train Loss: 1.5514448881149292 \t Accuracy: 0.00\n",
            "Iteration: 12800 \t Train Loss: 1.5514448881149292 \t Accuracy: 0.00\n",
            "Iteration: 12810 \t Train Loss: 0.5514448285102844 \t Accuracy: 100.00\n",
            "Iteration: 12820 \t Train Loss: 1.5514448881149292 \t Accuracy: 0.00\n",
            "Iteration: 12830 \t Train Loss: 1.5514448881149292 \t Accuracy: 0.00\n",
            "Iteration: 12840 \t Train Loss: 0.5514448285102844 \t Accuracy: 100.00\n",
            "Iteration: 12850 \t Train Loss: 0.5514448285102844 \t Accuracy: 100.00\n",
            "Iteration: 12860 \t Train Loss: 0.5514448285102844 \t Accuracy: 100.00\n",
            "Iteration: 12870 \t Train Loss: 1.5514448881149292 \t Accuracy: 0.00\n",
            "Iteration: 12880 \t Train Loss: 0.5514448285102844 \t Accuracy: 100.00\n",
            "Iteration: 12890 \t Train Loss: 1.5514448881149292 \t Accuracy: 0.00\n",
            "Iteration: 12900 \t Train Loss: 1.5514448881149292 \t Accuracy: 0.00\n",
            "Iteration: 12910 \t Train Loss: 1.5514448881149292 \t Accuracy: 0.00\n",
            "Iteration: 12920 \t Train Loss: 0.5514448285102844 \t Accuracy: 100.00\n",
            "Iteration: 12930 \t Train Loss: 0.5514448285102844 \t Accuracy: 100.00\n",
            "Iteration: 12940 \t Train Loss: 0.5514448285102844 \t Accuracy: 100.00\n",
            "Iteration: 12950 \t Train Loss: 0.5514448285102844 \t Accuracy: 100.00\n",
            "Iteration: 12960 \t Train Loss: 0.5514448285102844 \t Accuracy: 100.00\n",
            "Iteration: 12970 \t Train Loss: 0.5514448285102844 \t Accuracy: 100.00\n",
            "Iteration: 12980 \t Train Loss: 0.5514448285102844 \t Accuracy: 100.00\n",
            "Iteration: 12990 \t Train Loss: 1.5514448881149292 \t Accuracy: 0.00\n",
            "Iteration: 13000 \t Train Loss: 0.5514448285102844 \t Accuracy: 100.00\n",
            "Iteration: 13010 \t Train Loss: 0.5514448285102844 \t Accuracy: 100.00\n"
          ]
        }
      ]
    },
    {
      "cell_type": "code",
      "source": [
        "print(len(acc_hist))"
      ],
      "metadata": {
        "colab": {
          "base_uri": "https://localhost:8080/"
        },
        "id": "adwU-fAg7uBH",
        "outputId": "58b3c6b8-9445-480d-f1a1-174ebab278ce"
      },
      "execution_count": 35,
      "outputs": [
        {
          "output_type": "stream",
          "name": "stdout",
          "text": [
            "13012\n"
          ]
        }
      ]
    },
    {
      "cell_type": "code",
      "source": [
        "# Plot Training Accuracy\n",
        "fig = plt.figure(facecolor=\"w\")\n",
        "plt.plot(acc_hist)\n",
        "plt.title(\"Training Accuracy\")\n",
        "plt.xlabel(\"Timesteps, Epoch = 1\")\n",
        "plt.ylabel(\"Accuracy\")\n",
        "plt.show()"
      ],
      "metadata": {
        "colab": {
          "base_uri": "https://localhost:8080/",
          "height": 472
        },
        "id": "-b9HDbGv1lq5",
        "outputId": "0a79ddc0-a18c-48bc-babc-7a79344a56ea"
      },
      "execution_count": 41,
      "outputs": [
        {
          "output_type": "display_data",
          "data": {
            "text/plain": [
              "<Figure size 640x480 with 1 Axes>"
            ],
            "image/png": "[encoded data removed]"
          },
          "metadata": {}
        }
      ]
    },
    {
      "cell_type": "code",
      "source": [
        "#Plot Training Loss\n",
        "fig = plt.figure(facecolor=\"w\")\n",
        "plt.plot(loss_hist)\n",
        "plt.title(\"Training Loss\")\n",
        "plt.xlabel(\"Timesteps for Epoch = 1\")\n",
        "plt.ylabel(\"Loss\")\n",
        "plt.show()"
      ],
      "metadata": {
        "colab": {
          "base_uri": "https://localhost:8080/",
          "height": 472
        },
        "id": "0OU2R-nI1ru-",
        "outputId": "3e6a1e72-c62e-4d4e-a16b-c5a460c040e9"
      },
      "execution_count": 40,
      "outputs": [
        {
          "output_type": "display_data",
          "data": {
            "text/plain": [
              "<Figure size 640x480 with 1 Axes>"
            ],
            "image/png": "[encoded data removed]"
          },
          "metadata": {}
        }
      ]
    },
    {
      "cell_type": "code",
      "source": [
        "def measure_accuracy(model, dataloader):\n",
        "  with torch.no_grad():\n",
        "    model.eval()\n",
        "    running_length = 0\n",
        "    running_accuracy = 0\n",
        "\n",
        "    for data, targets in iter(dataloader):\n",
        "      data = data.to(device)\n",
        "      targets = targets.to(device)\n",
        "\n",
        "      # forward-pass\n",
        "      spk_rec, _ = model(data)\n",
        "      spike_count = spk_rec.sum(0)\n",
        "      _, max_spike = spike_count.max(1)\n",
        "\n",
        "      # correct classes for one batch\n",
        "      num_correct = (max_spike == targets).sum()\n",
        "\n",
        "      # total accuracy\n",
        "      running_length += len(targets)\n",
        "      running_accuracy += num_correct\n",
        "\n",
        "    accuracy = (running_accuracy / running_length)\n",
        "\n",
        "    return accuracy.item()\n"
      ],
      "metadata": {
        "id": "_8bfmpz9mmUQ"
      },
      "execution_count": 36,
      "outputs": []
    },
    {
      "cell_type": "code",
      "source": [
        "print(f\"ConvNet Accuracy: {measure_accuracy(convnet, test_loader)}\")"
      ],
      "metadata": {
        "colab": {
          "base_uri": "https://localhost:8080/"
        },
        "id": "FmWnUnpT6KAJ",
        "outputId": "1e3b0b37-6468-4fbc-fac2-9195ddd62563"
      },
      "execution_count": 37,
      "outputs": [
        {
          "output_type": "stream",
          "name": "stdout",
          "text": [
            "ConvNet Accuracy: 0.547345757484436\n"
          ]
        }
      ]
    },
    {
      "cell_type": "code",
      "source": [],
      "metadata": {
        "id": "fjQOej8z1aLz"
      },
      "execution_count": null,
      "outputs": []
    }
  ],
  "metadata": {
    "colab": {
      "provenance": [],
      "gpuType": "T4",
      "collapsed_sections": [
        "HNxWksq0Bi13"
      ],
      "include_colab_link": true
    },
    "kernelspec": {
      "display_name": "Python 3",
      "name": "python3"
    },
    "language_info": {
      "name": "python"
    },
    "accelerator": "GPU"
  },
  "nbformat": 4,
  "nbformat_minor": 0
}